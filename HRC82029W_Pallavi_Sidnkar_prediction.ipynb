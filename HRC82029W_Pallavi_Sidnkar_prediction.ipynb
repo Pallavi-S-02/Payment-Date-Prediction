{
  "cells": [
    {
      "cell_type": "markdown",
      "metadata": {
        "id": "view-in-github",
        "colab_type": "text"
      },
      "source": [
        "<a href=\"https://colab.research.google.com/github/Pallavi-S-02/Payment-Date-Prediction/blob/main/HRC82029W_Pallavi_Sidnkar_prediction.ipynb\" target=\"_parent\"><img src=\"https://colab.research.google.com/assets/colab-badge.svg\" alt=\"Open In Colab\"/></a>"
      ]
    },
    {
      "cell_type": "markdown",
      "metadata": {
        "id": "wcq6dWzy1ZR0"
      },
      "source": [
        "# Payment Date Prediction "
      ],
      "id": "wcq6dWzy1ZR0"
    },
    {
      "cell_type": "code",
      "execution_count": null,
      "metadata": {
        "colab": {
          "base_uri": "https://localhost:8080/"
        },
        "id": "uYRq3-LDYdnb",
        "outputId": "202af410-cc0a-4eea-cad2-3e13c278a429"
      },
      "outputs": [
        {
          "output_type": "stream",
          "name": "stdout",
          "text": [
            "Drive already mounted at /content/drive; to attempt to forcibly remount, call drive.mount(\"/content/drive\", force_remount=True).\n"
          ]
        }
      ],
      "source": [
        "# Mounting the google drive\n",
        "from google.colab import drive\n",
        "drive.mount('/content/drive')"
      ],
      "id": "uYRq3-LDYdnb"
    },
    {
      "cell_type": "markdown",
      "metadata": {
        "id": "2778654e"
      },
      "source": [
        "\n",
        "### Importing related Libraries "
      ],
      "id": "2778654e"
    },
    {
      "cell_type": "code",
      "execution_count": null,
      "metadata": {
        "id": "304c9e38"
      },
      "outputs": [],
      "source": [
        "import numpy as np\n",
        "import pandas as pd\n",
        "import matplotlib.pyplot as plt\n",
        "%matplotlib inline\n",
        "import seaborn as sns\n",
        "import datetime as dt\n",
        "import warnings\n",
        "import plotly.express as px\n",
        "from sklearn.model_selection import train_test_split\n",
        "from sklearn.feature_selection import VarianceThreshold\n",
        "from sklearn.preprocessing import LabelEncoder, StandardScaler, MinMaxScaler, PowerTransformer\n",
        "warnings.filterwarnings(\"ignore\")"
      ],
      "id": "304c9e38"
    },
    {
      "cell_type": "markdown",
      "metadata": {
        "id": "8724f5ee"
      },
      "source": [
        "### Store the dataset into the Dataframe\n"
      ],
      "id": "8724f5ee"
    },
    {
      "cell_type": "code",
      "execution_count": null,
      "metadata": {
        "colab": {
          "base_uri": "https://localhost:8080/",
          "height": 357
        },
        "id": "415db50a",
        "outputId": "b7f06cb3-cc9a-434d-e289-890a541e649a"
      },
      "outputs": [
        {
          "output_type": "execute_result",
          "data": {
            "text/html": [
              "\n",
              "  <div id=\"df-d2cae460-585f-436f-89c3-d497c7208b9d\">\n",
              "    <div class=\"colab-df-container\">\n",
              "      <div>\n",
              "<style scoped>\n",
              "    .dataframe tbody tr th:only-of-type {\n",
              "        vertical-align: middle;\n",
              "    }\n",
              "\n",
              "    .dataframe tbody tr th {\n",
              "        vertical-align: top;\n",
              "    }\n",
              "\n",
              "    .dataframe thead th {\n",
              "        text-align: right;\n",
              "    }\n",
              "</style>\n",
              "<table border=\"1\" class=\"dataframe\">\n",
              "  <thead>\n",
              "    <tr style=\"text-align: right;\">\n",
              "      <th></th>\n",
              "      <th>business_code</th>\n",
              "      <th>cust_number</th>\n",
              "      <th>name_customer</th>\n",
              "      <th>clear_date</th>\n",
              "      <th>buisness_year</th>\n",
              "      <th>doc_id</th>\n",
              "      <th>posting_date</th>\n",
              "      <th>document_create_date</th>\n",
              "      <th>document_create_date.1</th>\n",
              "      <th>due_in_date</th>\n",
              "      <th>invoice_currency</th>\n",
              "      <th>document type</th>\n",
              "      <th>posting_id</th>\n",
              "      <th>area_business</th>\n",
              "      <th>total_open_amount</th>\n",
              "      <th>baseline_create_date</th>\n",
              "      <th>cust_payment_terms</th>\n",
              "      <th>invoice_id</th>\n",
              "      <th>isOpen</th>\n",
              "    </tr>\n",
              "  </thead>\n",
              "  <tbody>\n",
              "    <tr>\n",
              "      <th>0</th>\n",
              "      <td>U001</td>\n",
              "      <td>0200769623</td>\n",
              "      <td>WAL-MAR corp</td>\n",
              "      <td>2020-02-11 00:00:00</td>\n",
              "      <td>2020.0</td>\n",
              "      <td>1.930438e+09</td>\n",
              "      <td>2020-01-26</td>\n",
              "      <td>20200125</td>\n",
              "      <td>20200126</td>\n",
              "      <td>20200210.0</td>\n",
              "      <td>USD</td>\n",
              "      <td>RV</td>\n",
              "      <td>1.0</td>\n",
              "      <td>NaN</td>\n",
              "      <td>54273.28</td>\n",
              "      <td>20200126.0</td>\n",
              "      <td>NAH4</td>\n",
              "      <td>1.930438e+09</td>\n",
              "      <td>0</td>\n",
              "    </tr>\n",
              "    <tr>\n",
              "      <th>1</th>\n",
              "      <td>U001</td>\n",
              "      <td>0200980828</td>\n",
              "      <td>BEN E</td>\n",
              "      <td>2019-08-08 00:00:00</td>\n",
              "      <td>2019.0</td>\n",
              "      <td>1.929646e+09</td>\n",
              "      <td>2019-07-22</td>\n",
              "      <td>20190722</td>\n",
              "      <td>20190722</td>\n",
              "      <td>20190811.0</td>\n",
              "      <td>USD</td>\n",
              "      <td>RV</td>\n",
              "      <td>1.0</td>\n",
              "      <td>NaN</td>\n",
              "      <td>79656.60</td>\n",
              "      <td>20190722.0</td>\n",
              "      <td>NAD1</td>\n",
              "      <td>1.929646e+09</td>\n",
              "      <td>0</td>\n",
              "    </tr>\n",
              "    <tr>\n",
              "      <th>2</th>\n",
              "      <td>U001</td>\n",
              "      <td>0200792734</td>\n",
              "      <td>MDV/ trust</td>\n",
              "      <td>2019-12-30 00:00:00</td>\n",
              "      <td>2019.0</td>\n",
              "      <td>1.929874e+09</td>\n",
              "      <td>2019-09-14</td>\n",
              "      <td>20190914</td>\n",
              "      <td>20190914</td>\n",
              "      <td>20190929.0</td>\n",
              "      <td>USD</td>\n",
              "      <td>RV</td>\n",
              "      <td>1.0</td>\n",
              "      <td>NaN</td>\n",
              "      <td>2253.86</td>\n",
              "      <td>20190914.0</td>\n",
              "      <td>NAA8</td>\n",
              "      <td>1.929874e+09</td>\n",
              "      <td>0</td>\n",
              "    </tr>\n",
              "    <tr>\n",
              "      <th>3</th>\n",
              "      <td>CA02</td>\n",
              "      <td>0140105686</td>\n",
              "      <td>SYSC llc</td>\n",
              "      <td>NaN</td>\n",
              "      <td>2020.0</td>\n",
              "      <td>2.960623e+09</td>\n",
              "      <td>2020-03-30</td>\n",
              "      <td>20200330</td>\n",
              "      <td>20200330</td>\n",
              "      <td>20200410.0</td>\n",
              "      <td>CAD</td>\n",
              "      <td>RV</td>\n",
              "      <td>1.0</td>\n",
              "      <td>NaN</td>\n",
              "      <td>3299.70</td>\n",
              "      <td>20200331.0</td>\n",
              "      <td>CA10</td>\n",
              "      <td>2.960623e+09</td>\n",
              "      <td>1</td>\n",
              "    </tr>\n",
              "    <tr>\n",
              "      <th>4</th>\n",
              "      <td>U001</td>\n",
              "      <td>0200769623</td>\n",
              "      <td>WAL-MAR foundation</td>\n",
              "      <td>2019-11-25 00:00:00</td>\n",
              "      <td>2019.0</td>\n",
              "      <td>1.930148e+09</td>\n",
              "      <td>2019-11-13</td>\n",
              "      <td>20191113</td>\n",
              "      <td>20191113</td>\n",
              "      <td>20191128.0</td>\n",
              "      <td>USD</td>\n",
              "      <td>RV</td>\n",
              "      <td>1.0</td>\n",
              "      <td>NaN</td>\n",
              "      <td>33133.29</td>\n",
              "      <td>20191113.0</td>\n",
              "      <td>NAH4</td>\n",
              "      <td>1.930148e+09</td>\n",
              "      <td>0</td>\n",
              "    </tr>\n",
              "  </tbody>\n",
              "</table>\n",
              "</div>\n",
              "      <button class=\"colab-df-convert\" onclick=\"convertToInteractive('df-d2cae460-585f-436f-89c3-d497c7208b9d')\"\n",
              "              title=\"Convert this dataframe to an interactive table.\"\n",
              "              style=\"display:none;\">\n",
              "        \n",
              "  <svg xmlns=\"http://www.w3.org/2000/svg\" height=\"24px\"viewBox=\"0 0 24 24\"\n",
              "       width=\"24px\">\n",
              "    <path d=\"M0 0h24v24H0V0z\" fill=\"none\"/>\n",
              "    <path d=\"M18.56 5.44l.94 2.06.94-2.06 2.06-.94-2.06-.94-.94-2.06-.94 2.06-2.06.94zm-11 1L8.5 8.5l.94-2.06 2.06-.94-2.06-.94L8.5 2.5l-.94 2.06-2.06.94zm10 10l.94 2.06.94-2.06 2.06-.94-2.06-.94-.94-2.06-.94 2.06-2.06.94z\"/><path d=\"M17.41 7.96l-1.37-1.37c-.4-.4-.92-.59-1.43-.59-.52 0-1.04.2-1.43.59L10.3 9.45l-7.72 7.72c-.78.78-.78 2.05 0 2.83L4 21.41c.39.39.9.59 1.41.59.51 0 1.02-.2 1.41-.59l7.78-7.78 2.81-2.81c.8-.78.8-2.07 0-2.86zM5.41 20L4 18.59l7.72-7.72 1.47 1.35L5.41 20z\"/>\n",
              "  </svg>\n",
              "      </button>\n",
              "      \n",
              "  <style>\n",
              "    .colab-df-container {\n",
              "      display:flex;\n",
              "      flex-wrap:wrap;\n",
              "      gap: 12px;\n",
              "    }\n",
              "\n",
              "    .colab-df-convert {\n",
              "      background-color: #E8F0FE;\n",
              "      border: none;\n",
              "      border-radius: 50%;\n",
              "      cursor: pointer;\n",
              "      display: none;\n",
              "      fill: #1967D2;\n",
              "      height: 32px;\n",
              "      padding: 0 0 0 0;\n",
              "      width: 32px;\n",
              "    }\n",
              "\n",
              "    .colab-df-convert:hover {\n",
              "      background-color: #E2EBFA;\n",
              "      box-shadow: 0px 1px 2px rgba(60, 64, 67, 0.3), 0px 1px 3px 1px rgba(60, 64, 67, 0.15);\n",
              "      fill: #174EA6;\n",
              "    }\n",
              "\n",
              "    [theme=dark] .colab-df-convert {\n",
              "      background-color: #3B4455;\n",
              "      fill: #D2E3FC;\n",
              "    }\n",
              "\n",
              "    [theme=dark] .colab-df-convert:hover {\n",
              "      background-color: #434B5C;\n",
              "      box-shadow: 0px 1px 3px 1px rgba(0, 0, 0, 0.15);\n",
              "      filter: drop-shadow(0px 1px 2px rgba(0, 0, 0, 0.3));\n",
              "      fill: #FFFFFF;\n",
              "    }\n",
              "  </style>\n",
              "\n",
              "      <script>\n",
              "        const buttonEl =\n",
              "          document.querySelector('#df-d2cae460-585f-436f-89c3-d497c7208b9d button.colab-df-convert');\n",
              "        buttonEl.style.display =\n",
              "          google.colab.kernel.accessAllowed ? 'block' : 'none';\n",
              "\n",
              "        async function convertToInteractive(key) {\n",
              "          const element = document.querySelector('#df-d2cae460-585f-436f-89c3-d497c7208b9d');\n",
              "          const dataTable =\n",
              "            await google.colab.kernel.invokeFunction('convertToInteractive',\n",
              "                                                     [key], {});\n",
              "          if (!dataTable) return;\n",
              "\n",
              "          const docLinkHtml = 'Like what you see? Visit the ' +\n",
              "            '<a target=\"_blank\" href=https://colab.research.google.com/notebooks/data_table.ipynb>data table notebook</a>'\n",
              "            + ' to learn more about interactive tables.';\n",
              "          element.innerHTML = '';\n",
              "          dataTable['output_type'] = 'display_data';\n",
              "          await google.colab.output.renderOutput(dataTable, element);\n",
              "          const docLink = document.createElement('div');\n",
              "          docLink.innerHTML = docLinkHtml;\n",
              "          element.appendChild(docLink);\n",
              "        }\n",
              "      </script>\n",
              "    </div>\n",
              "  </div>\n",
              "  "
            ],
            "text/plain": [
              "  business_code cust_number  ...    invoice_id isOpen\n",
              "0          U001  0200769623  ...  1.930438e+09      0\n",
              "1          U001  0200980828  ...  1.929646e+09      0\n",
              "2          U001  0200792734  ...  1.929874e+09      0\n",
              "3          CA02  0140105686  ...  2.960623e+09      1\n",
              "4          U001  0200769623  ...  1.930148e+09      0\n",
              "\n",
              "[5 rows x 19 columns]"
            ]
          },
          "metadata": {},
          "execution_count": 391
        }
      ],
      "source": [
        "df = pd.read_csv(\"/content/drive/MyDrive/HighRadius_Project_Work/Dataset/dataset.csv\")\n",
        "df.head()"
      ],
      "id": "415db50a"
    },
    {
      "cell_type": "markdown",
      "metadata": {
        "id": "42e37f05"
      },
      "source": [
        "### Check the shape of the dataframe\n"
      ],
      "id": "42e37f05"
    },
    {
      "cell_type": "code",
      "execution_count": null,
      "metadata": {
        "colab": {
          "base_uri": "https://localhost:8080/"
        },
        "id": "27cc0907",
        "outputId": "f0c6a576-8874-4da4-c530-f3d1d126ba51"
      },
      "outputs": [
        {
          "output_type": "stream",
          "name": "stdout",
          "text": [
            "Shape of dataset is:  (50000, 19)\n"
          ]
        }
      ],
      "source": [
        "print(\"Shape of dataset is: \", df.shape)"
      ],
      "id": "27cc0907"
    },
    {
      "cell_type": "markdown",
      "metadata": {
        "id": "b68c955d"
      },
      "source": [
        "### Check the Detail information of the dataframe"
      ],
      "id": "b68c955d"
    },
    {
      "cell_type": "code",
      "execution_count": null,
      "metadata": {
        "colab": {
          "base_uri": "https://localhost:8080/"
        },
        "id": "e092ec9e",
        "outputId": "b622f41f-2dc3-4377-92b8-d1191b36ae70"
      },
      "outputs": [
        {
          "output_type": "stream",
          "name": "stdout",
          "text": [
            "<class 'pandas.core.frame.DataFrame'>\n",
            "RangeIndex: 50000 entries, 0 to 49999\n",
            "Data columns (total 19 columns):\n",
            " #   Column                  Non-Null Count  Dtype  \n",
            "---  ------                  --------------  -----  \n",
            " 0   business_code           50000 non-null  object \n",
            " 1   cust_number             50000 non-null  object \n",
            " 2   name_customer           50000 non-null  object \n",
            " 3   clear_date              40000 non-null  object \n",
            " 4   buisness_year           50000 non-null  float64\n",
            " 5   doc_id                  50000 non-null  float64\n",
            " 6   posting_date            50000 non-null  object \n",
            " 7   document_create_date    50000 non-null  int64  \n",
            " 8   document_create_date.1  50000 non-null  int64  \n",
            " 9   due_in_date             50000 non-null  float64\n",
            " 10  invoice_currency        50000 non-null  object \n",
            " 11  document type           50000 non-null  object \n",
            " 12  posting_id              50000 non-null  float64\n",
            " 13  area_business           0 non-null      float64\n",
            " 14  total_open_amount       50000 non-null  float64\n",
            " 15  baseline_create_date    50000 non-null  float64\n",
            " 16  cust_payment_terms      50000 non-null  object \n",
            " 17  invoice_id              49994 non-null  float64\n",
            " 18  isOpen                  50000 non-null  int64  \n",
            "dtypes: float64(8), int64(3), object(8)\n",
            "memory usage: 7.2+ MB\n"
          ]
        }
      ],
      "source": [
        "# Summary of the dataframe\n",
        "df.info()"
      ],
      "id": "e092ec9e"
    },
    {
      "cell_type": "markdown",
      "metadata": {
        "id": "112f2d0e"
      },
      "source": [
        "### Display All the column names"
      ],
      "id": "112f2d0e"
    },
    {
      "cell_type": "code",
      "execution_count": null,
      "metadata": {
        "colab": {
          "base_uri": "https://localhost:8080/"
        },
        "id": "1416e2fd",
        "outputId": "b38a47b5-f2fe-4153-f92d-b7d6f3b407e0"
      },
      "outputs": [
        {
          "output_type": "execute_result",
          "data": {
            "text/plain": [
              "Index(['business_code', 'cust_number', 'name_customer', 'clear_date',\n",
              "       'buisness_year', 'doc_id', 'posting_date', 'document_create_date',\n",
              "       'document_create_date.1', 'due_in_date', 'invoice_currency',\n",
              "       'document type', 'posting_id', 'area_business', 'total_open_amount',\n",
              "       'baseline_create_date', 'cust_payment_terms', 'invoice_id', 'isOpen'],\n",
              "      dtype='object')"
            ]
          },
          "metadata": {},
          "execution_count": 394
        }
      ],
      "source": [
        "df.columns"
      ],
      "id": "1416e2fd"
    },
    {
      "cell_type": "markdown",
      "metadata": {
        "id": "d465ed7a"
      },
      "source": [
        "### Describe the entire dataset"
      ],
      "id": "d465ed7a"
    },
    {
      "cell_type": "code",
      "execution_count": null,
      "metadata": {
        "colab": {
          "base_uri": "https://localhost:8080/",
          "height": 364
        },
        "id": "25f65e1b",
        "outputId": "4ac85480-3e2a-4fff-c797-5095e04744e0"
      },
      "outputs": [
        {
          "output_type": "execute_result",
          "data": {
            "text/html": [
              "\n",
              "  <div id=\"df-bdc9987e-91d9-4246-a498-7173b276caba\">\n",
              "    <div class=\"colab-df-container\">\n",
              "      <div>\n",
              "<style scoped>\n",
              "    .dataframe tbody tr th:only-of-type {\n",
              "        vertical-align: middle;\n",
              "    }\n",
              "\n",
              "    .dataframe tbody tr th {\n",
              "        vertical-align: top;\n",
              "    }\n",
              "\n",
              "    .dataframe thead th {\n",
              "        text-align: right;\n",
              "    }\n",
              "</style>\n",
              "<table border=\"1\" class=\"dataframe\">\n",
              "  <thead>\n",
              "    <tr style=\"text-align: right;\">\n",
              "      <th></th>\n",
              "      <th>buisness_year</th>\n",
              "      <th>doc_id</th>\n",
              "      <th>document_create_date</th>\n",
              "      <th>document_create_date.1</th>\n",
              "      <th>due_in_date</th>\n",
              "      <th>posting_id</th>\n",
              "      <th>area_business</th>\n",
              "      <th>total_open_amount</th>\n",
              "      <th>baseline_create_date</th>\n",
              "      <th>invoice_id</th>\n",
              "      <th>isOpen</th>\n",
              "    </tr>\n",
              "  </thead>\n",
              "  <tbody>\n",
              "    <tr>\n",
              "      <th>count</th>\n",
              "      <td>50000.000000</td>\n",
              "      <td>5.000000e+04</td>\n",
              "      <td>5.000000e+04</td>\n",
              "      <td>5.000000e+04</td>\n",
              "      <td>5.000000e+04</td>\n",
              "      <td>50000.0</td>\n",
              "      <td>0.0</td>\n",
              "      <td>50000.000000</td>\n",
              "      <td>5.000000e+04</td>\n",
              "      <td>4.999400e+04</td>\n",
              "      <td>50000.000000</td>\n",
              "    </tr>\n",
              "    <tr>\n",
              "      <th>mean</th>\n",
              "      <td>2019.305700</td>\n",
              "      <td>2.012238e+09</td>\n",
              "      <td>2.019351e+07</td>\n",
              "      <td>2.019354e+07</td>\n",
              "      <td>2.019368e+07</td>\n",
              "      <td>1.0</td>\n",
              "      <td>NaN</td>\n",
              "      <td>32337.021651</td>\n",
              "      <td>2.019354e+07</td>\n",
              "      <td>2.011340e+09</td>\n",
              "      <td>0.200000</td>\n",
              "    </tr>\n",
              "    <tr>\n",
              "      <th>std</th>\n",
              "      <td>0.460708</td>\n",
              "      <td>2.885235e+08</td>\n",
              "      <td>4.496041e+03</td>\n",
              "      <td>4.482134e+03</td>\n",
              "      <td>4.470614e+03</td>\n",
              "      <td>0.0</td>\n",
              "      <td>NaN</td>\n",
              "      <td>39205.975231</td>\n",
              "      <td>4.482701e+03</td>\n",
              "      <td>2.766335e+08</td>\n",
              "      <td>0.400004</td>\n",
              "    </tr>\n",
              "    <tr>\n",
              "      <th>min</th>\n",
              "      <td>2019.000000</td>\n",
              "      <td>1.928502e+09</td>\n",
              "      <td>2.018123e+07</td>\n",
              "      <td>2.018123e+07</td>\n",
              "      <td>2.018122e+07</td>\n",
              "      <td>1.0</td>\n",
              "      <td>NaN</td>\n",
              "      <td>0.720000</td>\n",
              "      <td>2.018121e+07</td>\n",
              "      <td>1.928502e+09</td>\n",
              "      <td>0.000000</td>\n",
              "    </tr>\n",
              "    <tr>\n",
              "      <th>25%</th>\n",
              "      <td>2019.000000</td>\n",
              "      <td>1.929342e+09</td>\n",
              "      <td>2.019050e+07</td>\n",
              "      <td>2.019051e+07</td>\n",
              "      <td>2.019052e+07</td>\n",
              "      <td>1.0</td>\n",
              "      <td>NaN</td>\n",
              "      <td>4928.312500</td>\n",
              "      <td>2.019050e+07</td>\n",
              "      <td>1.929342e+09</td>\n",
              "      <td>0.000000</td>\n",
              "    </tr>\n",
              "    <tr>\n",
              "      <th>50%</th>\n",
              "      <td>2019.000000</td>\n",
              "      <td>1.929964e+09</td>\n",
              "      <td>2.019091e+07</td>\n",
              "      <td>2.019091e+07</td>\n",
              "      <td>2.019093e+07</td>\n",
              "      <td>1.0</td>\n",
              "      <td>NaN</td>\n",
              "      <td>17609.010000</td>\n",
              "      <td>2.019091e+07</td>\n",
              "      <td>1.929964e+09</td>\n",
              "      <td>0.000000</td>\n",
              "    </tr>\n",
              "    <tr>\n",
              "      <th>75%</th>\n",
              "      <td>2020.000000</td>\n",
              "      <td>1.930619e+09</td>\n",
              "      <td>2.020013e+07</td>\n",
              "      <td>2.020013e+07</td>\n",
              "      <td>2.020022e+07</td>\n",
              "      <td>1.0</td>\n",
              "      <td>NaN</td>\n",
              "      <td>47133.635000</td>\n",
              "      <td>2.020013e+07</td>\n",
              "      <td>1.930619e+09</td>\n",
              "      <td>0.000000</td>\n",
              "    </tr>\n",
              "    <tr>\n",
              "      <th>max</th>\n",
              "      <td>2020.000000</td>\n",
              "      <td>9.500000e+09</td>\n",
              "      <td>2.020052e+07</td>\n",
              "      <td>2.020052e+07</td>\n",
              "      <td>2.020071e+07</td>\n",
              "      <td>1.0</td>\n",
              "      <td>NaN</td>\n",
              "      <td>668593.360000</td>\n",
              "      <td>2.020052e+07</td>\n",
              "      <td>2.960636e+09</td>\n",
              "      <td>1.000000</td>\n",
              "    </tr>\n",
              "  </tbody>\n",
              "</table>\n",
              "</div>\n",
              "      <button class=\"colab-df-convert\" onclick=\"convertToInteractive('df-bdc9987e-91d9-4246-a498-7173b276caba')\"\n",
              "              title=\"Convert this dataframe to an interactive table.\"\n",
              "              style=\"display:none;\">\n",
              "        \n",
              "  <svg xmlns=\"http://www.w3.org/2000/svg\" height=\"24px\"viewBox=\"0 0 24 24\"\n",
              "       width=\"24px\">\n",
              "    <path d=\"M0 0h24v24H0V0z\" fill=\"none\"/>\n",
              "    <path d=\"M18.56 5.44l.94 2.06.94-2.06 2.06-.94-2.06-.94-.94-2.06-.94 2.06-2.06.94zm-11 1L8.5 8.5l.94-2.06 2.06-.94-2.06-.94L8.5 2.5l-.94 2.06-2.06.94zm10 10l.94 2.06.94-2.06 2.06-.94-2.06-.94-.94-2.06-.94 2.06-2.06.94z\"/><path d=\"M17.41 7.96l-1.37-1.37c-.4-.4-.92-.59-1.43-.59-.52 0-1.04.2-1.43.59L10.3 9.45l-7.72 7.72c-.78.78-.78 2.05 0 2.83L4 21.41c.39.39.9.59 1.41.59.51 0 1.02-.2 1.41-.59l7.78-7.78 2.81-2.81c.8-.78.8-2.07 0-2.86zM5.41 20L4 18.59l7.72-7.72 1.47 1.35L5.41 20z\"/>\n",
              "  </svg>\n",
              "      </button>\n",
              "      \n",
              "  <style>\n",
              "    .colab-df-container {\n",
              "      display:flex;\n",
              "      flex-wrap:wrap;\n",
              "      gap: 12px;\n",
              "    }\n",
              "\n",
              "    .colab-df-convert {\n",
              "      background-color: #E8F0FE;\n",
              "      border: none;\n",
              "      border-radius: 50%;\n",
              "      cursor: pointer;\n",
              "      display: none;\n",
              "      fill: #1967D2;\n",
              "      height: 32px;\n",
              "      padding: 0 0 0 0;\n",
              "      width: 32px;\n",
              "    }\n",
              "\n",
              "    .colab-df-convert:hover {\n",
              "      background-color: #E2EBFA;\n",
              "      box-shadow: 0px 1px 2px rgba(60, 64, 67, 0.3), 0px 1px 3px 1px rgba(60, 64, 67, 0.15);\n",
              "      fill: #174EA6;\n",
              "    }\n",
              "\n",
              "    [theme=dark] .colab-df-convert {\n",
              "      background-color: #3B4455;\n",
              "      fill: #D2E3FC;\n",
              "    }\n",
              "\n",
              "    [theme=dark] .colab-df-convert:hover {\n",
              "      background-color: #434B5C;\n",
              "      box-shadow: 0px 1px 3px 1px rgba(0, 0, 0, 0.15);\n",
              "      filter: drop-shadow(0px 1px 2px rgba(0, 0, 0, 0.3));\n",
              "      fill: #FFFFFF;\n",
              "    }\n",
              "  </style>\n",
              "\n",
              "      <script>\n",
              "        const buttonEl =\n",
              "          document.querySelector('#df-bdc9987e-91d9-4246-a498-7173b276caba button.colab-df-convert');\n",
              "        buttonEl.style.display =\n",
              "          google.colab.kernel.accessAllowed ? 'block' : 'none';\n",
              "\n",
              "        async function convertToInteractive(key) {\n",
              "          const element = document.querySelector('#df-bdc9987e-91d9-4246-a498-7173b276caba');\n",
              "          const dataTable =\n",
              "            await google.colab.kernel.invokeFunction('convertToInteractive',\n",
              "                                                     [key], {});\n",
              "          if (!dataTable) return;\n",
              "\n",
              "          const docLinkHtml = 'Like what you see? Visit the ' +\n",
              "            '<a target=\"_blank\" href=https://colab.research.google.com/notebooks/data_table.ipynb>data table notebook</a>'\n",
              "            + ' to learn more about interactive tables.';\n",
              "          element.innerHTML = '';\n",
              "          dataTable['output_type'] = 'display_data';\n",
              "          await google.colab.output.renderOutput(dataTable, element);\n",
              "          const docLink = document.createElement('div');\n",
              "          docLink.innerHTML = docLinkHtml;\n",
              "          element.appendChild(docLink);\n",
              "        }\n",
              "      </script>\n",
              "    </div>\n",
              "  </div>\n",
              "  "
            ],
            "text/plain": [
              "       buisness_year        doc_id  ...    invoice_id        isOpen\n",
              "count   50000.000000  5.000000e+04  ...  4.999400e+04  50000.000000\n",
              "mean     2019.305700  2.012238e+09  ...  2.011340e+09      0.200000\n",
              "std         0.460708  2.885235e+08  ...  2.766335e+08      0.400004\n",
              "min      2019.000000  1.928502e+09  ...  1.928502e+09      0.000000\n",
              "25%      2019.000000  1.929342e+09  ...  1.929342e+09      0.000000\n",
              "50%      2019.000000  1.929964e+09  ...  1.929964e+09      0.000000\n",
              "75%      2020.000000  1.930619e+09  ...  1.930619e+09      0.000000\n",
              "max      2020.000000  9.500000e+09  ...  2.960636e+09      1.000000\n",
              "\n",
              "[8 rows x 11 columns]"
            ]
          },
          "metadata": {},
          "execution_count": 395
        }
      ],
      "source": [
        "#calculating some statistical data like percentile, mean and std of the numerical values of the DataFrame\n",
        "df.describe()"
      ],
      "id": "25f65e1b"
    },
    {
      "cell_type": "markdown",
      "metadata": {
        "id": "0f2c8d02"
      },
      "source": [
        "# Data Cleaning\n",
        "\n",
        "- Show top 5 records from the dataset"
      ],
      "id": "0f2c8d02"
    },
    {
      "cell_type": "code",
      "execution_count": null,
      "metadata": {
        "colab": {
          "base_uri": "https://localhost:8080/",
          "height": 357
        },
        "id": "8f876212",
        "outputId": "850ffbb6-0e4c-4083-d168-375021ac1a02"
      },
      "outputs": [
        {
          "output_type": "execute_result",
          "data": {
            "text/html": [
              "\n",
              "  <div id=\"df-fe762f1e-ef5c-4bce-add0-f16b76b47929\">\n",
              "    <div class=\"colab-df-container\">\n",
              "      <div>\n",
              "<style scoped>\n",
              "    .dataframe tbody tr th:only-of-type {\n",
              "        vertical-align: middle;\n",
              "    }\n",
              "\n",
              "    .dataframe tbody tr th {\n",
              "        vertical-align: top;\n",
              "    }\n",
              "\n",
              "    .dataframe thead th {\n",
              "        text-align: right;\n",
              "    }\n",
              "</style>\n",
              "<table border=\"1\" class=\"dataframe\">\n",
              "  <thead>\n",
              "    <tr style=\"text-align: right;\">\n",
              "      <th></th>\n",
              "      <th>business_code</th>\n",
              "      <th>cust_number</th>\n",
              "      <th>name_customer</th>\n",
              "      <th>clear_date</th>\n",
              "      <th>buisness_year</th>\n",
              "      <th>doc_id</th>\n",
              "      <th>posting_date</th>\n",
              "      <th>document_create_date</th>\n",
              "      <th>document_create_date.1</th>\n",
              "      <th>due_in_date</th>\n",
              "      <th>invoice_currency</th>\n",
              "      <th>document type</th>\n",
              "      <th>posting_id</th>\n",
              "      <th>area_business</th>\n",
              "      <th>total_open_amount</th>\n",
              "      <th>baseline_create_date</th>\n",
              "      <th>cust_payment_terms</th>\n",
              "      <th>invoice_id</th>\n",
              "      <th>isOpen</th>\n",
              "    </tr>\n",
              "  </thead>\n",
              "  <tbody>\n",
              "    <tr>\n",
              "      <th>0</th>\n",
              "      <td>U001</td>\n",
              "      <td>0200769623</td>\n",
              "      <td>WAL-MAR corp</td>\n",
              "      <td>2020-02-11 00:00:00</td>\n",
              "      <td>2020.0</td>\n",
              "      <td>1.930438e+09</td>\n",
              "      <td>2020-01-26</td>\n",
              "      <td>20200125</td>\n",
              "      <td>20200126</td>\n",
              "      <td>20200210.0</td>\n",
              "      <td>USD</td>\n",
              "      <td>RV</td>\n",
              "      <td>1.0</td>\n",
              "      <td>NaN</td>\n",
              "      <td>54273.28</td>\n",
              "      <td>20200126.0</td>\n",
              "      <td>NAH4</td>\n",
              "      <td>1.930438e+09</td>\n",
              "      <td>0</td>\n",
              "    </tr>\n",
              "    <tr>\n",
              "      <th>1</th>\n",
              "      <td>U001</td>\n",
              "      <td>0200980828</td>\n",
              "      <td>BEN E</td>\n",
              "      <td>2019-08-08 00:00:00</td>\n",
              "      <td>2019.0</td>\n",
              "      <td>1.929646e+09</td>\n",
              "      <td>2019-07-22</td>\n",
              "      <td>20190722</td>\n",
              "      <td>20190722</td>\n",
              "      <td>20190811.0</td>\n",
              "      <td>USD</td>\n",
              "      <td>RV</td>\n",
              "      <td>1.0</td>\n",
              "      <td>NaN</td>\n",
              "      <td>79656.60</td>\n",
              "      <td>20190722.0</td>\n",
              "      <td>NAD1</td>\n",
              "      <td>1.929646e+09</td>\n",
              "      <td>0</td>\n",
              "    </tr>\n",
              "    <tr>\n",
              "      <th>2</th>\n",
              "      <td>U001</td>\n",
              "      <td>0200792734</td>\n",
              "      <td>MDV/ trust</td>\n",
              "      <td>2019-12-30 00:00:00</td>\n",
              "      <td>2019.0</td>\n",
              "      <td>1.929874e+09</td>\n",
              "      <td>2019-09-14</td>\n",
              "      <td>20190914</td>\n",
              "      <td>20190914</td>\n",
              "      <td>20190929.0</td>\n",
              "      <td>USD</td>\n",
              "      <td>RV</td>\n",
              "      <td>1.0</td>\n",
              "      <td>NaN</td>\n",
              "      <td>2253.86</td>\n",
              "      <td>20190914.0</td>\n",
              "      <td>NAA8</td>\n",
              "      <td>1.929874e+09</td>\n",
              "      <td>0</td>\n",
              "    </tr>\n",
              "    <tr>\n",
              "      <th>3</th>\n",
              "      <td>CA02</td>\n",
              "      <td>0140105686</td>\n",
              "      <td>SYSC llc</td>\n",
              "      <td>NaN</td>\n",
              "      <td>2020.0</td>\n",
              "      <td>2.960623e+09</td>\n",
              "      <td>2020-03-30</td>\n",
              "      <td>20200330</td>\n",
              "      <td>20200330</td>\n",
              "      <td>20200410.0</td>\n",
              "      <td>CAD</td>\n",
              "      <td>RV</td>\n",
              "      <td>1.0</td>\n",
              "      <td>NaN</td>\n",
              "      <td>3299.70</td>\n",
              "      <td>20200331.0</td>\n",
              "      <td>CA10</td>\n",
              "      <td>2.960623e+09</td>\n",
              "      <td>1</td>\n",
              "    </tr>\n",
              "    <tr>\n",
              "      <th>4</th>\n",
              "      <td>U001</td>\n",
              "      <td>0200769623</td>\n",
              "      <td>WAL-MAR foundation</td>\n",
              "      <td>2019-11-25 00:00:00</td>\n",
              "      <td>2019.0</td>\n",
              "      <td>1.930148e+09</td>\n",
              "      <td>2019-11-13</td>\n",
              "      <td>20191113</td>\n",
              "      <td>20191113</td>\n",
              "      <td>20191128.0</td>\n",
              "      <td>USD</td>\n",
              "      <td>RV</td>\n",
              "      <td>1.0</td>\n",
              "      <td>NaN</td>\n",
              "      <td>33133.29</td>\n",
              "      <td>20191113.0</td>\n",
              "      <td>NAH4</td>\n",
              "      <td>1.930148e+09</td>\n",
              "      <td>0</td>\n",
              "    </tr>\n",
              "  </tbody>\n",
              "</table>\n",
              "</div>\n",
              "      <button class=\"colab-df-convert\" onclick=\"convertToInteractive('df-fe762f1e-ef5c-4bce-add0-f16b76b47929')\"\n",
              "              title=\"Convert this dataframe to an interactive table.\"\n",
              "              style=\"display:none;\">\n",
              "        \n",
              "  <svg xmlns=\"http://www.w3.org/2000/svg\" height=\"24px\"viewBox=\"0 0 24 24\"\n",
              "       width=\"24px\">\n",
              "    <path d=\"M0 0h24v24H0V0z\" fill=\"none\"/>\n",
              "    <path d=\"M18.56 5.44l.94 2.06.94-2.06 2.06-.94-2.06-.94-.94-2.06-.94 2.06-2.06.94zm-11 1L8.5 8.5l.94-2.06 2.06-.94-2.06-.94L8.5 2.5l-.94 2.06-2.06.94zm10 10l.94 2.06.94-2.06 2.06-.94-2.06-.94-.94-2.06-.94 2.06-2.06.94z\"/><path d=\"M17.41 7.96l-1.37-1.37c-.4-.4-.92-.59-1.43-.59-.52 0-1.04.2-1.43.59L10.3 9.45l-7.72 7.72c-.78.78-.78 2.05 0 2.83L4 21.41c.39.39.9.59 1.41.59.51 0 1.02-.2 1.41-.59l7.78-7.78 2.81-2.81c.8-.78.8-2.07 0-2.86zM5.41 20L4 18.59l7.72-7.72 1.47 1.35L5.41 20z\"/>\n",
              "  </svg>\n",
              "      </button>\n",
              "      \n",
              "  <style>\n",
              "    .colab-df-container {\n",
              "      display:flex;\n",
              "      flex-wrap:wrap;\n",
              "      gap: 12px;\n",
              "    }\n",
              "\n",
              "    .colab-df-convert {\n",
              "      background-color: #E8F0FE;\n",
              "      border: none;\n",
              "      border-radius: 50%;\n",
              "      cursor: pointer;\n",
              "      display: none;\n",
              "      fill: #1967D2;\n",
              "      height: 32px;\n",
              "      padding: 0 0 0 0;\n",
              "      width: 32px;\n",
              "    }\n",
              "\n",
              "    .colab-df-convert:hover {\n",
              "      background-color: #E2EBFA;\n",
              "      box-shadow: 0px 1px 2px rgba(60, 64, 67, 0.3), 0px 1px 3px 1px rgba(60, 64, 67, 0.15);\n",
              "      fill: #174EA6;\n",
              "    }\n",
              "\n",
              "    [theme=dark] .colab-df-convert {\n",
              "      background-color: #3B4455;\n",
              "      fill: #D2E3FC;\n",
              "    }\n",
              "\n",
              "    [theme=dark] .colab-df-convert:hover {\n",
              "      background-color: #434B5C;\n",
              "      box-shadow: 0px 1px 3px 1px rgba(0, 0, 0, 0.15);\n",
              "      filter: drop-shadow(0px 1px 2px rgba(0, 0, 0, 0.3));\n",
              "      fill: #FFFFFF;\n",
              "    }\n",
              "  </style>\n",
              "\n",
              "      <script>\n",
              "        const buttonEl =\n",
              "          document.querySelector('#df-fe762f1e-ef5c-4bce-add0-f16b76b47929 button.colab-df-convert');\n",
              "        buttonEl.style.display =\n",
              "          google.colab.kernel.accessAllowed ? 'block' : 'none';\n",
              "\n",
              "        async function convertToInteractive(key) {\n",
              "          const element = document.querySelector('#df-fe762f1e-ef5c-4bce-add0-f16b76b47929');\n",
              "          const dataTable =\n",
              "            await google.colab.kernel.invokeFunction('convertToInteractive',\n",
              "                                                     [key], {});\n",
              "          if (!dataTable) return;\n",
              "\n",
              "          const docLinkHtml = 'Like what you see? Visit the ' +\n",
              "            '<a target=\"_blank\" href=https://colab.research.google.com/notebooks/data_table.ipynb>data table notebook</a>'\n",
              "            + ' to learn more about interactive tables.';\n",
              "          element.innerHTML = '';\n",
              "          dataTable['output_type'] = 'display_data';\n",
              "          await google.colab.output.renderOutput(dataTable, element);\n",
              "          const docLink = document.createElement('div');\n",
              "          docLink.innerHTML = docLinkHtml;\n",
              "          element.appendChild(docLink);\n",
              "        }\n",
              "      </script>\n",
              "    </div>\n",
              "  </div>\n",
              "  "
            ],
            "text/plain": [
              "  business_code cust_number  ...    invoice_id isOpen\n",
              "0          U001  0200769623  ...  1.930438e+09      0\n",
              "1          U001  0200980828  ...  1.929646e+09      0\n",
              "2          U001  0200792734  ...  1.929874e+09      0\n",
              "3          CA02  0140105686  ...  2.960623e+09      1\n",
              "4          U001  0200769623  ...  1.930148e+09      0\n",
              "\n",
              "[5 rows x 19 columns]"
            ]
          },
          "metadata": {},
          "execution_count": 396
        }
      ],
      "source": [
        "df.head(5)"
      ],
      "id": "8f876212"
    },
    {
      "cell_type": "markdown",
      "metadata": {
        "id": "92b044e4"
      },
      "source": [
        "### Display the Null values percentage against every columns (compare to the total number of records)\n",
        "\n",
        "- Output expected : area_business - 100% null, clear_data = 20% null, invoice_id = 0.12% null"
      ],
      "id": "92b044e4"
    },
    {
      "cell_type": "code",
      "execution_count": null,
      "metadata": {
        "colab": {
          "base_uri": "https://localhost:8080/"
        },
        "id": "24c7b13d",
        "outputId": "53fa15f1-e31b-457e-9798-cdf657be5c78"
      },
      "outputs": [
        {
          "output_type": "stream",
          "name": "stdout",
          "text": [
            "clear_date 0.2 % missing values\n",
            "area_business 1.0 % missing values\n",
            "invoice_id 0.0001 % missing values\n"
          ]
        }
      ],
      "source": [
        "# Here we will check the percentage of null values in each features.\n",
        "# 1 - Step make the list of features which has null values\n",
        "\n",
        "features_with_na = [feature for feature in df.columns if df[feature].isnull().sum() > 1]\n",
        "\n",
        "# 2- step print the feature name and the percentage of null values\n",
        "for feature in features_with_na:\n",
        "   print(feature, np.round(df[feature].isnull().mean(), 4), \"% missing values\" )"
      ],
      "id": "24c7b13d"
    },
    {
      "cell_type": "markdown",
      "metadata": {
        "id": "i9rtNMwJanrR"
      },
      "source": [
        "We can see here that area_business consists of all 50,000 rows(100% data) of Null values "
      ],
      "id": "i9rtNMwJanrR"
    },
    {
      "cell_type": "markdown",
      "metadata": {
        "id": "2c46a98b"
      },
      "source": [
        "### Display Invoice_id and Doc_Id\n",
        "\n",
        "- Note - Many of the would have same invoice_id and doc_id\n"
      ],
      "id": "2c46a98b"
    },
    {
      "cell_type": "code",
      "execution_count": null,
      "metadata": {
        "colab": {
          "base_uri": "https://localhost:8080/",
          "height": 424
        },
        "id": "038f24bb",
        "outputId": "ec0d3b54-723e-4e12-d3aa-2981ffc8a3cb"
      },
      "outputs": [
        {
          "output_type": "execute_result",
          "data": {
            "text/html": [
              "\n",
              "  <div id=\"df-68f4d840-919f-4592-b4cf-07c88c8d8e8c\">\n",
              "    <div class=\"colab-df-container\">\n",
              "      <div>\n",
              "<style scoped>\n",
              "    .dataframe tbody tr th:only-of-type {\n",
              "        vertical-align: middle;\n",
              "    }\n",
              "\n",
              "    .dataframe tbody tr th {\n",
              "        vertical-align: top;\n",
              "    }\n",
              "\n",
              "    .dataframe thead th {\n",
              "        text-align: right;\n",
              "    }\n",
              "</style>\n",
              "<table border=\"1\" class=\"dataframe\">\n",
              "  <thead>\n",
              "    <tr style=\"text-align: right;\">\n",
              "      <th></th>\n",
              "      <th>invoice_id</th>\n",
              "      <th>doc_id</th>\n",
              "    </tr>\n",
              "  </thead>\n",
              "  <tbody>\n",
              "    <tr>\n",
              "      <th>0</th>\n",
              "      <td>1.930438e+09</td>\n",
              "      <td>1.930438e+09</td>\n",
              "    </tr>\n",
              "    <tr>\n",
              "      <th>1</th>\n",
              "      <td>1.929646e+09</td>\n",
              "      <td>1.929646e+09</td>\n",
              "    </tr>\n",
              "    <tr>\n",
              "      <th>2</th>\n",
              "      <td>1.929874e+09</td>\n",
              "      <td>1.929874e+09</td>\n",
              "    </tr>\n",
              "    <tr>\n",
              "      <th>3</th>\n",
              "      <td>2.960623e+09</td>\n",
              "      <td>2.960623e+09</td>\n",
              "    </tr>\n",
              "    <tr>\n",
              "      <th>4</th>\n",
              "      <td>1.930148e+09</td>\n",
              "      <td>1.930148e+09</td>\n",
              "    </tr>\n",
              "    <tr>\n",
              "      <th>...</th>\n",
              "      <td>...</td>\n",
              "      <td>...</td>\n",
              "    </tr>\n",
              "    <tr>\n",
              "      <th>49995</th>\n",
              "      <td>1.930797e+09</td>\n",
              "      <td>1.930797e+09</td>\n",
              "    </tr>\n",
              "    <tr>\n",
              "      <th>49996</th>\n",
              "      <td>1.929744e+09</td>\n",
              "      <td>1.929744e+09</td>\n",
              "    </tr>\n",
              "    <tr>\n",
              "      <th>49997</th>\n",
              "      <td>1.930537e+09</td>\n",
              "      <td>1.930537e+09</td>\n",
              "    </tr>\n",
              "    <tr>\n",
              "      <th>49998</th>\n",
              "      <td>1.930199e+09</td>\n",
              "      <td>1.930199e+09</td>\n",
              "    </tr>\n",
              "    <tr>\n",
              "      <th>49999</th>\n",
              "      <td>1.928576e+09</td>\n",
              "      <td>1.928576e+09</td>\n",
              "    </tr>\n",
              "  </tbody>\n",
              "</table>\n",
              "<p>50000 rows × 2 columns</p>\n",
              "</div>\n",
              "      <button class=\"colab-df-convert\" onclick=\"convertToInteractive('df-68f4d840-919f-4592-b4cf-07c88c8d8e8c')\"\n",
              "              title=\"Convert this dataframe to an interactive table.\"\n",
              "              style=\"display:none;\">\n",
              "        \n",
              "  <svg xmlns=\"http://www.w3.org/2000/svg\" height=\"24px\"viewBox=\"0 0 24 24\"\n",
              "       width=\"24px\">\n",
              "    <path d=\"M0 0h24v24H0V0z\" fill=\"none\"/>\n",
              "    <path d=\"M18.56 5.44l.94 2.06.94-2.06 2.06-.94-2.06-.94-.94-2.06-.94 2.06-2.06.94zm-11 1L8.5 8.5l.94-2.06 2.06-.94-2.06-.94L8.5 2.5l-.94 2.06-2.06.94zm10 10l.94 2.06.94-2.06 2.06-.94-2.06-.94-.94-2.06-.94 2.06-2.06.94z\"/><path d=\"M17.41 7.96l-1.37-1.37c-.4-.4-.92-.59-1.43-.59-.52 0-1.04.2-1.43.59L10.3 9.45l-7.72 7.72c-.78.78-.78 2.05 0 2.83L4 21.41c.39.39.9.59 1.41.59.51 0 1.02-.2 1.41-.59l7.78-7.78 2.81-2.81c.8-.78.8-2.07 0-2.86zM5.41 20L4 18.59l7.72-7.72 1.47 1.35L5.41 20z\"/>\n",
              "  </svg>\n",
              "      </button>\n",
              "      \n",
              "  <style>\n",
              "    .colab-df-container {\n",
              "      display:flex;\n",
              "      flex-wrap:wrap;\n",
              "      gap: 12px;\n",
              "    }\n",
              "\n",
              "    .colab-df-convert {\n",
              "      background-color: #E8F0FE;\n",
              "      border: none;\n",
              "      border-radius: 50%;\n",
              "      cursor: pointer;\n",
              "      display: none;\n",
              "      fill: #1967D2;\n",
              "      height: 32px;\n",
              "      padding: 0 0 0 0;\n",
              "      width: 32px;\n",
              "    }\n",
              "\n",
              "    .colab-df-convert:hover {\n",
              "      background-color: #E2EBFA;\n",
              "      box-shadow: 0px 1px 2px rgba(60, 64, 67, 0.3), 0px 1px 3px 1px rgba(60, 64, 67, 0.15);\n",
              "      fill: #174EA6;\n",
              "    }\n",
              "\n",
              "    [theme=dark] .colab-df-convert {\n",
              "      background-color: #3B4455;\n",
              "      fill: #D2E3FC;\n",
              "    }\n",
              "\n",
              "    [theme=dark] .colab-df-convert:hover {\n",
              "      background-color: #434B5C;\n",
              "      box-shadow: 0px 1px 3px 1px rgba(0, 0, 0, 0.15);\n",
              "      filter: drop-shadow(0px 1px 2px rgba(0, 0, 0, 0.3));\n",
              "      fill: #FFFFFF;\n",
              "    }\n",
              "  </style>\n",
              "\n",
              "      <script>\n",
              "        const buttonEl =\n",
              "          document.querySelector('#df-68f4d840-919f-4592-b4cf-07c88c8d8e8c button.colab-df-convert');\n",
              "        buttonEl.style.display =\n",
              "          google.colab.kernel.accessAllowed ? 'block' : 'none';\n",
              "\n",
              "        async function convertToInteractive(key) {\n",
              "          const element = document.querySelector('#df-68f4d840-919f-4592-b4cf-07c88c8d8e8c');\n",
              "          const dataTable =\n",
              "            await google.colab.kernel.invokeFunction('convertToInteractive',\n",
              "                                                     [key], {});\n",
              "          if (!dataTable) return;\n",
              "\n",
              "          const docLinkHtml = 'Like what you see? Visit the ' +\n",
              "            '<a target=\"_blank\" href=https://colab.research.google.com/notebooks/data_table.ipynb>data table notebook</a>'\n",
              "            + ' to learn more about interactive tables.';\n",
              "          element.innerHTML = '';\n",
              "          dataTable['output_type'] = 'display_data';\n",
              "          await google.colab.output.renderOutput(dataTable, element);\n",
              "          const docLink = document.createElement('div');\n",
              "          docLink.innerHTML = docLinkHtml;\n",
              "          element.appendChild(docLink);\n",
              "        }\n",
              "      </script>\n",
              "    </div>\n",
              "  </div>\n",
              "  "
            ],
            "text/plain": [
              "         invoice_id        doc_id\n",
              "0      1.930438e+09  1.930438e+09\n",
              "1      1.929646e+09  1.929646e+09\n",
              "2      1.929874e+09  1.929874e+09\n",
              "3      2.960623e+09  2.960623e+09\n",
              "4      1.930148e+09  1.930148e+09\n",
              "...             ...           ...\n",
              "49995  1.930797e+09  1.930797e+09\n",
              "49996  1.929744e+09  1.929744e+09\n",
              "49997  1.930537e+09  1.930537e+09\n",
              "49998  1.930199e+09  1.930199e+09\n",
              "49999  1.928576e+09  1.928576e+09\n",
              "\n",
              "[50000 rows x 2 columns]"
            ]
          },
          "metadata": {},
          "execution_count": 398
        }
      ],
      "source": [
        "# Duplicate features - Machine Learning model won't learn anything insightful by keeping both these features in training so we need to drop any one feature.\n",
        "df[[\"invoice_id\", \"doc_id\"]] "
      ],
      "id": "038f24bb"
    },
    {
      "cell_type": "markdown",
      "metadata": {
        "id": "18cfe10a"
      },
      "source": [
        "#### Write a code to check - 'baseline_create_date',\"document_create_date\",'document_create_date.1' - these columns are almost same.\n",
        "\n",
        "- Please note, if they are same, we need to drop them later\n",
        "\n"
      ],
      "id": "18cfe10a"
    },
    {
      "cell_type": "code",
      "execution_count": null,
      "metadata": {
        "colab": {
          "base_uri": "https://localhost:8080/",
          "height": 424
        },
        "id": "cf5b40ff",
        "outputId": "f9e76533-6d4e-4d65-fc6c-72f3dc17073b"
      },
      "outputs": [
        {
          "output_type": "execute_result",
          "data": {
            "text/html": [
              "\n",
              "  <div id=\"df-16e519c0-c7d5-41e2-a37a-c4495e0ef4fc\">\n",
              "    <div class=\"colab-df-container\">\n",
              "      <div>\n",
              "<style scoped>\n",
              "    .dataframe tbody tr th:only-of-type {\n",
              "        vertical-align: middle;\n",
              "    }\n",
              "\n",
              "    .dataframe tbody tr th {\n",
              "        vertical-align: top;\n",
              "    }\n",
              "\n",
              "    .dataframe thead th {\n",
              "        text-align: right;\n",
              "    }\n",
              "</style>\n",
              "<table border=\"1\" class=\"dataframe\">\n",
              "  <thead>\n",
              "    <tr style=\"text-align: right;\">\n",
              "      <th></th>\n",
              "      <th>baseline_create_date</th>\n",
              "      <th>document_create_date</th>\n",
              "      <th>document_create_date.1</th>\n",
              "    </tr>\n",
              "  </thead>\n",
              "  <tbody>\n",
              "    <tr>\n",
              "      <th>0</th>\n",
              "      <td>20200126.0</td>\n",
              "      <td>20200125</td>\n",
              "      <td>20200126</td>\n",
              "    </tr>\n",
              "    <tr>\n",
              "      <th>1</th>\n",
              "      <td>20190722.0</td>\n",
              "      <td>20190722</td>\n",
              "      <td>20190722</td>\n",
              "    </tr>\n",
              "    <tr>\n",
              "      <th>2</th>\n",
              "      <td>20190914.0</td>\n",
              "      <td>20190914</td>\n",
              "      <td>20190914</td>\n",
              "    </tr>\n",
              "    <tr>\n",
              "      <th>3</th>\n",
              "      <td>20200331.0</td>\n",
              "      <td>20200330</td>\n",
              "      <td>20200330</td>\n",
              "    </tr>\n",
              "    <tr>\n",
              "      <th>4</th>\n",
              "      <td>20191113.0</td>\n",
              "      <td>20191113</td>\n",
              "      <td>20191113</td>\n",
              "    </tr>\n",
              "    <tr>\n",
              "      <th>...</th>\n",
              "      <td>...</td>\n",
              "      <td>...</td>\n",
              "      <td>...</td>\n",
              "    </tr>\n",
              "    <tr>\n",
              "      <th>49995</th>\n",
              "      <td>20200421.0</td>\n",
              "      <td>20200417</td>\n",
              "      <td>20200421</td>\n",
              "    </tr>\n",
              "    <tr>\n",
              "      <th>49996</th>\n",
              "      <td>20190815.0</td>\n",
              "      <td>20190814</td>\n",
              "      <td>20190815</td>\n",
              "    </tr>\n",
              "    <tr>\n",
              "      <th>49997</th>\n",
              "      <td>20200219.0</td>\n",
              "      <td>20200218</td>\n",
              "      <td>20200219</td>\n",
              "    </tr>\n",
              "    <tr>\n",
              "      <th>49998</th>\n",
              "      <td>20191127.0</td>\n",
              "      <td>20191126</td>\n",
              "      <td>20191127</td>\n",
              "    </tr>\n",
              "    <tr>\n",
              "      <th>49999</th>\n",
              "      <td>20190101.0</td>\n",
              "      <td>20190105</td>\n",
              "      <td>20190105</td>\n",
              "    </tr>\n",
              "  </tbody>\n",
              "</table>\n",
              "<p>50000 rows × 3 columns</p>\n",
              "</div>\n",
              "      <button class=\"colab-df-convert\" onclick=\"convertToInteractive('df-16e519c0-c7d5-41e2-a37a-c4495e0ef4fc')\"\n",
              "              title=\"Convert this dataframe to an interactive table.\"\n",
              "              style=\"display:none;\">\n",
              "        \n",
              "  <svg xmlns=\"http://www.w3.org/2000/svg\" height=\"24px\"viewBox=\"0 0 24 24\"\n",
              "       width=\"24px\">\n",
              "    <path d=\"M0 0h24v24H0V0z\" fill=\"none\"/>\n",
              "    <path d=\"M18.56 5.44l.94 2.06.94-2.06 2.06-.94-2.06-.94-.94-2.06-.94 2.06-2.06.94zm-11 1L8.5 8.5l.94-2.06 2.06-.94-2.06-.94L8.5 2.5l-.94 2.06-2.06.94zm10 10l.94 2.06.94-2.06 2.06-.94-2.06-.94-.94-2.06-.94 2.06-2.06.94z\"/><path d=\"M17.41 7.96l-1.37-1.37c-.4-.4-.92-.59-1.43-.59-.52 0-1.04.2-1.43.59L10.3 9.45l-7.72 7.72c-.78.78-.78 2.05 0 2.83L4 21.41c.39.39.9.59 1.41.59.51 0 1.02-.2 1.41-.59l7.78-7.78 2.81-2.81c.8-.78.8-2.07 0-2.86zM5.41 20L4 18.59l7.72-7.72 1.47 1.35L5.41 20z\"/>\n",
              "  </svg>\n",
              "      </button>\n",
              "      \n",
              "  <style>\n",
              "    .colab-df-container {\n",
              "      display:flex;\n",
              "      flex-wrap:wrap;\n",
              "      gap: 12px;\n",
              "    }\n",
              "\n",
              "    .colab-df-convert {\n",
              "      background-color: #E8F0FE;\n",
              "      border: none;\n",
              "      border-radius: 50%;\n",
              "      cursor: pointer;\n",
              "      display: none;\n",
              "      fill: #1967D2;\n",
              "      height: 32px;\n",
              "      padding: 0 0 0 0;\n",
              "      width: 32px;\n",
              "    }\n",
              "\n",
              "    .colab-df-convert:hover {\n",
              "      background-color: #E2EBFA;\n",
              "      box-shadow: 0px 1px 2px rgba(60, 64, 67, 0.3), 0px 1px 3px 1px rgba(60, 64, 67, 0.15);\n",
              "      fill: #174EA6;\n",
              "    }\n",
              "\n",
              "    [theme=dark] .colab-df-convert {\n",
              "      background-color: #3B4455;\n",
              "      fill: #D2E3FC;\n",
              "    }\n",
              "\n",
              "    [theme=dark] .colab-df-convert:hover {\n",
              "      background-color: #434B5C;\n",
              "      box-shadow: 0px 1px 3px 1px rgba(0, 0, 0, 0.15);\n",
              "      filter: drop-shadow(0px 1px 2px rgba(0, 0, 0, 0.3));\n",
              "      fill: #FFFFFF;\n",
              "    }\n",
              "  </style>\n",
              "\n",
              "      <script>\n",
              "        const buttonEl =\n",
              "          document.querySelector('#df-16e519c0-c7d5-41e2-a37a-c4495e0ef4fc button.colab-df-convert');\n",
              "        buttonEl.style.display =\n",
              "          google.colab.kernel.accessAllowed ? 'block' : 'none';\n",
              "\n",
              "        async function convertToInteractive(key) {\n",
              "          const element = document.querySelector('#df-16e519c0-c7d5-41e2-a37a-c4495e0ef4fc');\n",
              "          const dataTable =\n",
              "            await google.colab.kernel.invokeFunction('convertToInteractive',\n",
              "                                                     [key], {});\n",
              "          if (!dataTable) return;\n",
              "\n",
              "          const docLinkHtml = 'Like what you see? Visit the ' +\n",
              "            '<a target=\"_blank\" href=https://colab.research.google.com/notebooks/data_table.ipynb>data table notebook</a>'\n",
              "            + ' to learn more about interactive tables.';\n",
              "          element.innerHTML = '';\n",
              "          dataTable['output_type'] = 'display_data';\n",
              "          await google.colab.output.renderOutput(dataTable, element);\n",
              "          const docLink = document.createElement('div');\n",
              "          docLink.innerHTML = docLinkHtml;\n",
              "          element.appendChild(docLink);\n",
              "        }\n",
              "      </script>\n",
              "    </div>\n",
              "  </div>\n",
              "  "
            ],
            "text/plain": [
              "       baseline_create_date  document_create_date  document_create_date.1\n",
              "0                20200126.0              20200125                20200126\n",
              "1                20190722.0              20190722                20190722\n",
              "2                20190914.0              20190914                20190914\n",
              "3                20200331.0              20200330                20200330\n",
              "4                20191113.0              20191113                20191113\n",
              "...                     ...                   ...                     ...\n",
              "49995            20200421.0              20200417                20200421\n",
              "49996            20190815.0              20190814                20190815\n",
              "49997            20200219.0              20200218                20200219\n",
              "49998            20191127.0              20191126                20191127\n",
              "49999            20190101.0              20190105                20190105\n",
              "\n",
              "[50000 rows x 3 columns]"
            ]
          },
          "metadata": {},
          "execution_count": 399
        }
      ],
      "source": [
        "df[['baseline_create_date',\"document_create_date\",'document_create_date.1']]  "
      ],
      "id": "cf5b40ff"
    },
    {
      "cell_type": "markdown",
      "metadata": {
        "id": "33110576"
      },
      "source": [
        "#### Please check, Column 'posting_id' is constant columns or not\n"
      ],
      "id": "33110576"
    },
    {
      "cell_type": "code",
      "execution_count": null,
      "metadata": {
        "colab": {
          "base_uri": "https://localhost:8080/"
        },
        "id": "ecce2664",
        "outputId": "c3a146f9-f944-4b20-be47-b8aa3a890e18"
      },
      "outputs": [
        {
          "output_type": "stream",
          "name": "stdout",
          "text": [
            "['posting_id']\n"
          ]
        }
      ],
      "source": [
        "# Function to return the constant value columns of a given DataFrame\n",
        "def find_constant_value_features(df):\n",
        "    return [col for col in df.columns if df[col].nunique() == 1]\n",
        "constant_col = find_constant_value_features(df)\n",
        "print(constant_col)  \n",
        "# Posting_id column is constant"
      ],
      "id": "ecce2664"
    },
    {
      "cell_type": "markdown",
      "metadata": {
        "id": "e5fb8daf"
      },
      "source": [
        "#### Please check 'isOpen' is a constant column and relevant column for this project or not"
      ],
      "id": "e5fb8daf"
    },
    {
      "cell_type": "code",
      "execution_count": null,
      "metadata": {
        "id": "8db9956b",
        "colab": {
          "base_uri": "https://localhost:8080/"
        },
        "outputId": "900b0001-9d84-4d78-b925-ee58ba619327"
      },
      "outputs": [
        {
          "output_type": "execute_result",
          "data": {
            "text/plain": [
              "0    40000\n",
              "1    10000\n",
              "Name: isOpen, dtype: int64"
            ]
          },
          "metadata": {},
          "execution_count": 401
        }
      ],
      "source": [
        "df[\"isOpen\"].value_counts()"
      ],
      "id": "8db9956b"
    },
    {
      "cell_type": "markdown",
      "metadata": {
        "id": "45a11a62"
      },
      "source": [
        "### Write the code to drop all the following columns from the dataframe\n",
        "\n",
        "- 'area_business'\n",
        "- \"posting_id\"\n",
        "- \"invoice_id\"\n",
        "- \"document_create_date\"\n",
        "- \"isOpen\"\n",
        "- 'document type' \n",
        "- 'document_create_date.1"
      ],
      "id": "45a11a62"
    },
    {
      "cell_type": "code",
      "execution_count": null,
      "metadata": {
        "id": "270d85d1"
      },
      "outputs": [],
      "source": [
        "df.drop([\"area_business\", \"posting_id\", \"invoice_id\", \"document_create_date\", \"isOpen\", \"document type\", \"document_create_date.1\"], axis = 1, inplace = True)\n"
      ],
      "id": "270d85d1"
    },
    {
      "cell_type": "markdown",
      "metadata": {
        "id": "K5LHAM2XVGnk"
      },
      "source": [
        "### Please check from the dataframe whether all the columns are removed or not "
      ],
      "id": "K5LHAM2XVGnk"
    },
    {
      "cell_type": "code",
      "execution_count": null,
      "metadata": {
        "colab": {
          "base_uri": "https://localhost:8080/",
          "height": 340
        },
        "id": "ef3f7d2b",
        "outputId": "11e9725f-51de-42ea-9384-6b479e8618a7"
      },
      "outputs": [
        {
          "output_type": "execute_result",
          "data": {
            "text/html": [
              "\n",
              "  <div id=\"df-7762e3fe-a389-4df8-87b2-9e361e96c11c\">\n",
              "    <div class=\"colab-df-container\">\n",
              "      <div>\n",
              "<style scoped>\n",
              "    .dataframe tbody tr th:only-of-type {\n",
              "        vertical-align: middle;\n",
              "    }\n",
              "\n",
              "    .dataframe tbody tr th {\n",
              "        vertical-align: top;\n",
              "    }\n",
              "\n",
              "    .dataframe thead th {\n",
              "        text-align: right;\n",
              "    }\n",
              "</style>\n",
              "<table border=\"1\" class=\"dataframe\">\n",
              "  <thead>\n",
              "    <tr style=\"text-align: right;\">\n",
              "      <th></th>\n",
              "      <th>business_code</th>\n",
              "      <th>cust_number</th>\n",
              "      <th>name_customer</th>\n",
              "      <th>clear_date</th>\n",
              "      <th>buisness_year</th>\n",
              "      <th>doc_id</th>\n",
              "      <th>posting_date</th>\n",
              "      <th>due_in_date</th>\n",
              "      <th>invoice_currency</th>\n",
              "      <th>total_open_amount</th>\n",
              "      <th>baseline_create_date</th>\n",
              "      <th>cust_payment_terms</th>\n",
              "    </tr>\n",
              "  </thead>\n",
              "  <tbody>\n",
              "    <tr>\n",
              "      <th>0</th>\n",
              "      <td>U001</td>\n",
              "      <td>0200769623</td>\n",
              "      <td>WAL-MAR corp</td>\n",
              "      <td>2020-02-11 00:00:00</td>\n",
              "      <td>2020.0</td>\n",
              "      <td>1.930438e+09</td>\n",
              "      <td>2020-01-26</td>\n",
              "      <td>20200210.0</td>\n",
              "      <td>USD</td>\n",
              "      <td>54273.28</td>\n",
              "      <td>20200126.0</td>\n",
              "      <td>NAH4</td>\n",
              "    </tr>\n",
              "    <tr>\n",
              "      <th>1</th>\n",
              "      <td>U001</td>\n",
              "      <td>0200980828</td>\n",
              "      <td>BEN E</td>\n",
              "      <td>2019-08-08 00:00:00</td>\n",
              "      <td>2019.0</td>\n",
              "      <td>1.929646e+09</td>\n",
              "      <td>2019-07-22</td>\n",
              "      <td>20190811.0</td>\n",
              "      <td>USD</td>\n",
              "      <td>79656.60</td>\n",
              "      <td>20190722.0</td>\n",
              "      <td>NAD1</td>\n",
              "    </tr>\n",
              "    <tr>\n",
              "      <th>2</th>\n",
              "      <td>U001</td>\n",
              "      <td>0200792734</td>\n",
              "      <td>MDV/ trust</td>\n",
              "      <td>2019-12-30 00:00:00</td>\n",
              "      <td>2019.0</td>\n",
              "      <td>1.929874e+09</td>\n",
              "      <td>2019-09-14</td>\n",
              "      <td>20190929.0</td>\n",
              "      <td>USD</td>\n",
              "      <td>2253.86</td>\n",
              "      <td>20190914.0</td>\n",
              "      <td>NAA8</td>\n",
              "    </tr>\n",
              "    <tr>\n",
              "      <th>3</th>\n",
              "      <td>CA02</td>\n",
              "      <td>0140105686</td>\n",
              "      <td>SYSC llc</td>\n",
              "      <td>NaN</td>\n",
              "      <td>2020.0</td>\n",
              "      <td>2.960623e+09</td>\n",
              "      <td>2020-03-30</td>\n",
              "      <td>20200410.0</td>\n",
              "      <td>CAD</td>\n",
              "      <td>3299.70</td>\n",
              "      <td>20200331.0</td>\n",
              "      <td>CA10</td>\n",
              "    </tr>\n",
              "    <tr>\n",
              "      <th>4</th>\n",
              "      <td>U001</td>\n",
              "      <td>0200769623</td>\n",
              "      <td>WAL-MAR foundation</td>\n",
              "      <td>2019-11-25 00:00:00</td>\n",
              "      <td>2019.0</td>\n",
              "      <td>1.930148e+09</td>\n",
              "      <td>2019-11-13</td>\n",
              "      <td>20191128.0</td>\n",
              "      <td>USD</td>\n",
              "      <td>33133.29</td>\n",
              "      <td>20191113.0</td>\n",
              "      <td>NAH4</td>\n",
              "    </tr>\n",
              "  </tbody>\n",
              "</table>\n",
              "</div>\n",
              "      <button class=\"colab-df-convert\" onclick=\"convertToInteractive('df-7762e3fe-a389-4df8-87b2-9e361e96c11c')\"\n",
              "              title=\"Convert this dataframe to an interactive table.\"\n",
              "              style=\"display:none;\">\n",
              "        \n",
              "  <svg xmlns=\"http://www.w3.org/2000/svg\" height=\"24px\"viewBox=\"0 0 24 24\"\n",
              "       width=\"24px\">\n",
              "    <path d=\"M0 0h24v24H0V0z\" fill=\"none\"/>\n",
              "    <path d=\"M18.56 5.44l.94 2.06.94-2.06 2.06-.94-2.06-.94-.94-2.06-.94 2.06-2.06.94zm-11 1L8.5 8.5l.94-2.06 2.06-.94-2.06-.94L8.5 2.5l-.94 2.06-2.06.94zm10 10l.94 2.06.94-2.06 2.06-.94-2.06-.94-.94-2.06-.94 2.06-2.06.94z\"/><path d=\"M17.41 7.96l-1.37-1.37c-.4-.4-.92-.59-1.43-.59-.52 0-1.04.2-1.43.59L10.3 9.45l-7.72 7.72c-.78.78-.78 2.05 0 2.83L4 21.41c.39.39.9.59 1.41.59.51 0 1.02-.2 1.41-.59l7.78-7.78 2.81-2.81c.8-.78.8-2.07 0-2.86zM5.41 20L4 18.59l7.72-7.72 1.47 1.35L5.41 20z\"/>\n",
              "  </svg>\n",
              "      </button>\n",
              "      \n",
              "  <style>\n",
              "    .colab-df-container {\n",
              "      display:flex;\n",
              "      flex-wrap:wrap;\n",
              "      gap: 12px;\n",
              "    }\n",
              "\n",
              "    .colab-df-convert {\n",
              "      background-color: #E8F0FE;\n",
              "      border: none;\n",
              "      border-radius: 50%;\n",
              "      cursor: pointer;\n",
              "      display: none;\n",
              "      fill: #1967D2;\n",
              "      height: 32px;\n",
              "      padding: 0 0 0 0;\n",
              "      width: 32px;\n",
              "    }\n",
              "\n",
              "    .colab-df-convert:hover {\n",
              "      background-color: #E2EBFA;\n",
              "      box-shadow: 0px 1px 2px rgba(60, 64, 67, 0.3), 0px 1px 3px 1px rgba(60, 64, 67, 0.15);\n",
              "      fill: #174EA6;\n",
              "    }\n",
              "\n",
              "    [theme=dark] .colab-df-convert {\n",
              "      background-color: #3B4455;\n",
              "      fill: #D2E3FC;\n",
              "    }\n",
              "\n",
              "    [theme=dark] .colab-df-convert:hover {\n",
              "      background-color: #434B5C;\n",
              "      box-shadow: 0px 1px 3px 1px rgba(0, 0, 0, 0.15);\n",
              "      filter: drop-shadow(0px 1px 2px rgba(0, 0, 0, 0.3));\n",
              "      fill: #FFFFFF;\n",
              "    }\n",
              "  </style>\n",
              "\n",
              "      <script>\n",
              "        const buttonEl =\n",
              "          document.querySelector('#df-7762e3fe-a389-4df8-87b2-9e361e96c11c button.colab-df-convert');\n",
              "        buttonEl.style.display =\n",
              "          google.colab.kernel.accessAllowed ? 'block' : 'none';\n",
              "\n",
              "        async function convertToInteractive(key) {\n",
              "          const element = document.querySelector('#df-7762e3fe-a389-4df8-87b2-9e361e96c11c');\n",
              "          const dataTable =\n",
              "            await google.colab.kernel.invokeFunction('convertToInteractive',\n",
              "                                                     [key], {});\n",
              "          if (!dataTable) return;\n",
              "\n",
              "          const docLinkHtml = 'Like what you see? Visit the ' +\n",
              "            '<a target=\"_blank\" href=https://colab.research.google.com/notebooks/data_table.ipynb>data table notebook</a>'\n",
              "            + ' to learn more about interactive tables.';\n",
              "          element.innerHTML = '';\n",
              "          dataTable['output_type'] = 'display_data';\n",
              "          await google.colab.output.renderOutput(dataTable, element);\n",
              "          const docLink = document.createElement('div');\n",
              "          docLink.innerHTML = docLinkHtml;\n",
              "          element.appendChild(docLink);\n",
              "        }\n",
              "      </script>\n",
              "    </div>\n",
              "  </div>\n",
              "  "
            ],
            "text/plain": [
              "  business_code cust_number  ... baseline_create_date cust_payment_terms\n",
              "0          U001  0200769623  ...           20200126.0               NAH4\n",
              "1          U001  0200980828  ...           20190722.0               NAD1\n",
              "2          U001  0200792734  ...           20190914.0               NAA8\n",
              "3          CA02  0140105686  ...           20200331.0               CA10\n",
              "4          U001  0200769623  ...           20191113.0               NAH4\n",
              "\n",
              "[5 rows x 12 columns]"
            ]
          },
          "metadata": {},
          "execution_count": 403
        }
      ],
      "source": [
        "df.head()"
      ],
      "id": "ef3f7d2b"
    },
    {
      "cell_type": "code",
      "execution_count": null,
      "metadata": {
        "colab": {
          "base_uri": "https://localhost:8080/"
        },
        "id": "1ae3c7e4",
        "outputId": "16ad9991-ad5a-4a90-d867-9405f178c54d"
      },
      "outputs": [
        {
          "output_type": "execute_result",
          "data": {
            "text/plain": [
              "(50000, 12)"
            ]
          },
          "metadata": {},
          "execution_count": 404
        }
      ],
      "source": [
        "df.shape"
      ],
      "id": "1ae3c7e4"
    },
    {
      "cell_type": "markdown",
      "metadata": {
        "id": "6bc052c7"
      },
      "source": [
        "### Show all the Duplicate rows from the dataframe"
      ],
      "id": "6bc052c7"
    },
    {
      "cell_type": "code",
      "execution_count": null,
      "metadata": {
        "colab": {
          "base_uri": "https://localhost:8080/"
        },
        "id": "Le04TEDQpCpg",
        "outputId": "185d352c-f0ad-4bec-e57e-e9a5c29bcc1d"
      },
      "outputs": [
        {
          "output_type": "execute_result",
          "data": {
            "text/plain": [
              "0        False\n",
              "1        False\n",
              "2        False\n",
              "3        False\n",
              "4        False\n",
              "         ...  \n",
              "49995    False\n",
              "49996    False\n",
              "49997    False\n",
              "49998    False\n",
              "49999    False\n",
              "Length: 50000, dtype: bool"
            ]
          },
          "metadata": {},
          "execution_count": 405
        }
      ],
      "source": [
        "df.duplicated() "
      ],
      "id": "Le04TEDQpCpg"
    },
    {
      "cell_type": "markdown",
      "metadata": {
        "id": "464fab09"
      },
      "source": [
        "### Display the Number of Duplicate Rows"
      ],
      "id": "464fab09"
    },
    {
      "cell_type": "code",
      "execution_count": null,
      "metadata": {
        "colab": {
          "base_uri": "https://localhost:8080/"
        },
        "id": "uIaQPzcomdVZ",
        "outputId": "468cfbf6-21c8-47e6-ccb8-a4e857b8fd80"
      },
      "outputs": [
        {
          "output_type": "stream",
          "name": "stdout",
          "text": [
            "1161\n"
          ]
        }
      ],
      "source": [
        "print(df.duplicated().sum())"
      ],
      "id": "uIaQPzcomdVZ"
    },
    {
      "cell_type": "markdown",
      "metadata": {
        "id": "827a6718"
      },
      "source": [
        "### Drop all the Duplicate Rows"
      ],
      "id": "827a6718"
    },
    {
      "cell_type": "code",
      "execution_count": null,
      "metadata": {
        "id": "b1ea2397"
      },
      "outputs": [],
      "source": [
        "df.drop_duplicates(subset = [\"business_code\", \"cust_number\", \"name_customer\",\t\"clear_date\",\t\"buisness_year\",\t\"doc_id\",\t\"posting_date\",\t\"due_in_date\",\t\"invoice_currency\",\t\"total_open_amount\",\t\"baseline_create_date\"],keep = \"last\", inplace = True )\n",
        "df.reset_index(drop=True,inplace=True)\n"
      ],
      "id": "b1ea2397"
    },
    {
      "cell_type": "markdown",
      "metadata": {
        "id": "7e5d1f9b"
      },
      "source": [
        "#### Now check for all duplicate rows now\n",
        "\n",
        "- Note - It must be 0 by now"
      ],
      "id": "7e5d1f9b"
    },
    {
      "cell_type": "code",
      "execution_count": null,
      "metadata": {
        "colab": {
          "base_uri": "https://localhost:8080/"
        },
        "id": "9accc9fc",
        "outputId": "034c2332-b2b5-4f5e-a99d-f38b00b44d35"
      },
      "outputs": [
        {
          "output_type": "stream",
          "name": "stdout",
          "text": [
            "0\n"
          ]
        }
      ],
      "source": [
        "print(df.duplicated().sum())"
      ],
      "id": "9accc9fc"
    },
    {
      "cell_type": "markdown",
      "metadata": {
        "id": "d0704898"
      },
      "source": [
        "### Check for the number of Rows and Columns in your dataset"
      ],
      "id": "d0704898"
    },
    {
      "cell_type": "code",
      "execution_count": null,
      "metadata": {
        "colab": {
          "base_uri": "https://localhost:8080/"
        },
        "id": "582748a8",
        "outputId": "44dadad1-fddf-4358-da7e-4f5da8f81d84"
      },
      "outputs": [
        {
          "output_type": "execute_result",
          "data": {
            "text/plain": [
              "(48839, 12)"
            ]
          },
          "metadata": {},
          "execution_count": 409
        }
      ],
      "source": [
        "# We can see  that 1,161 duplicate rows have been removed\n",
        "df.shape # 50,000 - 1,161 = 48839 "
      ],
      "id": "582748a8"
    },
    {
      "cell_type": "markdown",
      "metadata": {
        "id": "4o9c5UodWRtl"
      },
      "source": [
        "### Find out the total count of null values in each columns"
      ],
      "id": "4o9c5UodWRtl"
    },
    {
      "cell_type": "code",
      "execution_count": null,
      "metadata": {
        "colab": {
          "base_uri": "https://localhost:8080/"
        },
        "id": "b0612cb5",
        "outputId": "71a1fc12-ff85-48bb-b3e6-24e7aee8cf6d"
      },
      "outputs": [
        {
          "output_type": "stream",
          "name": "stdout",
          "text": [
            "business_code              0\n",
            "cust_number                0\n",
            "name_customer              0\n",
            "clear_date              9681\n",
            "buisness_year              0\n",
            "doc_id                     0\n",
            "posting_date               0\n",
            "due_in_date                0\n",
            "invoice_currency           0\n",
            "total_open_amount          0\n",
            "baseline_create_date       0\n",
            "cust_payment_terms         0\n",
            "dtype: int64\n"
          ]
        }
      ],
      "source": [
        "# Here we will check the number of null values in each features. \n",
        "print(df.isnull().sum())"
      ],
      "id": "b0612cb5"
    },
    {
      "cell_type": "markdown",
      "metadata": {
        "id": "7abdb98b"
      },
      "source": [
        "#Data type Conversion "
      ],
      "id": "7abdb98b"
    },
    {
      "cell_type": "markdown",
      "metadata": {
        "id": "LPfSUSp-WpPj"
      },
      "source": [
        "### Please check the data type of each column of the dataframe"
      ],
      "id": "LPfSUSp-WpPj"
    },
    {
      "cell_type": "code",
      "execution_count": null,
      "metadata": {
        "colab": {
          "base_uri": "https://localhost:8080/"
        },
        "id": "689c8592",
        "outputId": "8b823373-2b9a-4ea5-9578-340a41a4aa09"
      },
      "outputs": [
        {
          "output_type": "stream",
          "name": "stdout",
          "text": [
            "Columns with the type of data it holds\n",
            "\n",
            "Column                     Datatype\n"
          ]
        },
        {
          "output_type": "execute_result",
          "data": {
            "text/plain": [
              "business_code            object\n",
              "cust_number              object\n",
              "name_customer            object\n",
              "clear_date               object\n",
              "buisness_year           float64\n",
              "doc_id                  float64\n",
              "posting_date             object\n",
              "due_in_date             float64\n",
              "invoice_currency         object\n",
              "total_open_amount       float64\n",
              "baseline_create_date    float64\n",
              "cust_payment_terms       object\n",
              "dtype: object"
            ]
          },
          "metadata": {},
          "execution_count": 411
        }
      ],
      "source": [
        "print(\"Columns with the type of data it holds\")\n",
        "print()\n",
        "print(\"Column                     Datatype\")\n",
        "df.dtypes  # returns a Series with the data type of each column"
      ],
      "id": "689c8592"
    },
    {
      "cell_type": "markdown",
      "metadata": {
        "id": "0nsem0_3XzOt"
      },
      "source": [
        "### Check the datatype format of below columns\n",
        "\n",
        "- clear_date  \n",
        "- posting_date\n",
        "- due_in_date \n",
        "- baseline_create_date"
      ],
      "id": "0nsem0_3XzOt"
    },
    {
      "cell_type": "code",
      "execution_count": null,
      "metadata": {
        "colab": {
          "base_uri": "https://localhost:8080/"
        },
        "id": "-yyODyW3X6pL",
        "outputId": "ff6f40f0-e7bd-4d59-95f5-1a398cff29cf"
      },
      "outputs": [
        {
          "output_type": "execute_result",
          "data": {
            "text/plain": [
              "clear_date               object\n",
              "posting_date             object\n",
              "due_in_date             float64\n",
              "baseline_create_date    float64\n",
              "dtype: object"
            ]
          },
          "metadata": {},
          "execution_count": 412
        }
      ],
      "source": [
        "df[[\"clear_date\", \"posting_date\", \"due_in_date\", \"baseline_create_date\"]].dtypes"
      ],
      "id": "-yyODyW3X6pL"
    },
    {
      "cell_type": "markdown",
      "metadata": {
        "id": "11cf9478"
      },
      "source": [
        "### converting date columns into date time formats\n",
        "\n",
        "- clear_date  \n",
        "- posting_date\n",
        "- due_in_date \n",
        "- baseline_create_date\n",
        "\n",
        "\n",
        "- **Note - You have to convert all these above columns into \"%Y%m%d\" format**"
      ],
      "id": "11cf9478"
    },
    {
      "cell_type": "code",
      "execution_count": null,
      "metadata": {
        "id": "9a8c6c71"
      },
      "outputs": [],
      "source": [
        "def dt_conv(col):\n",
        "    if df[col].dtypes == 'object': #column whose dtype is object\n",
        "        df[col] = pd.to_datetime(df[col]).dt.date #removing if there is any extra data time along with the date\n",
        "        df[col] =pd.to_datetime(df[col],format='%Y-%m-%d') #converting date in specified format\n",
        "    else:\n",
        "        df[col] =pd.to_datetime(df[col],format='%Y%m%d')\n",
        "        \n",
        "        \n",
        "#column list that contains all the dates as data \n",
        "column_lst = ['clear_date','posting_date','due_in_date','baseline_create_date']\n",
        "\n",
        "for column in column_lst: \n",
        "    dt_conv(column)#function call for a column that present in the list of column_lst"
      ],
      "id": "9a8c6c71"
    },
    {
      "cell_type": "markdown",
      "metadata": {
        "id": "7adq0wSIYSCS"
      },
      "source": [
        "### Please check the datatype of all the columns after conversion of the above 4 columns"
      ],
      "id": "7adq0wSIYSCS"
    },
    {
      "cell_type": "code",
      "execution_count": null,
      "metadata": {
        "colab": {
          "base_uri": "https://localhost:8080/"
        },
        "id": "fd028c61",
        "outputId": "efa1f90a-80d6-4147-c00b-06f4c751e803"
      },
      "outputs": [
        {
          "output_type": "execute_result",
          "data": {
            "text/plain": [
              "business_code                   object\n",
              "cust_number                     object\n",
              "name_customer                   object\n",
              "clear_date              datetime64[ns]\n",
              "buisness_year                  float64\n",
              "doc_id                         float64\n",
              "posting_date            datetime64[ns]\n",
              "due_in_date             datetime64[ns]\n",
              "invoice_currency                object\n",
              "total_open_amount              float64\n",
              "baseline_create_date    datetime64[ns]\n",
              "cust_payment_terms              object\n",
              "dtype: object"
            ]
          },
          "metadata": {},
          "execution_count": 414
        }
      ],
      "source": [
        "df.dtypes"
      ],
      "id": "fd028c61"
    },
    {
      "cell_type": "markdown",
      "metadata": {
        "id": "8c9882fa"
      },
      "source": [
        "#### the invoice_currency column contains two different categories, USD and CAD\n",
        "\n",
        "- Please do a count of each currency "
      ],
      "id": "8c9882fa"
    },
    {
      "cell_type": "code",
      "execution_count": null,
      "metadata": {
        "colab": {
          "base_uri": "https://localhost:8080/"
        },
        "id": "72085397",
        "outputId": "2b0e0955-8d80-4c7f-ebc7-251e8d3dd1da"
      },
      "outputs": [
        {
          "output_type": "execute_result",
          "data": {
            "text/plain": [
              "USD    45011\n",
              "CAD     3828\n",
              "Name: invoice_currency, dtype: int64"
            ]
          },
          "metadata": {},
          "execution_count": 415
        }
      ],
      "source": [
        "df[\"invoice_currency\"].value_counts()"
      ],
      "id": "72085397"
    },
    {
      "cell_type": "markdown",
      "metadata": {
        "id": "6cbe26ee"
      },
      "source": [
        "#### display the \"total_open_amount\" column value"
      ],
      "id": "6cbe26ee"
    },
    {
      "cell_type": "code",
      "execution_count": null,
      "metadata": {
        "colab": {
          "base_uri": "https://localhost:8080/",
          "height": 424
        },
        "id": "6c49f2ab",
        "outputId": "b9a3bd66-c27d-48f7-c07d-149634ca635a"
      },
      "outputs": [
        {
          "output_type": "execute_result",
          "data": {
            "text/html": [
              "\n",
              "  <div id=\"df-de4f04c2-78a8-429a-b9cf-2997bc409052\">\n",
              "    <div class=\"colab-df-container\">\n",
              "      <div>\n",
              "<style scoped>\n",
              "    .dataframe tbody tr th:only-of-type {\n",
              "        vertical-align: middle;\n",
              "    }\n",
              "\n",
              "    .dataframe tbody tr th {\n",
              "        vertical-align: top;\n",
              "    }\n",
              "\n",
              "    .dataframe thead th {\n",
              "        text-align: right;\n",
              "    }\n",
              "</style>\n",
              "<table border=\"1\" class=\"dataframe\">\n",
              "  <thead>\n",
              "    <tr style=\"text-align: right;\">\n",
              "      <th></th>\n",
              "      <th>total_open_amount</th>\n",
              "    </tr>\n",
              "  </thead>\n",
              "  <tbody>\n",
              "    <tr>\n",
              "      <th>0</th>\n",
              "      <td>54273.28</td>\n",
              "    </tr>\n",
              "    <tr>\n",
              "      <th>1</th>\n",
              "      <td>79656.60</td>\n",
              "    </tr>\n",
              "    <tr>\n",
              "      <th>2</th>\n",
              "      <td>2253.86</td>\n",
              "    </tr>\n",
              "    <tr>\n",
              "      <th>3</th>\n",
              "      <td>3299.70</td>\n",
              "    </tr>\n",
              "    <tr>\n",
              "      <th>4</th>\n",
              "      <td>33133.29</td>\n",
              "    </tr>\n",
              "    <tr>\n",
              "      <th>...</th>\n",
              "      <td>...</td>\n",
              "    </tr>\n",
              "    <tr>\n",
              "      <th>48834</th>\n",
              "      <td>3187.86</td>\n",
              "    </tr>\n",
              "    <tr>\n",
              "      <th>48835</th>\n",
              "      <td>6766.54</td>\n",
              "    </tr>\n",
              "    <tr>\n",
              "      <th>48836</th>\n",
              "      <td>6120.86</td>\n",
              "    </tr>\n",
              "    <tr>\n",
              "      <th>48837</th>\n",
              "      <td>63.48</td>\n",
              "    </tr>\n",
              "    <tr>\n",
              "      <th>48838</th>\n",
              "      <td>1790.30</td>\n",
              "    </tr>\n",
              "  </tbody>\n",
              "</table>\n",
              "<p>48839 rows × 1 columns</p>\n",
              "</div>\n",
              "      <button class=\"colab-df-convert\" onclick=\"convertToInteractive('df-de4f04c2-78a8-429a-b9cf-2997bc409052')\"\n",
              "              title=\"Convert this dataframe to an interactive table.\"\n",
              "              style=\"display:none;\">\n",
              "        \n",
              "  <svg xmlns=\"http://www.w3.org/2000/svg\" height=\"24px\"viewBox=\"0 0 24 24\"\n",
              "       width=\"24px\">\n",
              "    <path d=\"M0 0h24v24H0V0z\" fill=\"none\"/>\n",
              "    <path d=\"M18.56 5.44l.94 2.06.94-2.06 2.06-.94-2.06-.94-.94-2.06-.94 2.06-2.06.94zm-11 1L8.5 8.5l.94-2.06 2.06-.94-2.06-.94L8.5 2.5l-.94 2.06-2.06.94zm10 10l.94 2.06.94-2.06 2.06-.94-2.06-.94-.94-2.06-.94 2.06-2.06.94z\"/><path d=\"M17.41 7.96l-1.37-1.37c-.4-.4-.92-.59-1.43-.59-.52 0-1.04.2-1.43.59L10.3 9.45l-7.72 7.72c-.78.78-.78 2.05 0 2.83L4 21.41c.39.39.9.59 1.41.59.51 0 1.02-.2 1.41-.59l7.78-7.78 2.81-2.81c.8-.78.8-2.07 0-2.86zM5.41 20L4 18.59l7.72-7.72 1.47 1.35L5.41 20z\"/>\n",
              "  </svg>\n",
              "      </button>\n",
              "      \n",
              "  <style>\n",
              "    .colab-df-container {\n",
              "      display:flex;\n",
              "      flex-wrap:wrap;\n",
              "      gap: 12px;\n",
              "    }\n",
              "\n",
              "    .colab-df-convert {\n",
              "      background-color: #E8F0FE;\n",
              "      border: none;\n",
              "      border-radius: 50%;\n",
              "      cursor: pointer;\n",
              "      display: none;\n",
              "      fill: #1967D2;\n",
              "      height: 32px;\n",
              "      padding: 0 0 0 0;\n",
              "      width: 32px;\n",
              "    }\n",
              "\n",
              "    .colab-df-convert:hover {\n",
              "      background-color: #E2EBFA;\n",
              "      box-shadow: 0px 1px 2px rgba(60, 64, 67, 0.3), 0px 1px 3px 1px rgba(60, 64, 67, 0.15);\n",
              "      fill: #174EA6;\n",
              "    }\n",
              "\n",
              "    [theme=dark] .colab-df-convert {\n",
              "      background-color: #3B4455;\n",
              "      fill: #D2E3FC;\n",
              "    }\n",
              "\n",
              "    [theme=dark] .colab-df-convert:hover {\n",
              "      background-color: #434B5C;\n",
              "      box-shadow: 0px 1px 3px 1px rgba(0, 0, 0, 0.15);\n",
              "      filter: drop-shadow(0px 1px 2px rgba(0, 0, 0, 0.3));\n",
              "      fill: #FFFFFF;\n",
              "    }\n",
              "  </style>\n",
              "\n",
              "      <script>\n",
              "        const buttonEl =\n",
              "          document.querySelector('#df-de4f04c2-78a8-429a-b9cf-2997bc409052 button.colab-df-convert');\n",
              "        buttonEl.style.display =\n",
              "          google.colab.kernel.accessAllowed ? 'block' : 'none';\n",
              "\n",
              "        async function convertToInteractive(key) {\n",
              "          const element = document.querySelector('#df-de4f04c2-78a8-429a-b9cf-2997bc409052');\n",
              "          const dataTable =\n",
              "            await google.colab.kernel.invokeFunction('convertToInteractive',\n",
              "                                                     [key], {});\n",
              "          if (!dataTable) return;\n",
              "\n",
              "          const docLinkHtml = 'Like what you see? Visit the ' +\n",
              "            '<a target=\"_blank\" href=https://colab.research.google.com/notebooks/data_table.ipynb>data table notebook</a>'\n",
              "            + ' to learn more about interactive tables.';\n",
              "          element.innerHTML = '';\n",
              "          dataTable['output_type'] = 'display_data';\n",
              "          await google.colab.output.renderOutput(dataTable, element);\n",
              "          const docLink = document.createElement('div');\n",
              "          docLink.innerHTML = docLinkHtml;\n",
              "          element.appendChild(docLink);\n",
              "        }\n",
              "      </script>\n",
              "    </div>\n",
              "  </div>\n",
              "  "
            ],
            "text/plain": [
              "       total_open_amount\n",
              "0               54273.28\n",
              "1               79656.60\n",
              "2                2253.86\n",
              "3                3299.70\n",
              "4               33133.29\n",
              "...                  ...\n",
              "48834            3187.86\n",
              "48835            6766.54\n",
              "48836            6120.86\n",
              "48837              63.48\n",
              "48838            1790.30\n",
              "\n",
              "[48839 rows x 1 columns]"
            ]
          },
          "metadata": {},
          "execution_count": 416
        }
      ],
      "source": [
        "df[[\"total_open_amount\"]]"
      ],
      "id": "6c49f2ab"
    },
    {
      "cell_type": "markdown",
      "metadata": {
        "id": "df899966"
      },
      "source": [
        "### Convert all CAD into USD currency of \"total_open_amount\" column\n",
        "\n",
        "- 1 CAD = 0.7 USD\n",
        "- Create a new column i.e \"converted_usd\" and store USD and convered CAD to USD"
      ],
      "id": "df899966"
    },
    {
      "cell_type": "code",
      "execution_count": null,
      "metadata": {
        "colab": {
          "base_uri": "https://localhost:8080/"
        },
        "id": "8eb2f1c5",
        "outputId": "657a2a10-c68d-4048-d4d4-ec1e3cfcb6a2"
      },
      "outputs": [
        {
          "output_type": "execute_result",
          "data": {
            "text/plain": [
              "3         3299.70\n",
              "5        22225.84\n",
              "25       92832.27\n",
              "29       48413.28\n",
              "44       31715.46\n",
              "           ...   \n",
              "48718    46696.50\n",
              "48728    60134.34\n",
              "48765     5727.30\n",
              "48788    93386.81\n",
              "48794     1082.69\n",
              "Name: total_open_amount, Length: 3828, dtype: float64"
            ]
          },
          "metadata": {},
          "execution_count": 417
        }
      ],
      "source": [
        "df.loc[df[\"invoice_currency\"] == \"CAD\", \"total_open_amount\"] \n",
        "#df.query(\"invoice_currency == 'CAD'\")['total_open_amount']\n"
      ],
      "id": "8eb2f1c5"
    },
    {
      "cell_type": "code",
      "execution_count": null,
      "metadata": {
        "id": "ze5OIWZktaA3"
      },
      "outputs": [],
      "source": [
        "#df.loc[df['invoice_currency']!='CAD','total_open_amount']=df.loc[df['invoice_currency']!='CAD','total_open_amount']*0.7\n",
        "for i in range(len(df)):\n",
        "    if df['invoice_currency'][i] == 'CAD':\n",
        "      df['total_open_amount'][i] = df['total_open_amount'][i] * 0.7\n"
      ],
      "id": "ze5OIWZktaA3"
    },
    {
      "cell_type": "code",
      "execution_count": null,
      "metadata": {
        "colab": {
          "base_uri": "https://localhost:8080/",
          "height": 288
        },
        "id": "96tMKVI-lC_A",
        "outputId": "37453a78-cf90-45e0-e7b0-e28a78e08bfb"
      },
      "outputs": [
        {
          "output_type": "execute_result",
          "data": {
            "text/html": [
              "\n",
              "  <div id=\"df-2306e1f6-fd83-4aa5-8e2d-5232c378998e\">\n",
              "    <div class=\"colab-df-container\">\n",
              "      <div>\n",
              "<style scoped>\n",
              "    .dataframe tbody tr th:only-of-type {\n",
              "        vertical-align: middle;\n",
              "    }\n",
              "\n",
              "    .dataframe tbody tr th {\n",
              "        vertical-align: top;\n",
              "    }\n",
              "\n",
              "    .dataframe thead th {\n",
              "        text-align: right;\n",
              "    }\n",
              "</style>\n",
              "<table border=\"1\" class=\"dataframe\">\n",
              "  <thead>\n",
              "    <tr style=\"text-align: right;\">\n",
              "      <th></th>\n",
              "      <th>business_code</th>\n",
              "      <th>cust_number</th>\n",
              "      <th>name_customer</th>\n",
              "      <th>clear_date</th>\n",
              "      <th>buisness_year</th>\n",
              "      <th>doc_id</th>\n",
              "      <th>posting_date</th>\n",
              "      <th>due_in_date</th>\n",
              "      <th>invoice_currency</th>\n",
              "      <th>total_open_amount</th>\n",
              "      <th>baseline_create_date</th>\n",
              "      <th>cust_payment_terms</th>\n",
              "    </tr>\n",
              "  </thead>\n",
              "  <tbody>\n",
              "    <tr>\n",
              "      <th>0</th>\n",
              "      <td>U001</td>\n",
              "      <td>0200769623</td>\n",
              "      <td>WAL-MAR corp</td>\n",
              "      <td>2020-02-11</td>\n",
              "      <td>2020.0</td>\n",
              "      <td>1.930438e+09</td>\n",
              "      <td>2020-01-26</td>\n",
              "      <td>2020-02-10</td>\n",
              "      <td>USD</td>\n",
              "      <td>54273.28</td>\n",
              "      <td>2020-01-26</td>\n",
              "      <td>NAH4</td>\n",
              "    </tr>\n",
              "    <tr>\n",
              "      <th>1</th>\n",
              "      <td>U001</td>\n",
              "      <td>0200980828</td>\n",
              "      <td>BEN E</td>\n",
              "      <td>2019-08-08</td>\n",
              "      <td>2019.0</td>\n",
              "      <td>1.929646e+09</td>\n",
              "      <td>2019-07-22</td>\n",
              "      <td>2019-08-11</td>\n",
              "      <td>USD</td>\n",
              "      <td>79656.60</td>\n",
              "      <td>2019-07-22</td>\n",
              "      <td>NAD1</td>\n",
              "    </tr>\n",
              "    <tr>\n",
              "      <th>2</th>\n",
              "      <td>U001</td>\n",
              "      <td>0200792734</td>\n",
              "      <td>MDV/ trust</td>\n",
              "      <td>2019-12-30</td>\n",
              "      <td>2019.0</td>\n",
              "      <td>1.929874e+09</td>\n",
              "      <td>2019-09-14</td>\n",
              "      <td>2019-09-29</td>\n",
              "      <td>USD</td>\n",
              "      <td>2253.86</td>\n",
              "      <td>2019-09-14</td>\n",
              "      <td>NAA8</td>\n",
              "    </tr>\n",
              "    <tr>\n",
              "      <th>3</th>\n",
              "      <td>CA02</td>\n",
              "      <td>0140105686</td>\n",
              "      <td>SYSC llc</td>\n",
              "      <td>NaT</td>\n",
              "      <td>2020.0</td>\n",
              "      <td>2.960623e+09</td>\n",
              "      <td>2020-03-30</td>\n",
              "      <td>2020-04-10</td>\n",
              "      <td>CAD</td>\n",
              "      <td>2309.79</td>\n",
              "      <td>2020-03-31</td>\n",
              "      <td>CA10</td>\n",
              "    </tr>\n",
              "    <tr>\n",
              "      <th>4</th>\n",
              "      <td>U001</td>\n",
              "      <td>0200769623</td>\n",
              "      <td>WAL-MAR foundation</td>\n",
              "      <td>2019-11-25</td>\n",
              "      <td>2019.0</td>\n",
              "      <td>1.930148e+09</td>\n",
              "      <td>2019-11-13</td>\n",
              "      <td>2019-11-28</td>\n",
              "      <td>USD</td>\n",
              "      <td>33133.29</td>\n",
              "      <td>2019-11-13</td>\n",
              "      <td>NAH4</td>\n",
              "    </tr>\n",
              "  </tbody>\n",
              "</table>\n",
              "</div>\n",
              "      <button class=\"colab-df-convert\" onclick=\"convertToInteractive('df-2306e1f6-fd83-4aa5-8e2d-5232c378998e')\"\n",
              "              title=\"Convert this dataframe to an interactive table.\"\n",
              "              style=\"display:none;\">\n",
              "        \n",
              "  <svg xmlns=\"http://www.w3.org/2000/svg\" height=\"24px\"viewBox=\"0 0 24 24\"\n",
              "       width=\"24px\">\n",
              "    <path d=\"M0 0h24v24H0V0z\" fill=\"none\"/>\n",
              "    <path d=\"M18.56 5.44l.94 2.06.94-2.06 2.06-.94-2.06-.94-.94-2.06-.94 2.06-2.06.94zm-11 1L8.5 8.5l.94-2.06 2.06-.94-2.06-.94L8.5 2.5l-.94 2.06-2.06.94zm10 10l.94 2.06.94-2.06 2.06-.94-2.06-.94-.94-2.06-.94 2.06-2.06.94z\"/><path d=\"M17.41 7.96l-1.37-1.37c-.4-.4-.92-.59-1.43-.59-.52 0-1.04.2-1.43.59L10.3 9.45l-7.72 7.72c-.78.78-.78 2.05 0 2.83L4 21.41c.39.39.9.59 1.41.59.51 0 1.02-.2 1.41-.59l7.78-7.78 2.81-2.81c.8-.78.8-2.07 0-2.86zM5.41 20L4 18.59l7.72-7.72 1.47 1.35L5.41 20z\"/>\n",
              "  </svg>\n",
              "      </button>\n",
              "      \n",
              "  <style>\n",
              "    .colab-df-container {\n",
              "      display:flex;\n",
              "      flex-wrap:wrap;\n",
              "      gap: 12px;\n",
              "    }\n",
              "\n",
              "    .colab-df-convert {\n",
              "      background-color: #E8F0FE;\n",
              "      border: none;\n",
              "      border-radius: 50%;\n",
              "      cursor: pointer;\n",
              "      display: none;\n",
              "      fill: #1967D2;\n",
              "      height: 32px;\n",
              "      padding: 0 0 0 0;\n",
              "      width: 32px;\n",
              "    }\n",
              "\n",
              "    .colab-df-convert:hover {\n",
              "      background-color: #E2EBFA;\n",
              "      box-shadow: 0px 1px 2px rgba(60, 64, 67, 0.3), 0px 1px 3px 1px rgba(60, 64, 67, 0.15);\n",
              "      fill: #174EA6;\n",
              "    }\n",
              "\n",
              "    [theme=dark] .colab-df-convert {\n",
              "      background-color: #3B4455;\n",
              "      fill: #D2E3FC;\n",
              "    }\n",
              "\n",
              "    [theme=dark] .colab-df-convert:hover {\n",
              "      background-color: #434B5C;\n",
              "      box-shadow: 0px 1px 3px 1px rgba(0, 0, 0, 0.15);\n",
              "      filter: drop-shadow(0px 1px 2px rgba(0, 0, 0, 0.3));\n",
              "      fill: #FFFFFF;\n",
              "    }\n",
              "  </style>\n",
              "\n",
              "      <script>\n",
              "        const buttonEl =\n",
              "          document.querySelector('#df-2306e1f6-fd83-4aa5-8e2d-5232c378998e button.colab-df-convert');\n",
              "        buttonEl.style.display =\n",
              "          google.colab.kernel.accessAllowed ? 'block' : 'none';\n",
              "\n",
              "        async function convertToInteractive(key) {\n",
              "          const element = document.querySelector('#df-2306e1f6-fd83-4aa5-8e2d-5232c378998e');\n",
              "          const dataTable =\n",
              "            await google.colab.kernel.invokeFunction('convertToInteractive',\n",
              "                                                     [key], {});\n",
              "          if (!dataTable) return;\n",
              "\n",
              "          const docLinkHtml = 'Like what you see? Visit the ' +\n",
              "            '<a target=\"_blank\" href=https://colab.research.google.com/notebooks/data_table.ipynb>data table notebook</a>'\n",
              "            + ' to learn more about interactive tables.';\n",
              "          element.innerHTML = '';\n",
              "          dataTable['output_type'] = 'display_data';\n",
              "          await google.colab.output.renderOutput(dataTable, element);\n",
              "          const docLink = document.createElement('div');\n",
              "          docLink.innerHTML = docLinkHtml;\n",
              "          element.appendChild(docLink);\n",
              "        }\n",
              "      </script>\n",
              "    </div>\n",
              "  </div>\n",
              "  "
            ],
            "text/plain": [
              "  business_code cust_number  ... baseline_create_date cust_payment_terms\n",
              "0          U001  0200769623  ...           2020-01-26               NAH4\n",
              "1          U001  0200980828  ...           2019-07-22               NAD1\n",
              "2          U001  0200792734  ...           2019-09-14               NAA8\n",
              "3          CA02  0140105686  ...           2020-03-31               CA10\n",
              "4          U001  0200769623  ...           2019-11-13               NAH4\n",
              "\n",
              "[5 rows x 12 columns]"
            ]
          },
          "metadata": {},
          "execution_count": 419
        }
      ],
      "source": [
        "df.head()"
      ],
      "id": "96tMKVI-lC_A"
    },
    {
      "cell_type": "code",
      "execution_count": null,
      "metadata": {
        "id": "GogwmmnijEek"
      },
      "outputs": [],
      "source": [
        "df[\"converted_usd\"] = df[\"total_open_amount\"]"
      ],
      "id": "GogwmmnijEek"
    },
    {
      "cell_type": "code",
      "execution_count": null,
      "metadata": {
        "colab": {
          "base_uri": "https://localhost:8080/",
          "height": 288
        },
        "id": "r2-RI4GFlG4-",
        "outputId": "7be921f8-fbf3-4954-9563-a908094a0fa0"
      },
      "outputs": [
        {
          "output_type": "execute_result",
          "data": {
            "text/html": [
              "\n",
              "  <div id=\"df-378b0d2a-cb0b-4260-b1d5-2ebb2aba7336\">\n",
              "    <div class=\"colab-df-container\">\n",
              "      <div>\n",
              "<style scoped>\n",
              "    .dataframe tbody tr th:only-of-type {\n",
              "        vertical-align: middle;\n",
              "    }\n",
              "\n",
              "    .dataframe tbody tr th {\n",
              "        vertical-align: top;\n",
              "    }\n",
              "\n",
              "    .dataframe thead th {\n",
              "        text-align: right;\n",
              "    }\n",
              "</style>\n",
              "<table border=\"1\" class=\"dataframe\">\n",
              "  <thead>\n",
              "    <tr style=\"text-align: right;\">\n",
              "      <th></th>\n",
              "      <th>business_code</th>\n",
              "      <th>cust_number</th>\n",
              "      <th>name_customer</th>\n",
              "      <th>clear_date</th>\n",
              "      <th>buisness_year</th>\n",
              "      <th>doc_id</th>\n",
              "      <th>posting_date</th>\n",
              "      <th>due_in_date</th>\n",
              "      <th>invoice_currency</th>\n",
              "      <th>total_open_amount</th>\n",
              "      <th>baseline_create_date</th>\n",
              "      <th>cust_payment_terms</th>\n",
              "      <th>converted_usd</th>\n",
              "    </tr>\n",
              "  </thead>\n",
              "  <tbody>\n",
              "    <tr>\n",
              "      <th>0</th>\n",
              "      <td>U001</td>\n",
              "      <td>0200769623</td>\n",
              "      <td>WAL-MAR corp</td>\n",
              "      <td>2020-02-11</td>\n",
              "      <td>2020.0</td>\n",
              "      <td>1.930438e+09</td>\n",
              "      <td>2020-01-26</td>\n",
              "      <td>2020-02-10</td>\n",
              "      <td>USD</td>\n",
              "      <td>54273.28</td>\n",
              "      <td>2020-01-26</td>\n",
              "      <td>NAH4</td>\n",
              "      <td>54273.28</td>\n",
              "    </tr>\n",
              "    <tr>\n",
              "      <th>1</th>\n",
              "      <td>U001</td>\n",
              "      <td>0200980828</td>\n",
              "      <td>BEN E</td>\n",
              "      <td>2019-08-08</td>\n",
              "      <td>2019.0</td>\n",
              "      <td>1.929646e+09</td>\n",
              "      <td>2019-07-22</td>\n",
              "      <td>2019-08-11</td>\n",
              "      <td>USD</td>\n",
              "      <td>79656.60</td>\n",
              "      <td>2019-07-22</td>\n",
              "      <td>NAD1</td>\n",
              "      <td>79656.60</td>\n",
              "    </tr>\n",
              "    <tr>\n",
              "      <th>2</th>\n",
              "      <td>U001</td>\n",
              "      <td>0200792734</td>\n",
              "      <td>MDV/ trust</td>\n",
              "      <td>2019-12-30</td>\n",
              "      <td>2019.0</td>\n",
              "      <td>1.929874e+09</td>\n",
              "      <td>2019-09-14</td>\n",
              "      <td>2019-09-29</td>\n",
              "      <td>USD</td>\n",
              "      <td>2253.86</td>\n",
              "      <td>2019-09-14</td>\n",
              "      <td>NAA8</td>\n",
              "      <td>2253.86</td>\n",
              "    </tr>\n",
              "    <tr>\n",
              "      <th>3</th>\n",
              "      <td>CA02</td>\n",
              "      <td>0140105686</td>\n",
              "      <td>SYSC llc</td>\n",
              "      <td>NaT</td>\n",
              "      <td>2020.0</td>\n",
              "      <td>2.960623e+09</td>\n",
              "      <td>2020-03-30</td>\n",
              "      <td>2020-04-10</td>\n",
              "      <td>CAD</td>\n",
              "      <td>2309.79</td>\n",
              "      <td>2020-03-31</td>\n",
              "      <td>CA10</td>\n",
              "      <td>2309.79</td>\n",
              "    </tr>\n",
              "    <tr>\n",
              "      <th>4</th>\n",
              "      <td>U001</td>\n",
              "      <td>0200769623</td>\n",
              "      <td>WAL-MAR foundation</td>\n",
              "      <td>2019-11-25</td>\n",
              "      <td>2019.0</td>\n",
              "      <td>1.930148e+09</td>\n",
              "      <td>2019-11-13</td>\n",
              "      <td>2019-11-28</td>\n",
              "      <td>USD</td>\n",
              "      <td>33133.29</td>\n",
              "      <td>2019-11-13</td>\n",
              "      <td>NAH4</td>\n",
              "      <td>33133.29</td>\n",
              "    </tr>\n",
              "  </tbody>\n",
              "</table>\n",
              "</div>\n",
              "      <button class=\"colab-df-convert\" onclick=\"convertToInteractive('df-378b0d2a-cb0b-4260-b1d5-2ebb2aba7336')\"\n",
              "              title=\"Convert this dataframe to an interactive table.\"\n",
              "              style=\"display:none;\">\n",
              "        \n",
              "  <svg xmlns=\"http://www.w3.org/2000/svg\" height=\"24px\"viewBox=\"0 0 24 24\"\n",
              "       width=\"24px\">\n",
              "    <path d=\"M0 0h24v24H0V0z\" fill=\"none\"/>\n",
              "    <path d=\"M18.56 5.44l.94 2.06.94-2.06 2.06-.94-2.06-.94-.94-2.06-.94 2.06-2.06.94zm-11 1L8.5 8.5l.94-2.06 2.06-.94-2.06-.94L8.5 2.5l-.94 2.06-2.06.94zm10 10l.94 2.06.94-2.06 2.06-.94-2.06-.94-.94-2.06-.94 2.06-2.06.94z\"/><path d=\"M17.41 7.96l-1.37-1.37c-.4-.4-.92-.59-1.43-.59-.52 0-1.04.2-1.43.59L10.3 9.45l-7.72 7.72c-.78.78-.78 2.05 0 2.83L4 21.41c.39.39.9.59 1.41.59.51 0 1.02-.2 1.41-.59l7.78-7.78 2.81-2.81c.8-.78.8-2.07 0-2.86zM5.41 20L4 18.59l7.72-7.72 1.47 1.35L5.41 20z\"/>\n",
              "  </svg>\n",
              "      </button>\n",
              "      \n",
              "  <style>\n",
              "    .colab-df-container {\n",
              "      display:flex;\n",
              "      flex-wrap:wrap;\n",
              "      gap: 12px;\n",
              "    }\n",
              "\n",
              "    .colab-df-convert {\n",
              "      background-color: #E8F0FE;\n",
              "      border: none;\n",
              "      border-radius: 50%;\n",
              "      cursor: pointer;\n",
              "      display: none;\n",
              "      fill: #1967D2;\n",
              "      height: 32px;\n",
              "      padding: 0 0 0 0;\n",
              "      width: 32px;\n",
              "    }\n",
              "\n",
              "    .colab-df-convert:hover {\n",
              "      background-color: #E2EBFA;\n",
              "      box-shadow: 0px 1px 2px rgba(60, 64, 67, 0.3), 0px 1px 3px 1px rgba(60, 64, 67, 0.15);\n",
              "      fill: #174EA6;\n",
              "    }\n",
              "\n",
              "    [theme=dark] .colab-df-convert {\n",
              "      background-color: #3B4455;\n",
              "      fill: #D2E3FC;\n",
              "    }\n",
              "\n",
              "    [theme=dark] .colab-df-convert:hover {\n",
              "      background-color: #434B5C;\n",
              "      box-shadow: 0px 1px 3px 1px rgba(0, 0, 0, 0.15);\n",
              "      filter: drop-shadow(0px 1px 2px rgba(0, 0, 0, 0.3));\n",
              "      fill: #FFFFFF;\n",
              "    }\n",
              "  </style>\n",
              "\n",
              "      <script>\n",
              "        const buttonEl =\n",
              "          document.querySelector('#df-378b0d2a-cb0b-4260-b1d5-2ebb2aba7336 button.colab-df-convert');\n",
              "        buttonEl.style.display =\n",
              "          google.colab.kernel.accessAllowed ? 'block' : 'none';\n",
              "\n",
              "        async function convertToInteractive(key) {\n",
              "          const element = document.querySelector('#df-378b0d2a-cb0b-4260-b1d5-2ebb2aba7336');\n",
              "          const dataTable =\n",
              "            await google.colab.kernel.invokeFunction('convertToInteractive',\n",
              "                                                     [key], {});\n",
              "          if (!dataTable) return;\n",
              "\n",
              "          const docLinkHtml = 'Like what you see? Visit the ' +\n",
              "            '<a target=\"_blank\" href=https://colab.research.google.com/notebooks/data_table.ipynb>data table notebook</a>'\n",
              "            + ' to learn more about interactive tables.';\n",
              "          element.innerHTML = '';\n",
              "          dataTable['output_type'] = 'display_data';\n",
              "          await google.colab.output.renderOutput(dataTable, element);\n",
              "          const docLink = document.createElement('div');\n",
              "          docLink.innerHTML = docLinkHtml;\n",
              "          element.appendChild(docLink);\n",
              "        }\n",
              "      </script>\n",
              "    </div>\n",
              "  </div>\n",
              "  "
            ],
            "text/plain": [
              "  business_code cust_number  ... cust_payment_terms converted_usd\n",
              "0          U001  0200769623  ...               NAH4      54273.28\n",
              "1          U001  0200980828  ...               NAD1      79656.60\n",
              "2          U001  0200792734  ...               NAA8       2253.86\n",
              "3          CA02  0140105686  ...               CA10       2309.79\n",
              "4          U001  0200769623  ...               NAH4      33133.29\n",
              "\n",
              "[5 rows x 13 columns]"
            ]
          },
          "metadata": {},
          "execution_count": 421
        }
      ],
      "source": [
        "df.head()"
      ],
      "id": "r2-RI4GFlG4-"
    },
    {
      "cell_type": "markdown",
      "metadata": {
        "id": "f9f6ef1d"
      },
      "source": [
        "### Display the new \"converted_usd\" column values"
      ],
      "id": "f9f6ef1d"
    },
    {
      "cell_type": "code",
      "execution_count": null,
      "metadata": {
        "colab": {
          "base_uri": "https://localhost:8080/"
        },
        "id": "Z_qf6WBOjkj5",
        "outputId": "b1668db8-5e2d-4d43-abe8-9ad981787dc4"
      },
      "outputs": [
        {
          "output_type": "execute_result",
          "data": {
            "text/plain": [
              "0        54273.28\n",
              "1        79656.60\n",
              "2         2253.86\n",
              "3         2309.79\n",
              "4        33133.29\n",
              "           ...   \n",
              "48834     3187.86\n",
              "48835     6766.54\n",
              "48836     6120.86\n",
              "48837       63.48\n",
              "48838     1790.30\n",
              "Name: converted_usd, Length: 48839, dtype: float64"
            ]
          },
          "metadata": {},
          "execution_count": 422
        }
      ],
      "source": [
        "df[\"converted_usd\"]"
      ],
      "id": "Z_qf6WBOjkj5"
    },
    {
      "cell_type": "markdown",
      "metadata": {
        "id": "6XLXX17kayuy"
      },
      "source": [
        "### Display year wise total number of record \n",
        "\n",
        "- Note -  use \"buisness_year\" column for this "
      ],
      "id": "6XLXX17kayuy"
    },
    {
      "cell_type": "code",
      "execution_count": null,
      "metadata": {
        "colab": {
          "base_uri": "https://localhost:8080/"
        },
        "id": "00c9f6ee",
        "outputId": "0f0c3efe-a3ca-490a-eef4-bce016b043e0"
      },
      "outputs": [
        {
          "output_type": "execute_result",
          "data": {
            "text/plain": [
              "2019.0    33975\n",
              "2020.0    14864\n",
              "Name: buisness_year, dtype: int64"
            ]
          },
          "metadata": {},
          "execution_count": 423
        }
      ],
      "source": [
        "df[\"buisness_year\"].value_counts()"
      ],
      "id": "00c9f6ee"
    },
    {
      "cell_type": "markdown",
      "metadata": {
        "id": "05c35904"
      },
      "source": [
        "### Write the code to delete the following columns \n",
        "\n",
        "- 'invoice_currency'\n",
        "- 'total_open_amount', "
      ],
      "id": "05c35904"
    },
    {
      "cell_type": "code",
      "execution_count": null,
      "metadata": {
        "id": "4ac28aa5"
      },
      "outputs": [],
      "source": [
        "df.drop([\"invoice_currency\", \"total_open_amount\"], axis = 1, inplace = True)"
      ],
      "id": "4ac28aa5"
    },
    {
      "cell_type": "markdown",
      "metadata": {
        "id": "bDBJ_Kvwc086"
      },
      "source": [
        "### Write a code to check the number of columns in dataframe"
      ],
      "id": "bDBJ_Kvwc086"
    },
    {
      "cell_type": "code",
      "execution_count": null,
      "metadata": {
        "colab": {
          "base_uri": "https://localhost:8080/"
        },
        "id": "ea360a8c",
        "outputId": "9d8f213e-8099-4655-c822-3e5fa56b4b28"
      },
      "outputs": [
        {
          "output_type": "stream",
          "name": "stdout",
          "text": [
            "Number of columns in dataframe is:  11\n"
          ]
        }
      ],
      "source": [
        "print(\"Number of columns in dataframe is: \", len(df.columns))"
      ],
      "id": "ea360a8c"
    },
    {
      "cell_type": "markdown",
      "metadata": {
        "id": "b8f63655"
      },
      "source": [
        "# Splitting the Dataset "
      ],
      "id": "b8f63655"
    },
    {
      "cell_type": "markdown",
      "metadata": {
        "id": "a00f749d"
      },
      "source": [
        "### Look for all columns containing null value\n",
        "\n",
        "- Note - Output expected is only one column "
      ],
      "id": "a00f749d"
    },
    {
      "cell_type": "code",
      "execution_count": null,
      "metadata": {
        "colab": {
          "base_uri": "https://localhost:8080/"
        },
        "id": "148c801e",
        "outputId": "1639b73d-6560-4808-b3c5-3a6cec4f7494"
      },
      "outputs": [
        {
          "output_type": "execute_result",
          "data": {
            "text/plain": [
              "['clear_date']"
            ]
          },
          "metadata": {},
          "execution_count": 426
        }
      ],
      "source": [
        "features_with_na = [feature for feature in df.columns if df[feature].isnull().sum() > 1] # make the list of features which has missing values\n",
        "features_with_na  # Clear_date has null values"
      ],
      "id": "148c801e"
    },
    {
      "cell_type": "markdown",
      "metadata": {
        "id": "a094a290"
      },
      "source": [
        "#### Find out the number of null values from the column that you got from the above code"
      ],
      "id": "a094a290"
    },
    {
      "cell_type": "code",
      "execution_count": null,
      "metadata": {
        "colab": {
          "base_uri": "https://localhost:8080/"
        },
        "id": "30bfb113",
        "outputId": "f7bded7b-2624-41fd-e1cc-26df2775fa33"
      },
      "outputs": [
        {
          "output_type": "execute_result",
          "data": {
            "text/plain": [
              "9681"
            ]
          },
          "metadata": {},
          "execution_count": 427
        }
      ],
      "source": [
        "df[\"clear_date\"].isnull().sum()"
      ],
      "id": "30bfb113"
    },
    {
      "cell_type": "markdown",
      "metadata": {
        "id": "7f6d939b"
      },
      "source": [
        "### On basis of the above column we are spliting data into dataset\n",
        "\n",
        "- First dataframe (refer that as maindata) only containing the rows, that have NO NULL data in that column ( This is going to be our train dataset ) \n",
        "- Second dataframe (refer that as nulldata) that contains the columns, that have Null data in that column ( This is going to be our test dataset ) "
      ],
      "id": "7f6d939b"
    },
    {
      "cell_type": "code",
      "execution_count": null,
      "metadata": {
        "id": "c8764c33"
      },
      "outputs": [],
      "source": [
        "# Train data is created with the rows who cleared the payment\n",
        "main_data = df[~df[\"clear_date\"].isnull()].reset_index(drop=True)\n",
        "\n",
        "# Test data is created with the rows who did not clear the payment\n",
        "nulldata = df[df[\"clear_date\"].isnull()].reset_index(drop=True)"
      ],
      "id": "c8764c33"
    },
    {
      "cell_type": "markdown",
      "metadata": {
        "id": "3P8riRBHd_r6"
      },
      "source": [
        "### Check the number of Rows and Columns for both the dataframes "
      ],
      "id": "3P8riRBHd_r6"
    },
    {
      "cell_type": "code",
      "execution_count": null,
      "metadata": {
        "colab": {
          "base_uri": "https://localhost:8080/"
        },
        "id": "0693a464",
        "outputId": "a197994e-ecd7-4f69-e456-500dc0c6775e"
      },
      "outputs": [
        {
          "output_type": "stream",
          "name": "stdout",
          "text": [
            "Shape of main data is:  (39158, 11)\n"
          ]
        }
      ],
      "source": [
        "print(\"Shape of main data is: \",main_data.shape)"
      ],
      "id": "0693a464"
    },
    {
      "cell_type": "code",
      "execution_count": null,
      "metadata": {
        "colab": {
          "base_uri": "https://localhost:8080/"
        },
        "id": "7f86bc74",
        "outputId": "975c0102-3e69-41b4-8997-462a1763df97"
      },
      "outputs": [
        {
          "output_type": "stream",
          "name": "stdout",
          "text": [
            "Shape of null data is:  (9681, 11)\n"
          ]
        }
      ],
      "source": [
        "print(\"Shape of null data is: \",nulldata.shape)"
      ],
      "id": "7f86bc74"
    },
    {
      "cell_type": "markdown",
      "metadata": {
        "id": "0747165d"
      },
      "source": [
        "### Display the 5 records from maindata and nulldata dataframes"
      ],
      "id": "0747165d"
    },
    {
      "cell_type": "code",
      "execution_count": null,
      "metadata": {
        "colab": {
          "base_uri": "https://localhost:8080/",
          "height": 305
        },
        "id": "dec2ec36",
        "outputId": "5fae3f71-3b52-4ffc-c0ba-4eef339119e7"
      },
      "outputs": [
        {
          "output_type": "execute_result",
          "data": {
            "text/html": [
              "\n",
              "  <div id=\"df-762a610c-f929-41ce-8aa9-d3f5a6e12bd2\">\n",
              "    <div class=\"colab-df-container\">\n",
              "      <div>\n",
              "<style scoped>\n",
              "    .dataframe tbody tr th:only-of-type {\n",
              "        vertical-align: middle;\n",
              "    }\n",
              "\n",
              "    .dataframe tbody tr th {\n",
              "        vertical-align: top;\n",
              "    }\n",
              "\n",
              "    .dataframe thead th {\n",
              "        text-align: right;\n",
              "    }\n",
              "</style>\n",
              "<table border=\"1\" class=\"dataframe\">\n",
              "  <thead>\n",
              "    <tr style=\"text-align: right;\">\n",
              "      <th></th>\n",
              "      <th>business_code</th>\n",
              "      <th>cust_number</th>\n",
              "      <th>name_customer</th>\n",
              "      <th>clear_date</th>\n",
              "      <th>buisness_year</th>\n",
              "      <th>doc_id</th>\n",
              "      <th>posting_date</th>\n",
              "      <th>due_in_date</th>\n",
              "      <th>baseline_create_date</th>\n",
              "      <th>cust_payment_terms</th>\n",
              "      <th>converted_usd</th>\n",
              "    </tr>\n",
              "  </thead>\n",
              "  <tbody>\n",
              "    <tr>\n",
              "      <th>0</th>\n",
              "      <td>U001</td>\n",
              "      <td>0200769623</td>\n",
              "      <td>WAL-MAR corp</td>\n",
              "      <td>2020-02-11</td>\n",
              "      <td>2020.0</td>\n",
              "      <td>1.930438e+09</td>\n",
              "      <td>2020-01-26</td>\n",
              "      <td>2020-02-10</td>\n",
              "      <td>2020-01-26</td>\n",
              "      <td>NAH4</td>\n",
              "      <td>54273.280</td>\n",
              "    </tr>\n",
              "    <tr>\n",
              "      <th>1</th>\n",
              "      <td>U001</td>\n",
              "      <td>0200980828</td>\n",
              "      <td>BEN E</td>\n",
              "      <td>2019-08-08</td>\n",
              "      <td>2019.0</td>\n",
              "      <td>1.929646e+09</td>\n",
              "      <td>2019-07-22</td>\n",
              "      <td>2019-08-11</td>\n",
              "      <td>2019-07-22</td>\n",
              "      <td>NAD1</td>\n",
              "      <td>79656.600</td>\n",
              "    </tr>\n",
              "    <tr>\n",
              "      <th>2</th>\n",
              "      <td>U001</td>\n",
              "      <td>0200792734</td>\n",
              "      <td>MDV/ trust</td>\n",
              "      <td>2019-12-30</td>\n",
              "      <td>2019.0</td>\n",
              "      <td>1.929874e+09</td>\n",
              "      <td>2019-09-14</td>\n",
              "      <td>2019-09-29</td>\n",
              "      <td>2019-09-14</td>\n",
              "      <td>NAA8</td>\n",
              "      <td>2253.860</td>\n",
              "    </tr>\n",
              "    <tr>\n",
              "      <th>3</th>\n",
              "      <td>U001</td>\n",
              "      <td>0200769623</td>\n",
              "      <td>WAL-MAR foundation</td>\n",
              "      <td>2019-11-25</td>\n",
              "      <td>2019.0</td>\n",
              "      <td>1.930148e+09</td>\n",
              "      <td>2019-11-13</td>\n",
              "      <td>2019-11-28</td>\n",
              "      <td>2019-11-13</td>\n",
              "      <td>NAH4</td>\n",
              "      <td>33133.290</td>\n",
              "    </tr>\n",
              "    <tr>\n",
              "      <th>4</th>\n",
              "      <td>CA02</td>\n",
              "      <td>0140106181</td>\n",
              "      <td>THE  corporation</td>\n",
              "      <td>2019-12-04</td>\n",
              "      <td>2019.0</td>\n",
              "      <td>2.960581e+09</td>\n",
              "      <td>2019-09-20</td>\n",
              "      <td>2019-10-04</td>\n",
              "      <td>2019-09-24</td>\n",
              "      <td>CA10</td>\n",
              "      <td>15558.088</td>\n",
              "    </tr>\n",
              "  </tbody>\n",
              "</table>\n",
              "</div>\n",
              "      <button class=\"colab-df-convert\" onclick=\"convertToInteractive('df-762a610c-f929-41ce-8aa9-d3f5a6e12bd2')\"\n",
              "              title=\"Convert this dataframe to an interactive table.\"\n",
              "              style=\"display:none;\">\n",
              "        \n",
              "  <svg xmlns=\"http://www.w3.org/2000/svg\" height=\"24px\"viewBox=\"0 0 24 24\"\n",
              "       width=\"24px\">\n",
              "    <path d=\"M0 0h24v24H0V0z\" fill=\"none\"/>\n",
              "    <path d=\"M18.56 5.44l.94 2.06.94-2.06 2.06-.94-2.06-.94-.94-2.06-.94 2.06-2.06.94zm-11 1L8.5 8.5l.94-2.06 2.06-.94-2.06-.94L8.5 2.5l-.94 2.06-2.06.94zm10 10l.94 2.06.94-2.06 2.06-.94-2.06-.94-.94-2.06-.94 2.06-2.06.94z\"/><path d=\"M17.41 7.96l-1.37-1.37c-.4-.4-.92-.59-1.43-.59-.52 0-1.04.2-1.43.59L10.3 9.45l-7.72 7.72c-.78.78-.78 2.05 0 2.83L4 21.41c.39.39.9.59 1.41.59.51 0 1.02-.2 1.41-.59l7.78-7.78 2.81-2.81c.8-.78.8-2.07 0-2.86zM5.41 20L4 18.59l7.72-7.72 1.47 1.35L5.41 20z\"/>\n",
              "  </svg>\n",
              "      </button>\n",
              "      \n",
              "  <style>\n",
              "    .colab-df-container {\n",
              "      display:flex;\n",
              "      flex-wrap:wrap;\n",
              "      gap: 12px;\n",
              "    }\n",
              "\n",
              "    .colab-df-convert {\n",
              "      background-color: #E8F0FE;\n",
              "      border: none;\n",
              "      border-radius: 50%;\n",
              "      cursor: pointer;\n",
              "      display: none;\n",
              "      fill: #1967D2;\n",
              "      height: 32px;\n",
              "      padding: 0 0 0 0;\n",
              "      width: 32px;\n",
              "    }\n",
              "\n",
              "    .colab-df-convert:hover {\n",
              "      background-color: #E2EBFA;\n",
              "      box-shadow: 0px 1px 2px rgba(60, 64, 67, 0.3), 0px 1px 3px 1px rgba(60, 64, 67, 0.15);\n",
              "      fill: #174EA6;\n",
              "    }\n",
              "\n",
              "    [theme=dark] .colab-df-convert {\n",
              "      background-color: #3B4455;\n",
              "      fill: #D2E3FC;\n",
              "    }\n",
              "\n",
              "    [theme=dark] .colab-df-convert:hover {\n",
              "      background-color: #434B5C;\n",
              "      box-shadow: 0px 1px 3px 1px rgba(0, 0, 0, 0.15);\n",
              "      filter: drop-shadow(0px 1px 2px rgba(0, 0, 0, 0.3));\n",
              "      fill: #FFFFFF;\n",
              "    }\n",
              "  </style>\n",
              "\n",
              "      <script>\n",
              "        const buttonEl =\n",
              "          document.querySelector('#df-762a610c-f929-41ce-8aa9-d3f5a6e12bd2 button.colab-df-convert');\n",
              "        buttonEl.style.display =\n",
              "          google.colab.kernel.accessAllowed ? 'block' : 'none';\n",
              "\n",
              "        async function convertToInteractive(key) {\n",
              "          const element = document.querySelector('#df-762a610c-f929-41ce-8aa9-d3f5a6e12bd2');\n",
              "          const dataTable =\n",
              "            await google.colab.kernel.invokeFunction('convertToInteractive',\n",
              "                                                     [key], {});\n",
              "          if (!dataTable) return;\n",
              "\n",
              "          const docLinkHtml = 'Like what you see? Visit the ' +\n",
              "            '<a target=\"_blank\" href=https://colab.research.google.com/notebooks/data_table.ipynb>data table notebook</a>'\n",
              "            + ' to learn more about interactive tables.';\n",
              "          element.innerHTML = '';\n",
              "          dataTable['output_type'] = 'display_data';\n",
              "          await google.colab.output.renderOutput(dataTable, element);\n",
              "          const docLink = document.createElement('div');\n",
              "          docLink.innerHTML = docLinkHtml;\n",
              "          element.appendChild(docLink);\n",
              "        }\n",
              "      </script>\n",
              "    </div>\n",
              "  </div>\n",
              "  "
            ],
            "text/plain": [
              "  business_code cust_number  ... cust_payment_terms converted_usd\n",
              "0          U001  0200769623  ...               NAH4     54273.280\n",
              "1          U001  0200980828  ...               NAD1     79656.600\n",
              "2          U001  0200792734  ...               NAA8      2253.860\n",
              "3          U001  0200769623  ...               NAH4     33133.290\n",
              "4          CA02  0140106181  ...               CA10     15558.088\n",
              "\n",
              "[5 rows x 11 columns]"
            ]
          },
          "metadata": {},
          "execution_count": 431
        }
      ],
      "source": [
        "main_data.head()"
      ],
      "id": "dec2ec36"
    },
    {
      "cell_type": "code",
      "execution_count": null,
      "metadata": {
        "colab": {
          "base_uri": "https://localhost:8080/",
          "height": 288
        },
        "id": "eee2d68a",
        "outputId": "c895bd30-2605-4040-8258-2e24e99200aa"
      },
      "outputs": [
        {
          "output_type": "execute_result",
          "data": {
            "text/html": [
              "\n",
              "  <div id=\"df-c2728a4e-f615-4adf-84c4-993c07f5a43f\">\n",
              "    <div class=\"colab-df-container\">\n",
              "      <div>\n",
              "<style scoped>\n",
              "    .dataframe tbody tr th:only-of-type {\n",
              "        vertical-align: middle;\n",
              "    }\n",
              "\n",
              "    .dataframe tbody tr th {\n",
              "        vertical-align: top;\n",
              "    }\n",
              "\n",
              "    .dataframe thead th {\n",
              "        text-align: right;\n",
              "    }\n",
              "</style>\n",
              "<table border=\"1\" class=\"dataframe\">\n",
              "  <thead>\n",
              "    <tr style=\"text-align: right;\">\n",
              "      <th></th>\n",
              "      <th>business_code</th>\n",
              "      <th>cust_number</th>\n",
              "      <th>name_customer</th>\n",
              "      <th>clear_date</th>\n",
              "      <th>buisness_year</th>\n",
              "      <th>doc_id</th>\n",
              "      <th>posting_date</th>\n",
              "      <th>due_in_date</th>\n",
              "      <th>baseline_create_date</th>\n",
              "      <th>cust_payment_terms</th>\n",
              "      <th>converted_usd</th>\n",
              "    </tr>\n",
              "  </thead>\n",
              "  <tbody>\n",
              "    <tr>\n",
              "      <th>0</th>\n",
              "      <td>CA02</td>\n",
              "      <td>0140105686</td>\n",
              "      <td>SYSC llc</td>\n",
              "      <td>NaT</td>\n",
              "      <td>2020.0</td>\n",
              "      <td>2.960623e+09</td>\n",
              "      <td>2020-03-30</td>\n",
              "      <td>2020-04-10</td>\n",
              "      <td>2020-03-31</td>\n",
              "      <td>CA10</td>\n",
              "      <td>2309.79</td>\n",
              "    </tr>\n",
              "    <tr>\n",
              "      <th>1</th>\n",
              "      <td>U001</td>\n",
              "      <td>0200744019</td>\n",
              "      <td>TARG us</td>\n",
              "      <td>NaT</td>\n",
              "      <td>2020.0</td>\n",
              "      <td>1.930659e+09</td>\n",
              "      <td>2020-03-19</td>\n",
              "      <td>2020-04-03</td>\n",
              "      <td>2020-03-19</td>\n",
              "      <td>NAA8</td>\n",
              "      <td>11173.02</td>\n",
              "    </tr>\n",
              "    <tr>\n",
              "      <th>2</th>\n",
              "      <td>U001</td>\n",
              "      <td>0200418007</td>\n",
              "      <td>AM</td>\n",
              "      <td>NaT</td>\n",
              "      <td>2020.0</td>\n",
              "      <td>1.930611e+09</td>\n",
              "      <td>2020-03-11</td>\n",
              "      <td>2020-03-26</td>\n",
              "      <td>2020-03-11</td>\n",
              "      <td>NAA8</td>\n",
              "      <td>3525.59</td>\n",
              "    </tr>\n",
              "    <tr>\n",
              "      <th>3</th>\n",
              "      <td>U001</td>\n",
              "      <td>0200739534</td>\n",
              "      <td>OK systems</td>\n",
              "      <td>NaT</td>\n",
              "      <td>2020.0</td>\n",
              "      <td>1.930788e+09</td>\n",
              "      <td>2020-04-15</td>\n",
              "      <td>2020-04-30</td>\n",
              "      <td>2020-04-15</td>\n",
              "      <td>NAA8</td>\n",
              "      <td>121105.65</td>\n",
              "    </tr>\n",
              "    <tr>\n",
              "      <th>4</th>\n",
              "      <td>U001</td>\n",
              "      <td>0200353024</td>\n",
              "      <td>DECA corporation</td>\n",
              "      <td>NaT</td>\n",
              "      <td>2020.0</td>\n",
              "      <td>1.930817e+09</td>\n",
              "      <td>2020-04-23</td>\n",
              "      <td>2020-04-26</td>\n",
              "      <td>2020-04-16</td>\n",
              "      <td>NAM2</td>\n",
              "      <td>3726.06</td>\n",
              "    </tr>\n",
              "  </tbody>\n",
              "</table>\n",
              "</div>\n",
              "      <button class=\"colab-df-convert\" onclick=\"convertToInteractive('df-c2728a4e-f615-4adf-84c4-993c07f5a43f')\"\n",
              "              title=\"Convert this dataframe to an interactive table.\"\n",
              "              style=\"display:none;\">\n",
              "        \n",
              "  <svg xmlns=\"http://www.w3.org/2000/svg\" height=\"24px\"viewBox=\"0 0 24 24\"\n",
              "       width=\"24px\">\n",
              "    <path d=\"M0 0h24v24H0V0z\" fill=\"none\"/>\n",
              "    <path d=\"M18.56 5.44l.94 2.06.94-2.06 2.06-.94-2.06-.94-.94-2.06-.94 2.06-2.06.94zm-11 1L8.5 8.5l.94-2.06 2.06-.94-2.06-.94L8.5 2.5l-.94 2.06-2.06.94zm10 10l.94 2.06.94-2.06 2.06-.94-2.06-.94-.94-2.06-.94 2.06-2.06.94z\"/><path d=\"M17.41 7.96l-1.37-1.37c-.4-.4-.92-.59-1.43-.59-.52 0-1.04.2-1.43.59L10.3 9.45l-7.72 7.72c-.78.78-.78 2.05 0 2.83L4 21.41c.39.39.9.59 1.41.59.51 0 1.02-.2 1.41-.59l7.78-7.78 2.81-2.81c.8-.78.8-2.07 0-2.86zM5.41 20L4 18.59l7.72-7.72 1.47 1.35L5.41 20z\"/>\n",
              "  </svg>\n",
              "      </button>\n",
              "      \n",
              "  <style>\n",
              "    .colab-df-container {\n",
              "      display:flex;\n",
              "      flex-wrap:wrap;\n",
              "      gap: 12px;\n",
              "    }\n",
              "\n",
              "    .colab-df-convert {\n",
              "      background-color: #E8F0FE;\n",
              "      border: none;\n",
              "      border-radius: 50%;\n",
              "      cursor: pointer;\n",
              "      display: none;\n",
              "      fill: #1967D2;\n",
              "      height: 32px;\n",
              "      padding: 0 0 0 0;\n",
              "      width: 32px;\n",
              "    }\n",
              "\n",
              "    .colab-df-convert:hover {\n",
              "      background-color: #E2EBFA;\n",
              "      box-shadow: 0px 1px 2px rgba(60, 64, 67, 0.3), 0px 1px 3px 1px rgba(60, 64, 67, 0.15);\n",
              "      fill: #174EA6;\n",
              "    }\n",
              "\n",
              "    [theme=dark] .colab-df-convert {\n",
              "      background-color: #3B4455;\n",
              "      fill: #D2E3FC;\n",
              "    }\n",
              "\n",
              "    [theme=dark] .colab-df-convert:hover {\n",
              "      background-color: #434B5C;\n",
              "      box-shadow: 0px 1px 3px 1px rgba(0, 0, 0, 0.15);\n",
              "      filter: drop-shadow(0px 1px 2px rgba(0, 0, 0, 0.3));\n",
              "      fill: #FFFFFF;\n",
              "    }\n",
              "  </style>\n",
              "\n",
              "      <script>\n",
              "        const buttonEl =\n",
              "          document.querySelector('#df-c2728a4e-f615-4adf-84c4-993c07f5a43f button.colab-df-convert');\n",
              "        buttonEl.style.display =\n",
              "          google.colab.kernel.accessAllowed ? 'block' : 'none';\n",
              "\n",
              "        async function convertToInteractive(key) {\n",
              "          const element = document.querySelector('#df-c2728a4e-f615-4adf-84c4-993c07f5a43f');\n",
              "          const dataTable =\n",
              "            await google.colab.kernel.invokeFunction('convertToInteractive',\n",
              "                                                     [key], {});\n",
              "          if (!dataTable) return;\n",
              "\n",
              "          const docLinkHtml = 'Like what you see? Visit the ' +\n",
              "            '<a target=\"_blank\" href=https://colab.research.google.com/notebooks/data_table.ipynb>data table notebook</a>'\n",
              "            + ' to learn more about interactive tables.';\n",
              "          element.innerHTML = '';\n",
              "          dataTable['output_type'] = 'display_data';\n",
              "          await google.colab.output.renderOutput(dataTable, element);\n",
              "          const docLink = document.createElement('div');\n",
              "          docLink.innerHTML = docLinkHtml;\n",
              "          element.appendChild(docLink);\n",
              "        }\n",
              "      </script>\n",
              "    </div>\n",
              "  </div>\n",
              "  "
            ],
            "text/plain": [
              "  business_code cust_number  ... cust_payment_terms converted_usd\n",
              "0          CA02  0140105686  ...               CA10       2309.79\n",
              "1          U001  0200744019  ...               NAA8      11173.02\n",
              "2          U001  0200418007  ...               NAA8       3525.59\n",
              "3          U001  0200739534  ...               NAA8     121105.65\n",
              "4          U001  0200353024  ...               NAM2       3726.06\n",
              "\n",
              "[5 rows x 11 columns]"
            ]
          },
          "metadata": {},
          "execution_count": 432
        }
      ],
      "source": [
        "nulldata.head()"
      ],
      "id": "eee2d68a"
    },
    {
      "cell_type": "markdown",
      "metadata": {
        "id": "24aa6746"
      },
      "source": [
        "## Considering the **maindata**"
      ],
      "id": "24aa6746"
    },
    {
      "cell_type": "markdown",
      "metadata": {
        "id": "f92c4aa7"
      },
      "source": [
        "#### Generate a new column \"Delay\" from the existing columns\n",
        "\n",
        "- Note - You are expected to create a new column 'Delay' from two existing columns, \"clear_date\" and \"due_in_date\" \n",
        "- Formula - Delay = clear_date - due_in_date"
      ],
      "id": "f92c4aa7"
    },
    {
      "cell_type": "code",
      "execution_count": null,
      "metadata": {
        "id": "8eeceb9c"
      },
      "outputs": [],
      "source": [
        "main_data['Delay']= (main_data['clear_date'] - main_data['due_in_date'])  #Creating delay column in the main_data"
      ],
      "id": "8eeceb9c"
    },
    {
      "cell_type": "code",
      "execution_count": null,
      "metadata": {
        "colab": {
          "base_uri": "https://localhost:8080/"
        },
        "id": "uelYt4-9oTIJ",
        "outputId": "b720ae1d-6c2a-4ae5-982b-e906844cb8c2"
      },
      "outputs": [
        {
          "output_type": "execute_result",
          "data": {
            "text/plain": [
              "0        1 days\n",
              "1       -3 days\n",
              "2       92 days\n",
              "3       -3 days\n",
              "4       61 days\n",
              "          ...  \n",
              "39153    0 days\n",
              "39154    4 days\n",
              "39155    0 days\n",
              "39156    0 days\n",
              "39157   -9 days\n",
              "Name: Delay, Length: 39158, dtype: timedelta64[ns]"
            ]
          },
          "metadata": {},
          "execution_count": 434
        }
      ],
      "source": [
        "main_data[\"Delay\"]"
      ],
      "id": "uelYt4-9oTIJ"
    },
    {
      "cell_type": "markdown",
      "metadata": {
        "id": "f482144e"
      },
      "source": [
        "### Generate a new column \"avgdelay\" from the existing columns\n",
        "\n",
        "- Note - You are expected to make a new column \"avgdelay\" by grouping \"name_customer\" column with reapect to mean of the \"Delay\" column.\n",
        "- This new column \"avg_delay\" is meant to store \"customer_name\" wise delay\n",
        "- groupby('name_customer')['Delay'].mean(numeric_only=False)\n",
        "- Display the new \"avg_delay\" column"
      ],
      "id": "f482144e"
    },
    {
      "cell_type": "code",
      "execution_count": null,
      "metadata": {
        "id": "d18d2f8d"
      },
      "outputs": [],
      "source": [
        "avg_delay = main_data.groupby('name_customer')['Delay'].mean(numeric_only=False) "
      ],
      "id": "d18d2f8d"
    },
    {
      "cell_type": "code",
      "execution_count": null,
      "metadata": {
        "colab": {
          "base_uri": "https://localhost:8080/"
        },
        "id": "IwU8i1oKL36L",
        "outputId": "1c89164b-d054-4497-b116-c290a6fa925a"
      },
      "outputs": [
        {
          "output_type": "execute_result",
          "data": {
            "text/plain": [
              "name_customer\n",
              "11078 us                 17 days 00:00:00\n",
              "17135 associates       -10 days +00:00:00\n",
              "17135 llc               -3 days +00:00:00\n",
              "236008 associates       -3 days +00:00:00\n",
              "99 CE                     2 days 00:00:00\n",
              "                              ...        \n",
              "YEN BROS corp             0 days 00:00:00\n",
              "YEN BROS corporation    -1 days +12:00:00\n",
              "YEN BROS llc            -2 days +00:00:00\n",
              "ZARCO co                -1 days +00:00:00\n",
              "ZIYAD  us                 6 days 00:00:00\n",
              "Name: Delay, Length: 3889, dtype: timedelta64[ns]"
            ]
          },
          "metadata": {},
          "execution_count": 436
        }
      ],
      "source": [
        "avg_delay"
      ],
      "id": "IwU8i1oKL36L"
    },
    {
      "cell_type": "markdown",
      "metadata": {
        "id": "64b995e8"
      },
      "source": [
        "You need to add the \"avg_delay\" column with the maindata, mapped with \"name_customer\" column\n",
        "\n",
        " - Note - You need to use map function to map the avgdelay with respect to \"name_customer\" column"
      ],
      "id": "64b995e8"
    },
    {
      "cell_type": "code",
      "execution_count": null,
      "metadata": {
        "id": "e1e1f3d9"
      },
      "outputs": [],
      "source": [
        "main_data[\"avg_delay\"] = main_data[\"name_customer\"].map(avg_delay)"
      ],
      "id": "e1e1f3d9"
    },
    {
      "cell_type": "code",
      "execution_count": null,
      "metadata": {
        "colab": {
          "base_uri": "https://localhost:8080/"
        },
        "id": "TVxxNQfHv7Ws",
        "outputId": "f3fc4041-85b6-4d33-c8d9-0df8bcf52711"
      },
      "outputs": [
        {
          "output_type": "execute_result",
          "data": {
            "text/plain": [
              "0       -3 days +07:08:49.779837776\n",
              "1                  19 days 00:00:00\n",
              "2         8 days 02:10:54.545454545\n",
              "3       -3 days +19:33:27.692307693\n",
              "4                  71 days 10:40:00\n",
              "                    ...            \n",
              "39153             -1 days +14:45:00\n",
              "39154   -3 days +12:40:08.540925267\n",
              "39155     1 days 01:08:34.285714285\n",
              "39156     1 days 13:36:42.985074626\n",
              "39157   -4 days +02:20:52.173913044\n",
              "Name: avg_delay, Length: 39158, dtype: timedelta64[ns]"
            ]
          },
          "metadata": {},
          "execution_count": 438
        }
      ],
      "source": [
        "main_data[\"avg_delay\"] "
      ],
      "id": "TVxxNQfHv7Ws"
    },
    {
      "cell_type": "code",
      "execution_count": null,
      "metadata": {
        "colab": {
          "base_uri": "https://localhost:8080/",
          "height": 357
        },
        "id": "LudbjwApwFzE",
        "outputId": "91901de5-ef90-49a3-db0e-c627a30b4588"
      },
      "outputs": [
        {
          "output_type": "execute_result",
          "data": {
            "text/html": [
              "\n",
              "  <div id=\"df-0dde5d87-dec0-4624-a496-a761f792dc7e\">\n",
              "    <div class=\"colab-df-container\">\n",
              "      <div>\n",
              "<style scoped>\n",
              "    .dataframe tbody tr th:only-of-type {\n",
              "        vertical-align: middle;\n",
              "    }\n",
              "\n",
              "    .dataframe tbody tr th {\n",
              "        vertical-align: top;\n",
              "    }\n",
              "\n",
              "    .dataframe thead th {\n",
              "        text-align: right;\n",
              "    }\n",
              "</style>\n",
              "<table border=\"1\" class=\"dataframe\">\n",
              "  <thead>\n",
              "    <tr style=\"text-align: right;\">\n",
              "      <th></th>\n",
              "      <th>business_code</th>\n",
              "      <th>cust_number</th>\n",
              "      <th>name_customer</th>\n",
              "      <th>clear_date</th>\n",
              "      <th>buisness_year</th>\n",
              "      <th>doc_id</th>\n",
              "      <th>posting_date</th>\n",
              "      <th>due_in_date</th>\n",
              "      <th>baseline_create_date</th>\n",
              "      <th>cust_payment_terms</th>\n",
              "      <th>converted_usd</th>\n",
              "      <th>Delay</th>\n",
              "      <th>avg_delay</th>\n",
              "    </tr>\n",
              "  </thead>\n",
              "  <tbody>\n",
              "    <tr>\n",
              "      <th>0</th>\n",
              "      <td>U001</td>\n",
              "      <td>0200769623</td>\n",
              "      <td>WAL-MAR corp</td>\n",
              "      <td>2020-02-11</td>\n",
              "      <td>2020.0</td>\n",
              "      <td>1.930438e+09</td>\n",
              "      <td>2020-01-26</td>\n",
              "      <td>2020-02-10</td>\n",
              "      <td>2020-01-26</td>\n",
              "      <td>NAH4</td>\n",
              "      <td>54273.280</td>\n",
              "      <td>1 days</td>\n",
              "      <td>-3 days +07:08:49.779837776</td>\n",
              "    </tr>\n",
              "    <tr>\n",
              "      <th>1</th>\n",
              "      <td>U001</td>\n",
              "      <td>0200980828</td>\n",
              "      <td>BEN E</td>\n",
              "      <td>2019-08-08</td>\n",
              "      <td>2019.0</td>\n",
              "      <td>1.929646e+09</td>\n",
              "      <td>2019-07-22</td>\n",
              "      <td>2019-08-11</td>\n",
              "      <td>2019-07-22</td>\n",
              "      <td>NAD1</td>\n",
              "      <td>79656.600</td>\n",
              "      <td>-3 days</td>\n",
              "      <td>19 days 00:00:00</td>\n",
              "    </tr>\n",
              "    <tr>\n",
              "      <th>2</th>\n",
              "      <td>U001</td>\n",
              "      <td>0200792734</td>\n",
              "      <td>MDV/ trust</td>\n",
              "      <td>2019-12-30</td>\n",
              "      <td>2019.0</td>\n",
              "      <td>1.929874e+09</td>\n",
              "      <td>2019-09-14</td>\n",
              "      <td>2019-09-29</td>\n",
              "      <td>2019-09-14</td>\n",
              "      <td>NAA8</td>\n",
              "      <td>2253.860</td>\n",
              "      <td>92 days</td>\n",
              "      <td>8 days 02:10:54.545454545</td>\n",
              "    </tr>\n",
              "    <tr>\n",
              "      <th>3</th>\n",
              "      <td>U001</td>\n",
              "      <td>0200769623</td>\n",
              "      <td>WAL-MAR foundation</td>\n",
              "      <td>2019-11-25</td>\n",
              "      <td>2019.0</td>\n",
              "      <td>1.930148e+09</td>\n",
              "      <td>2019-11-13</td>\n",
              "      <td>2019-11-28</td>\n",
              "      <td>2019-11-13</td>\n",
              "      <td>NAH4</td>\n",
              "      <td>33133.290</td>\n",
              "      <td>-3 days</td>\n",
              "      <td>-3 days +19:33:27.692307693</td>\n",
              "    </tr>\n",
              "    <tr>\n",
              "      <th>4</th>\n",
              "      <td>CA02</td>\n",
              "      <td>0140106181</td>\n",
              "      <td>THE  corporation</td>\n",
              "      <td>2019-12-04</td>\n",
              "      <td>2019.0</td>\n",
              "      <td>2.960581e+09</td>\n",
              "      <td>2019-09-20</td>\n",
              "      <td>2019-10-04</td>\n",
              "      <td>2019-09-24</td>\n",
              "      <td>CA10</td>\n",
              "      <td>15558.088</td>\n",
              "      <td>61 days</td>\n",
              "      <td>71 days 10:40:00</td>\n",
              "    </tr>\n",
              "  </tbody>\n",
              "</table>\n",
              "</div>\n",
              "      <button class=\"colab-df-convert\" onclick=\"convertToInteractive('df-0dde5d87-dec0-4624-a496-a761f792dc7e')\"\n",
              "              title=\"Convert this dataframe to an interactive table.\"\n",
              "              style=\"display:none;\">\n",
              "        \n",
              "  <svg xmlns=\"http://www.w3.org/2000/svg\" height=\"24px\"viewBox=\"0 0 24 24\"\n",
              "       width=\"24px\">\n",
              "    <path d=\"M0 0h24v24H0V0z\" fill=\"none\"/>\n",
              "    <path d=\"M18.56 5.44l.94 2.06.94-2.06 2.06-.94-2.06-.94-.94-2.06-.94 2.06-2.06.94zm-11 1L8.5 8.5l.94-2.06 2.06-.94-2.06-.94L8.5 2.5l-.94 2.06-2.06.94zm10 10l.94 2.06.94-2.06 2.06-.94-2.06-.94-.94-2.06-.94 2.06-2.06.94z\"/><path d=\"M17.41 7.96l-1.37-1.37c-.4-.4-.92-.59-1.43-.59-.52 0-1.04.2-1.43.59L10.3 9.45l-7.72 7.72c-.78.78-.78 2.05 0 2.83L4 21.41c.39.39.9.59 1.41.59.51 0 1.02-.2 1.41-.59l7.78-7.78 2.81-2.81c.8-.78.8-2.07 0-2.86zM5.41 20L4 18.59l7.72-7.72 1.47 1.35L5.41 20z\"/>\n",
              "  </svg>\n",
              "      </button>\n",
              "      \n",
              "  <style>\n",
              "    .colab-df-container {\n",
              "      display:flex;\n",
              "      flex-wrap:wrap;\n",
              "      gap: 12px;\n",
              "    }\n",
              "\n",
              "    .colab-df-convert {\n",
              "      background-color: #E8F0FE;\n",
              "      border: none;\n",
              "      border-radius: 50%;\n",
              "      cursor: pointer;\n",
              "      display: none;\n",
              "      fill: #1967D2;\n",
              "      height: 32px;\n",
              "      padding: 0 0 0 0;\n",
              "      width: 32px;\n",
              "    }\n",
              "\n",
              "    .colab-df-convert:hover {\n",
              "      background-color: #E2EBFA;\n",
              "      box-shadow: 0px 1px 2px rgba(60, 64, 67, 0.3), 0px 1px 3px 1px rgba(60, 64, 67, 0.15);\n",
              "      fill: #174EA6;\n",
              "    }\n",
              "\n",
              "    [theme=dark] .colab-df-convert {\n",
              "      background-color: #3B4455;\n",
              "      fill: #D2E3FC;\n",
              "    }\n",
              "\n",
              "    [theme=dark] .colab-df-convert:hover {\n",
              "      background-color: #434B5C;\n",
              "      box-shadow: 0px 1px 3px 1px rgba(0, 0, 0, 0.15);\n",
              "      filter: drop-shadow(0px 1px 2px rgba(0, 0, 0, 0.3));\n",
              "      fill: #FFFFFF;\n",
              "    }\n",
              "  </style>\n",
              "\n",
              "      <script>\n",
              "        const buttonEl =\n",
              "          document.querySelector('#df-0dde5d87-dec0-4624-a496-a761f792dc7e button.colab-df-convert');\n",
              "        buttonEl.style.display =\n",
              "          google.colab.kernel.accessAllowed ? 'block' : 'none';\n",
              "\n",
              "        async function convertToInteractive(key) {\n",
              "          const element = document.querySelector('#df-0dde5d87-dec0-4624-a496-a761f792dc7e');\n",
              "          const dataTable =\n",
              "            await google.colab.kernel.invokeFunction('convertToInteractive',\n",
              "                                                     [key], {});\n",
              "          if (!dataTable) return;\n",
              "\n",
              "          const docLinkHtml = 'Like what you see? Visit the ' +\n",
              "            '<a target=\"_blank\" href=https://colab.research.google.com/notebooks/data_table.ipynb>data table notebook</a>'\n",
              "            + ' to learn more about interactive tables.';\n",
              "          element.innerHTML = '';\n",
              "          dataTable['output_type'] = 'display_data';\n",
              "          await google.colab.output.renderOutput(dataTable, element);\n",
              "          const docLink = document.createElement('div');\n",
              "          docLink.innerHTML = docLinkHtml;\n",
              "          element.appendChild(docLink);\n",
              "        }\n",
              "      </script>\n",
              "    </div>\n",
              "  </div>\n",
              "  "
            ],
            "text/plain": [
              "  business_code cust_number  ...   Delay                   avg_delay\n",
              "0          U001  0200769623  ...  1 days -3 days +07:08:49.779837776\n",
              "1          U001  0200980828  ... -3 days            19 days 00:00:00\n",
              "2          U001  0200792734  ... 92 days   8 days 02:10:54.545454545\n",
              "3          U001  0200769623  ... -3 days -3 days +19:33:27.692307693\n",
              "4          CA02  0140106181  ... 61 days            71 days 10:40:00\n",
              "\n",
              "[5 rows x 13 columns]"
            ]
          },
          "metadata": {},
          "execution_count": 439
        }
      ],
      "source": [
        "main_data.head()"
      ],
      "id": "LudbjwApwFzE"
    },
    {
      "cell_type": "markdown",
      "metadata": {
        "id": "1d332525"
      },
      "source": [
        "### Observe that the \"avg_delay\" column is in days format. You need to change the format into seconds\n",
        "\n",
        "- Days_format :  17 days 00:00:00\n",
        "- Format in seconds : 1641600.0"
      ],
      "id": "1d332525"
    },
    {
      "cell_type": "code",
      "execution_count": null,
      "metadata": {
        "id": "d5f1041e"
      },
      "outputs": [],
      "source": [
        "main_data[\"avg_delay\"] = main_data[\"avg_delay\"].dt.total_seconds()"
      ],
      "id": "d5f1041e"
    },
    {
      "cell_type": "code",
      "source": [
        "# main_data['avg_delay'] = main_data.apply(lambda row: row.avg_delay//(24 * 3600), axis = 1)"
      ],
      "metadata": {
        "id": "l-wjcirnfRve"
      },
      "id": "l-wjcirnfRve",
      "execution_count": null,
      "outputs": []
    },
    {
      "cell_type": "markdown",
      "metadata": {
        "id": "OvgtHSsx_O-n"
      },
      "source": [
        "### Display the maindata dataframe "
      ],
      "id": "OvgtHSsx_O-n"
    },
    {
      "cell_type": "code",
      "execution_count": null,
      "metadata": {
        "colab": {
          "base_uri": "https://localhost:8080/",
          "height": 357
        },
        "id": "97ca9c45",
        "outputId": "9a7bcac3-9297-4ec7-dab6-ecfaacec3335"
      },
      "outputs": [
        {
          "output_type": "execute_result",
          "data": {
            "text/html": [
              "\n",
              "  <div id=\"df-90b5ecc7-d0fa-42b8-b56c-df016276f720\">\n",
              "    <div class=\"colab-df-container\">\n",
              "      <div>\n",
              "<style scoped>\n",
              "    .dataframe tbody tr th:only-of-type {\n",
              "        vertical-align: middle;\n",
              "    }\n",
              "\n",
              "    .dataframe tbody tr th {\n",
              "        vertical-align: top;\n",
              "    }\n",
              "\n",
              "    .dataframe thead th {\n",
              "        text-align: right;\n",
              "    }\n",
              "</style>\n",
              "<table border=\"1\" class=\"dataframe\">\n",
              "  <thead>\n",
              "    <tr style=\"text-align: right;\">\n",
              "      <th></th>\n",
              "      <th>business_code</th>\n",
              "      <th>cust_number</th>\n",
              "      <th>name_customer</th>\n",
              "      <th>clear_date</th>\n",
              "      <th>buisness_year</th>\n",
              "      <th>doc_id</th>\n",
              "      <th>posting_date</th>\n",
              "      <th>due_in_date</th>\n",
              "      <th>baseline_create_date</th>\n",
              "      <th>cust_payment_terms</th>\n",
              "      <th>converted_usd</th>\n",
              "      <th>Delay</th>\n",
              "      <th>avg_delay</th>\n",
              "    </tr>\n",
              "  </thead>\n",
              "  <tbody>\n",
              "    <tr>\n",
              "      <th>0</th>\n",
              "      <td>U001</td>\n",
              "      <td>0200769623</td>\n",
              "      <td>WAL-MAR corp</td>\n",
              "      <td>2020-02-11</td>\n",
              "      <td>2020.0</td>\n",
              "      <td>1.930438e+09</td>\n",
              "      <td>2020-01-26</td>\n",
              "      <td>2020-02-10</td>\n",
              "      <td>2020-01-26</td>\n",
              "      <td>NAH4</td>\n",
              "      <td>54273.280</td>\n",
              "      <td>1 days</td>\n",
              "      <td>-2.334702e+05</td>\n",
              "    </tr>\n",
              "    <tr>\n",
              "      <th>1</th>\n",
              "      <td>U001</td>\n",
              "      <td>0200980828</td>\n",
              "      <td>BEN E</td>\n",
              "      <td>2019-08-08</td>\n",
              "      <td>2019.0</td>\n",
              "      <td>1.929646e+09</td>\n",
              "      <td>2019-07-22</td>\n",
              "      <td>2019-08-11</td>\n",
              "      <td>2019-07-22</td>\n",
              "      <td>NAD1</td>\n",
              "      <td>79656.600</td>\n",
              "      <td>-3 days</td>\n",
              "      <td>1.641600e+06</td>\n",
              "    </tr>\n",
              "    <tr>\n",
              "      <th>2</th>\n",
              "      <td>U001</td>\n",
              "      <td>0200792734</td>\n",
              "      <td>MDV/ trust</td>\n",
              "      <td>2019-12-30</td>\n",
              "      <td>2019.0</td>\n",
              "      <td>1.929874e+09</td>\n",
              "      <td>2019-09-14</td>\n",
              "      <td>2019-09-29</td>\n",
              "      <td>2019-09-14</td>\n",
              "      <td>NAA8</td>\n",
              "      <td>2253.860</td>\n",
              "      <td>92 days</td>\n",
              "      <td>6.990545e+05</td>\n",
              "    </tr>\n",
              "    <tr>\n",
              "      <th>3</th>\n",
              "      <td>U001</td>\n",
              "      <td>0200769623</td>\n",
              "      <td>WAL-MAR foundation</td>\n",
              "      <td>2019-11-25</td>\n",
              "      <td>2019.0</td>\n",
              "      <td>1.930148e+09</td>\n",
              "      <td>2019-11-13</td>\n",
              "      <td>2019-11-28</td>\n",
              "      <td>2019-11-13</td>\n",
              "      <td>NAH4</td>\n",
              "      <td>33133.290</td>\n",
              "      <td>-3 days</td>\n",
              "      <td>-1.887923e+05</td>\n",
              "    </tr>\n",
              "    <tr>\n",
              "      <th>4</th>\n",
              "      <td>CA02</td>\n",
              "      <td>0140106181</td>\n",
              "      <td>THE  corporation</td>\n",
              "      <td>2019-12-04</td>\n",
              "      <td>2019.0</td>\n",
              "      <td>2.960581e+09</td>\n",
              "      <td>2019-09-20</td>\n",
              "      <td>2019-10-04</td>\n",
              "      <td>2019-09-24</td>\n",
              "      <td>CA10</td>\n",
              "      <td>15558.088</td>\n",
              "      <td>61 days</td>\n",
              "      <td>6.172800e+06</td>\n",
              "    </tr>\n",
              "  </tbody>\n",
              "</table>\n",
              "</div>\n",
              "      <button class=\"colab-df-convert\" onclick=\"convertToInteractive('df-90b5ecc7-d0fa-42b8-b56c-df016276f720')\"\n",
              "              title=\"Convert this dataframe to an interactive table.\"\n",
              "              style=\"display:none;\">\n",
              "        \n",
              "  <svg xmlns=\"http://www.w3.org/2000/svg\" height=\"24px\"viewBox=\"0 0 24 24\"\n",
              "       width=\"24px\">\n",
              "    <path d=\"M0 0h24v24H0V0z\" fill=\"none\"/>\n",
              "    <path d=\"M18.56 5.44l.94 2.06.94-2.06 2.06-.94-2.06-.94-.94-2.06-.94 2.06-2.06.94zm-11 1L8.5 8.5l.94-2.06 2.06-.94-2.06-.94L8.5 2.5l-.94 2.06-2.06.94zm10 10l.94 2.06.94-2.06 2.06-.94-2.06-.94-.94-2.06-.94 2.06-2.06.94z\"/><path d=\"M17.41 7.96l-1.37-1.37c-.4-.4-.92-.59-1.43-.59-.52 0-1.04.2-1.43.59L10.3 9.45l-7.72 7.72c-.78.78-.78 2.05 0 2.83L4 21.41c.39.39.9.59 1.41.59.51 0 1.02-.2 1.41-.59l7.78-7.78 2.81-2.81c.8-.78.8-2.07 0-2.86zM5.41 20L4 18.59l7.72-7.72 1.47 1.35L5.41 20z\"/>\n",
              "  </svg>\n",
              "      </button>\n",
              "      \n",
              "  <style>\n",
              "    .colab-df-container {\n",
              "      display:flex;\n",
              "      flex-wrap:wrap;\n",
              "      gap: 12px;\n",
              "    }\n",
              "\n",
              "    .colab-df-convert {\n",
              "      background-color: #E8F0FE;\n",
              "      border: none;\n",
              "      border-radius: 50%;\n",
              "      cursor: pointer;\n",
              "      display: none;\n",
              "      fill: #1967D2;\n",
              "      height: 32px;\n",
              "      padding: 0 0 0 0;\n",
              "      width: 32px;\n",
              "    }\n",
              "\n",
              "    .colab-df-convert:hover {\n",
              "      background-color: #E2EBFA;\n",
              "      box-shadow: 0px 1px 2px rgba(60, 64, 67, 0.3), 0px 1px 3px 1px rgba(60, 64, 67, 0.15);\n",
              "      fill: #174EA6;\n",
              "    }\n",
              "\n",
              "    [theme=dark] .colab-df-convert {\n",
              "      background-color: #3B4455;\n",
              "      fill: #D2E3FC;\n",
              "    }\n",
              "\n",
              "    [theme=dark] .colab-df-convert:hover {\n",
              "      background-color: #434B5C;\n",
              "      box-shadow: 0px 1px 3px 1px rgba(0, 0, 0, 0.15);\n",
              "      filter: drop-shadow(0px 1px 2px rgba(0, 0, 0, 0.3));\n",
              "      fill: #FFFFFF;\n",
              "    }\n",
              "  </style>\n",
              "\n",
              "      <script>\n",
              "        const buttonEl =\n",
              "          document.querySelector('#df-90b5ecc7-d0fa-42b8-b56c-df016276f720 button.colab-df-convert');\n",
              "        buttonEl.style.display =\n",
              "          google.colab.kernel.accessAllowed ? 'block' : 'none';\n",
              "\n",
              "        async function convertToInteractive(key) {\n",
              "          const element = document.querySelector('#df-90b5ecc7-d0fa-42b8-b56c-df016276f720');\n",
              "          const dataTable =\n",
              "            await google.colab.kernel.invokeFunction('convertToInteractive',\n",
              "                                                     [key], {});\n",
              "          if (!dataTable) return;\n",
              "\n",
              "          const docLinkHtml = 'Like what you see? Visit the ' +\n",
              "            '<a target=\"_blank\" href=https://colab.research.google.com/notebooks/data_table.ipynb>data table notebook</a>'\n",
              "            + ' to learn more about interactive tables.';\n",
              "          element.innerHTML = '';\n",
              "          dataTable['output_type'] = 'display_data';\n",
              "          await google.colab.output.renderOutput(dataTable, element);\n",
              "          const docLink = document.createElement('div');\n",
              "          docLink.innerHTML = docLinkHtml;\n",
              "          element.appendChild(docLink);\n",
              "        }\n",
              "      </script>\n",
              "    </div>\n",
              "  </div>\n",
              "  "
            ],
            "text/plain": [
              "  business_code cust_number  ...   Delay     avg_delay\n",
              "0          U001  0200769623  ...  1 days -2.334702e+05\n",
              "1          U001  0200980828  ... -3 days  1.641600e+06\n",
              "2          U001  0200792734  ... 92 days  6.990545e+05\n",
              "3          U001  0200769623  ... -3 days -1.887923e+05\n",
              "4          CA02  0140106181  ... 61 days  6.172800e+06\n",
              "\n",
              "[5 rows x 13 columns]"
            ]
          },
          "metadata": {},
          "execution_count": 442
        }
      ],
      "source": [
        "main_data.head()"
      ],
      "id": "97ca9c45"
    },
    {
      "cell_type": "markdown",
      "metadata": {
        "id": "ae24c7bb"
      },
      "source": [
        "### Since you have created the \"avg_delay\" column from \"Delay\" and \"clear_date\" column, there is no need of these two columns anymore \n",
        "\n",
        "- You are expected to drop \"Delay\" and \"clear_date\" columns from maindata dataframe "
      ],
      "id": "ae24c7bb"
    },
    {
      "cell_type": "code",
      "execution_count": null,
      "metadata": {
        "id": "78a61ab9"
      },
      "outputs": [],
      "source": [
        "main_data.drop([\"Delay\", \"clear_date\"], axis = 1, inplace = True)"
      ],
      "id": "78a61ab9"
    },
    {
      "cell_type": "markdown",
      "metadata": {
        "id": "ae724bfc"
      },
      "source": [
        "# Splitting of Train and the Test Data"
      ],
      "id": "ae724bfc"
    },
    {
      "cell_type": "markdown",
      "metadata": {
        "id": "cb6f0264"
      },
      "source": [
        "### You need to split the \"maindata\" columns into X and y dataframe\n",
        "\n",
        "- Note - y should have the target column i.e. \"avg_delay\" and the other column should be in X\n",
        "\n",
        "- X is going to hold the source fields and y will be going to hold the target fields"
      ],
      "id": "cb6f0264"
    },
    {
      "cell_type": "code",
      "execution_count": null,
      "metadata": {
        "id": "75ab29ab"
      },
      "outputs": [],
      "source": [
        "X = main_data.drop(\"avg_delay\", axis = 1)"
      ],
      "id": "75ab29ab"
    },
    {
      "cell_type": "code",
      "execution_count": null,
      "metadata": {
        "id": "6412c62b"
      },
      "outputs": [],
      "source": [
        "y = main_data[\"avg_delay\"]"
      ],
      "id": "6412c62b"
    },
    {
      "cell_type": "markdown",
      "metadata": {
        "id": "1c2942bf"
      },
      "source": [
        "#### You are expected to split both the dataframes into train and test format in 60:40 ratio \n",
        "\n",
        "- Note - The expected output should be in \"X_train\", \"X_loc_test\", \"y_train\", \"y_loc_test\" format "
      ],
      "id": "1c2942bf"
    },
    {
      "cell_type": "code",
      "execution_count": null,
      "metadata": {
        "id": "d92160a5"
      },
      "outputs": [],
      "source": [
        "X_train, X_loc_test, y_train, y_loc_test = train_test_split(X, y, test_size = 0.4, random_state=0)"
      ],
      "id": "d92160a5"
    },
    {
      "cell_type": "markdown",
      "metadata": {
        "id": "p4OME62pDufR"
      },
      "source": [
        "### Please check for the number of rows and columns of all the new dataframes (all 4)"
      ],
      "id": "p4OME62pDufR"
    },
    {
      "cell_type": "code",
      "execution_count": null,
      "metadata": {
        "colab": {
          "base_uri": "https://localhost:8080/"
        },
        "id": "48328d0a",
        "outputId": "8cfb7799-b9c7-4ec5-f6b2-eedd4d499c3e"
      },
      "outputs": [
        {
          "output_type": "stream",
          "name": "stdout",
          "text": [
            "Shape of X_train Dataframe:  (23494, 10)\n",
            "Shape of X_loc_test Dataframe:  (15664, 10)\n",
            "Shape of y_train Dataframe:  (23494,)\n",
            "Shape of y_loc_test Dataframe:  (15664,)\n"
          ]
        }
      ],
      "source": [
        "print(\"Shape of X_train Dataframe: \", X_train.shape)\n",
        "print(\"Shape of X_loc_test Dataframe: \", X_loc_test.shape)\n",
        "print(\"Shape of y_train Dataframe: \", y_train.shape)\n",
        "print(\"Shape of y_loc_test Dataframe: \", y_loc_test.shape)"
      ],
      "id": "48328d0a"
    },
    {
      "cell_type": "markdown",
      "metadata": {
        "id": "4a68ed71"
      },
      "source": [
        "### Now you are expected to split the \"X_loc_test\" and \"y_loc_test\" dataset into \"Test\" and \"Validation\" (as the names given below) dataframe with 50:50 format \n",
        "\n",
        "- Note - The expected output should be in \"X_val\", \"X_test\", \"y_val\", \"y_test\" format"
      ],
      "id": "4a68ed71"
    },
    {
      "cell_type": "code",
      "execution_count": null,
      "metadata": {
        "id": "b56c62f2"
      },
      "outputs": [],
      "source": [
        "X_test, X_val, y_test, y_val = train_test_split(X_loc_test, y_loc_test, test_size = 0.5, random_state=0 )"
      ],
      "id": "b56c62f2"
    },
    {
      "cell_type": "markdown",
      "metadata": {
        "id": "bJTSAskvERH1"
      },
      "source": [
        "### Please check for the number of rows and columns of all the 4 dataframes "
      ],
      "id": "bJTSAskvERH1"
    },
    {
      "cell_type": "code",
      "execution_count": null,
      "metadata": {
        "colab": {
          "base_uri": "https://localhost:8080/"
        },
        "id": "845d7564",
        "outputId": "22fd3e7d-d954-4034-c5c7-bfd51d1129a9"
      },
      "outputs": [
        {
          "output_type": "stream",
          "name": "stdout",
          "text": [
            "Shape of X_test Dataframe:  (7832, 10)\n",
            "Shape of X_val Dataframe:  (7832, 10)\n",
            "Shape of y_test Dataframe:  (7832,)\n",
            "Shape of y_val Dataframe:  (7832,)\n"
          ]
        }
      ],
      "source": [
        "print(\"Shape of X_test Dataframe: \", X_test.shape)\n",
        "print(\"Shape of X_val Dataframe: \", X_val.shape)\n",
        "print(\"Shape of y_test Dataframe: \", y_test.shape)\n",
        "print(\"Shape of y_val Dataframe: \", y_val.shape)"
      ],
      "id": "845d7564"
    },
    {
      "cell_type": "markdown",
      "metadata": {
        "id": "110fa872"
      },
      "source": [
        "# Exploratory Data Analysis (EDA) "
      ],
      "id": "110fa872"
    },
    {
      "cell_type": "markdown",
      "metadata": {
        "id": "ffc8fe0f"
      },
      "source": [
        "### Distribution Plot of the target variable (use the dataframe which contains the target field)\n",
        "\n",
        "- Note - You are expected to make a distribution plot for the target variable "
      ],
      "id": "ffc8fe0f"
    },
    {
      "cell_type": "code",
      "execution_count": null,
      "metadata": {
        "colab": {
          "base_uri": "https://localhost:8080/",
          "height": 852
        },
        "id": "ba2bf8ed",
        "outputId": "a6a81735-9815-4731-a3d9-9d28f0159a26"
      },
      "outputs": [
        {
          "output_type": "execute_result",
          "data": {
            "text/plain": [
              "<matplotlib.axes._subplots.AxesSubplot at 0x7f8295f36f90>"
            ]
          },
          "metadata": {},
          "execution_count": 452
        },
        {
          "output_type": "display_data",
          "data": {
            "image/png": "[encoded data removed]",
            "text/plain": [
              "<Figure size 1440x1008 with 1 Axes>"
            ]
          },
          "metadata": {
            "needs_background": "light"
          }
        }
      ],
      "source": [
        "\n",
        "plt.figure(figsize=(20,14))\n",
        "sns.distplot(y_train,bins=300)"
      ],
      "id": "ba2bf8ed"
    },
    {
      "cell_type": "markdown",
      "source": [
        "### distribution of avg_delay column , seems it is mostly aligned towards center that mostly people clears delay on time  "
      ],
      "metadata": {
        "id": "O9sHOLKQ3220"
      },
      "id": "O9sHOLKQ3220"
    },
    {
      "cell_type": "markdown",
      "metadata": {
        "id": "d0e323a3"
      },
      "source": [
        "### You are expected to group the X_train dataset on 'name_customer' column with 'doc_id' in the x_train set\n",
        "\n",
        "### Need to store the outcome into a new dataframe \n",
        "\n",
        "- Note code given for groupby statement- X_train.groupby(by=['name_customer'], as_index=False)['doc_id'].count()"
      ],
      "id": "d0e323a3"
    },
    {
      "cell_type": "code",
      "execution_count": null,
      "metadata": {
        "colab": {
          "base_uri": "https://localhost:8080/",
          "height": 424
        },
        "id": "f7acf0ee",
        "outputId": "7f289dca-9613-4f3a-b494-cae1306c0a06"
      },
      "outputs": [
        {
          "output_type": "execute_result",
          "data": {
            "text/html": [
              "\n",
              "  <div id=\"df-5bd5905f-fc34-454a-bdc9-316df7a0566f\">\n",
              "    <div class=\"colab-df-container\">\n",
              "      <div>\n",
              "<style scoped>\n",
              "    .dataframe tbody tr th:only-of-type {\n",
              "        vertical-align: middle;\n",
              "    }\n",
              "\n",
              "    .dataframe tbody tr th {\n",
              "        vertical-align: top;\n",
              "    }\n",
              "\n",
              "    .dataframe thead th {\n",
              "        text-align: right;\n",
              "    }\n",
              "</style>\n",
              "<table border=\"1\" class=\"dataframe\">\n",
              "  <thead>\n",
              "    <tr style=\"text-align: right;\">\n",
              "      <th></th>\n",
              "      <th>name_customer</th>\n",
              "      <th>doc_id</th>\n",
              "    </tr>\n",
              "  </thead>\n",
              "  <tbody>\n",
              "    <tr>\n",
              "      <th>0</th>\n",
              "      <td>11078 us</td>\n",
              "      <td>1</td>\n",
              "    </tr>\n",
              "    <tr>\n",
              "      <th>1</th>\n",
              "      <td>236008 associates</td>\n",
              "      <td>1</td>\n",
              "    </tr>\n",
              "    <tr>\n",
              "      <th>2</th>\n",
              "      <td>99 CE</td>\n",
              "      <td>2</td>\n",
              "    </tr>\n",
              "    <tr>\n",
              "      <th>3</th>\n",
              "      <td>99 CE associates</td>\n",
              "      <td>1</td>\n",
              "    </tr>\n",
              "    <tr>\n",
              "      <th>4</th>\n",
              "      <td>99 CE corporation</td>\n",
              "      <td>1</td>\n",
              "    </tr>\n",
              "    <tr>\n",
              "      <th>...</th>\n",
              "      <td>...</td>\n",
              "      <td>...</td>\n",
              "    </tr>\n",
              "    <tr>\n",
              "      <th>3073</th>\n",
              "      <td>Y H systems</td>\n",
              "      <td>2</td>\n",
              "    </tr>\n",
              "    <tr>\n",
              "      <th>3074</th>\n",
              "      <td>Y H trust</td>\n",
              "      <td>1</td>\n",
              "    </tr>\n",
              "    <tr>\n",
              "      <th>3075</th>\n",
              "      <td>YEN BROS corp</td>\n",
              "      <td>1</td>\n",
              "    </tr>\n",
              "    <tr>\n",
              "      <th>3076</th>\n",
              "      <td>YEN BROS llc</td>\n",
              "      <td>1</td>\n",
              "    </tr>\n",
              "    <tr>\n",
              "      <th>3077</th>\n",
              "      <td>ZIYAD  us</td>\n",
              "      <td>1</td>\n",
              "    </tr>\n",
              "  </tbody>\n",
              "</table>\n",
              "<p>3078 rows × 2 columns</p>\n",
              "</div>\n",
              "      <button class=\"colab-df-convert\" onclick=\"convertToInteractive('df-5bd5905f-fc34-454a-bdc9-316df7a0566f')\"\n",
              "              title=\"Convert this dataframe to an interactive table.\"\n",
              "              style=\"display:none;\">\n",
              "        \n",
              "  <svg xmlns=\"http://www.w3.org/2000/svg\" height=\"24px\"viewBox=\"0 0 24 24\"\n",
              "       width=\"24px\">\n",
              "    <path d=\"M0 0h24v24H0V0z\" fill=\"none\"/>\n",
              "    <path d=\"M18.56 5.44l.94 2.06.94-2.06 2.06-.94-2.06-.94-.94-2.06-.94 2.06-2.06.94zm-11 1L8.5 8.5l.94-2.06 2.06-.94-2.06-.94L8.5 2.5l-.94 2.06-2.06.94zm10 10l.94 2.06.94-2.06 2.06-.94-2.06-.94-.94-2.06-.94 2.06-2.06.94z\"/><path d=\"M17.41 7.96l-1.37-1.37c-.4-.4-.92-.59-1.43-.59-.52 0-1.04.2-1.43.59L10.3 9.45l-7.72 7.72c-.78.78-.78 2.05 0 2.83L4 21.41c.39.39.9.59 1.41.59.51 0 1.02-.2 1.41-.59l7.78-7.78 2.81-2.81c.8-.78.8-2.07 0-2.86zM5.41 20L4 18.59l7.72-7.72 1.47 1.35L5.41 20z\"/>\n",
              "  </svg>\n",
              "      </button>\n",
              "      \n",
              "  <style>\n",
              "    .colab-df-container {\n",
              "      display:flex;\n",
              "      flex-wrap:wrap;\n",
              "      gap: 12px;\n",
              "    }\n",
              "\n",
              "    .colab-df-convert {\n",
              "      background-color: #E8F0FE;\n",
              "      border: none;\n",
              "      border-radius: 50%;\n",
              "      cursor: pointer;\n",
              "      display: none;\n",
              "      fill: #1967D2;\n",
              "      height: 32px;\n",
              "      padding: 0 0 0 0;\n",
              "      width: 32px;\n",
              "    }\n",
              "\n",
              "    .colab-df-convert:hover {\n",
              "      background-color: #E2EBFA;\n",
              "      box-shadow: 0px 1px 2px rgba(60, 64, 67, 0.3), 0px 1px 3px 1px rgba(60, 64, 67, 0.15);\n",
              "      fill: #174EA6;\n",
              "    }\n",
              "\n",
              "    [theme=dark] .colab-df-convert {\n",
              "      background-color: #3B4455;\n",
              "      fill: #D2E3FC;\n",
              "    }\n",
              "\n",
              "    [theme=dark] .colab-df-convert:hover {\n",
              "      background-color: #434B5C;\n",
              "      box-shadow: 0px 1px 3px 1px rgba(0, 0, 0, 0.15);\n",
              "      filter: drop-shadow(0px 1px 2px rgba(0, 0, 0, 0.3));\n",
              "      fill: #FFFFFF;\n",
              "    }\n",
              "  </style>\n",
              "\n",
              "      <script>\n",
              "        const buttonEl =\n",
              "          document.querySelector('#df-5bd5905f-fc34-454a-bdc9-316df7a0566f button.colab-df-convert');\n",
              "        buttonEl.style.display =\n",
              "          google.colab.kernel.accessAllowed ? 'block' : 'none';\n",
              "\n",
              "        async function convertToInteractive(key) {\n",
              "          const element = document.querySelector('#df-5bd5905f-fc34-454a-bdc9-316df7a0566f');\n",
              "          const dataTable =\n",
              "            await google.colab.kernel.invokeFunction('convertToInteractive',\n",
              "                                                     [key], {});\n",
              "          if (!dataTable) return;\n",
              "\n",
              "          const docLinkHtml = 'Like what you see? Visit the ' +\n",
              "            '<a target=\"_blank\" href=https://colab.research.google.com/notebooks/data_table.ipynb>data table notebook</a>'\n",
              "            + ' to learn more about interactive tables.';\n",
              "          element.innerHTML = '';\n",
              "          dataTable['output_type'] = 'display_data';\n",
              "          await google.colab.output.renderOutput(dataTable, element);\n",
              "          const docLink = document.createElement('div');\n",
              "          docLink.innerHTML = docLinkHtml;\n",
              "          element.appendChild(docLink);\n",
              "        }\n",
              "      </script>\n",
              "    </div>\n",
              "  </div>\n",
              "  "
            ],
            "text/plain": [
              "          name_customer  doc_id\n",
              "0              11078 us       1\n",
              "1     236008 associates       1\n",
              "2                99 CE        2\n",
              "3      99 CE associates       1\n",
              "4     99 CE corporation       1\n",
              "...                 ...     ...\n",
              "3073        Y H systems       2\n",
              "3074          Y H trust       1\n",
              "3075      YEN BROS corp       1\n",
              "3076       YEN BROS llc       1\n",
              "3077          ZIYAD  us       1\n",
              "\n",
              "[3078 rows x 2 columns]"
            ]
          },
          "metadata": {},
          "execution_count": 453
        }
      ],
      "source": [
        "X_train.groupby(by=['name_customer'], as_index=False)['doc_id'].count() # Check output crrect or wrong.."
      ],
      "id": "f7acf0ee"
    },
    {
      "cell_type": "markdown",
      "metadata": {
        "id": "cA43bFffFt6i"
      },
      "source": [
        "### You can make another distribution plot of the \"doc_id\" column from x_train"
      ],
      "id": "cA43bFffFt6i"
    },
    {
      "cell_type": "code",
      "execution_count": null,
      "metadata": {
        "colab": {
          "base_uri": "https://localhost:8080/",
          "height": 852
        },
        "id": "9576bf33",
        "outputId": "ad02121d-3fa5-4219-c437-562a475cc26f"
      },
      "outputs": [
        {
          "output_type": "execute_result",
          "data": {
            "text/plain": [
              "<matplotlib.axes._subplots.AxesSubplot at 0x7f8295bfdbd0>"
            ]
          },
          "metadata": {},
          "execution_count": 454
        },
        {
          "output_type": "display_data",
          "data": {
            "image/png": "[encoded data removed]",
            "text/plain": [
              "<Figure size 1440x1008 with 1 Axes>"
            ]
          },
          "metadata": {
            "needs_background": "light"
          }
        }
      ],
      "source": [
        "plt.figure(figsize=(20,14))\n",
        "sns.distplot(X_train.doc_id,bins=300)"
      ],
      "id": "9576bf33"
    },
    {
      "cell_type": "markdown",
      "metadata": {
        "id": "fba2c44f"
      },
      "source": [
        "#### Create a Distribution plot only for business_year and a seperate distribution plot of \"business_year\" column along with the doc_id\" column\n"
      ],
      "id": "fba2c44f"
    },
    {
      "cell_type": "code",
      "execution_count": null,
      "metadata": {
        "colab": {
          "base_uri": "https://localhost:8080/",
          "height": 841
        },
        "id": "4fecec77",
        "outputId": "8e46702e-0682-4e10-e41e-e17b59f8b5c1"
      },
      "outputs": [
        {
          "output_type": "execute_result",
          "data": {
            "text/plain": [
              "<matplotlib.axes._subplots.AxesSubplot at 0x7f8295b27850>"
            ]
          },
          "metadata": {},
          "execution_count": 455
        },
        {
          "output_type": "display_data",
          "data": {
            "image/png": "[encoded data removed]",
            "text/plain": [
              "<Figure size 1440x1008 with 1 Axes>"
            ]
          },
          "metadata": {
            "needs_background": "light"
          }
        }
      ],
      "source": [
        "plt.figure(figsize=(20,14))\n",
        "sns.distplot(X_train.buisness_year,bins=300)"
      ],
      "id": "4fecec77"
    },
    {
      "cell_type": "code",
      "source": [
        "X_train['buisness_year'].value_counts().plot(kind='bar',title='BUISNESS YEAR')"
      ],
      "metadata": {
        "colab": {
          "base_uri": "https://localhost:8080/",
          "height": 323
        },
        "id": "7vkItL-9tJ2Z",
        "outputId": "5316588b-cf7f-4c3f-cd6b-443904da9be5"
      },
      "id": "7vkItL-9tJ2Z",
      "execution_count": null,
      "outputs": [
        {
          "output_type": "execute_result",
          "data": {
            "text/plain": [
              "<matplotlib.axes._subplots.AxesSubplot at 0x7f829534be50>"
            ]
          },
          "metadata": {},
          "execution_count": 456
        },
        {
          "output_type": "display_data",
          "data": {
            "image/png": "[encoded data removed]",
            "text/plain": [
              "<Figure size 432x288 with 1 Axes>"
            ]
          },
          "metadata": {
            "needs_background": "light"
          }
        }
      ]
    },
    {
      "cell_type": "markdown",
      "metadata": {
        "id": "968fbcc9"
      },
      "source": [
        "# Feature Engineering "
      ],
      "id": "968fbcc9"
    },
    {
      "cell_type": "markdown",
      "metadata": {
        "id": "jbh6CyGqH3XE"
      },
      "source": [
        "### Display and describe the X_train dataframe "
      ],
      "id": "jbh6CyGqH3XE"
    },
    {
      "cell_type": "code",
      "execution_count": null,
      "metadata": {
        "colab": {
          "base_uri": "https://localhost:8080/",
          "height": 250
        },
        "id": "e6bcf307",
        "outputId": "9a58ad17-773a-443a-e66d-1ec003293d01"
      },
      "outputs": [
        {
          "output_type": "execute_result",
          "data": {
            "text/html": [
              "\n",
              "  <div id=\"df-60aa8e50-99c4-4f96-8413-559da0efee66\">\n",
              "    <div class=\"colab-df-container\">\n",
              "      <div>\n",
              "<style scoped>\n",
              "    .dataframe tbody tr th:only-of-type {\n",
              "        vertical-align: middle;\n",
              "    }\n",
              "\n",
              "    .dataframe tbody tr th {\n",
              "        vertical-align: top;\n",
              "    }\n",
              "\n",
              "    .dataframe thead th {\n",
              "        text-align: right;\n",
              "    }\n",
              "</style>\n",
              "<table border=\"1\" class=\"dataframe\">\n",
              "  <thead>\n",
              "    <tr style=\"text-align: right;\">\n",
              "      <th></th>\n",
              "      <th>business_code</th>\n",
              "      <th>cust_number</th>\n",
              "      <th>name_customer</th>\n",
              "      <th>buisness_year</th>\n",
              "      <th>doc_id</th>\n",
              "      <th>posting_date</th>\n",
              "      <th>due_in_date</th>\n",
              "      <th>baseline_create_date</th>\n",
              "      <th>cust_payment_terms</th>\n",
              "      <th>converted_usd</th>\n",
              "    </tr>\n",
              "  </thead>\n",
              "  <tbody>\n",
              "    <tr>\n",
              "      <th>35886</th>\n",
              "      <td>U001</td>\n",
              "      <td>0200726979</td>\n",
              "      <td>BJ'S  corp</td>\n",
              "      <td>2019.0</td>\n",
              "      <td>1.930282e+09</td>\n",
              "      <td>2019-12-14</td>\n",
              "      <td>2019-12-29</td>\n",
              "      <td>2019-12-14</td>\n",
              "      <td>NAA8</td>\n",
              "      <td>709.71</td>\n",
              "    </tr>\n",
              "    <tr>\n",
              "      <th>14338</th>\n",
              "      <td>U001</td>\n",
              "      <td>0200762301</td>\n",
              "      <td>C&amp;S WH</td>\n",
              "      <td>2020.0</td>\n",
              "      <td>1.930402e+09</td>\n",
              "      <td>2020-01-15</td>\n",
              "      <td>2020-01-30</td>\n",
              "      <td>2020-01-15</td>\n",
              "      <td>NAC6</td>\n",
              "      <td>22134.76</td>\n",
              "    </tr>\n",
              "    <tr>\n",
              "      <th>17006</th>\n",
              "      <td>U001</td>\n",
              "      <td>0200769623</td>\n",
              "      <td>WAL-MAR llc</td>\n",
              "      <td>2020.0</td>\n",
              "      <td>1.930355e+09</td>\n",
              "      <td>2020-01-05</td>\n",
              "      <td>2020-01-20</td>\n",
              "      <td>2020-01-05</td>\n",
              "      <td>NAH4</td>\n",
              "      <td>20505.61</td>\n",
              "    </tr>\n",
              "    <tr>\n",
              "      <th>30683</th>\n",
              "      <td>U001</td>\n",
              "      <td>0200895843</td>\n",
              "      <td>US  co</td>\n",
              "      <td>2019.0</td>\n",
              "      <td>1.929828e+09</td>\n",
              "      <td>2019-09-04</td>\n",
              "      <td>2019-09-19</td>\n",
              "      <td>2019-09-04</td>\n",
              "      <td>NAA8</td>\n",
              "      <td>54361.47</td>\n",
              "    </tr>\n",
              "    <tr>\n",
              "      <th>20038</th>\n",
              "      <td>CA02</td>\n",
              "      <td>0140106181</td>\n",
              "      <td>THE  llc</td>\n",
              "      <td>2019.0</td>\n",
              "      <td>2.960567e+09</td>\n",
              "      <td>2019-07-20</td>\n",
              "      <td>2019-08-04</td>\n",
              "      <td>2019-07-25</td>\n",
              "      <td>CA10</td>\n",
              "      <td>7115.64</td>\n",
              "    </tr>\n",
              "  </tbody>\n",
              "</table>\n",
              "</div>\n",
              "      <button class=\"colab-df-convert\" onclick=\"convertToInteractive('df-60aa8e50-99c4-4f96-8413-559da0efee66')\"\n",
              "              title=\"Convert this dataframe to an interactive table.\"\n",
              "              style=\"display:none;\">\n",
              "        \n",
              "  <svg xmlns=\"http://www.w3.org/2000/svg\" height=\"24px\"viewBox=\"0 0 24 24\"\n",
              "       width=\"24px\">\n",
              "    <path d=\"M0 0h24v24H0V0z\" fill=\"none\"/>\n",
              "    <path d=\"M18.56 5.44l.94 2.06.94-2.06 2.06-.94-2.06-.94-.94-2.06-.94 2.06-2.06.94zm-11 1L8.5 8.5l.94-2.06 2.06-.94-2.06-.94L8.5 2.5l-.94 2.06-2.06.94zm10 10l.94 2.06.94-2.06 2.06-.94-2.06-.94-.94-2.06-.94 2.06-2.06.94z\"/><path d=\"M17.41 7.96l-1.37-1.37c-.4-.4-.92-.59-1.43-.59-.52 0-1.04.2-1.43.59L10.3 9.45l-7.72 7.72c-.78.78-.78 2.05 0 2.83L4 21.41c.39.39.9.59 1.41.59.51 0 1.02-.2 1.41-.59l7.78-7.78 2.81-2.81c.8-.78.8-2.07 0-2.86zM5.41 20L4 18.59l7.72-7.72 1.47 1.35L5.41 20z\"/>\n",
              "  </svg>\n",
              "      </button>\n",
              "      \n",
              "  <style>\n",
              "    .colab-df-container {\n",
              "      display:flex;\n",
              "      flex-wrap:wrap;\n",
              "      gap: 12px;\n",
              "    }\n",
              "\n",
              "    .colab-df-convert {\n",
              "      background-color: #E8F0FE;\n",
              "      border: none;\n",
              "      border-radius: 50%;\n",
              "      cursor: pointer;\n",
              "      display: none;\n",
              "      fill: #1967D2;\n",
              "      height: 32px;\n",
              "      padding: 0 0 0 0;\n",
              "      width: 32px;\n",
              "    }\n",
              "\n",
              "    .colab-df-convert:hover {\n",
              "      background-color: #E2EBFA;\n",
              "      box-shadow: 0px 1px 2px rgba(60, 64, 67, 0.3), 0px 1px 3px 1px rgba(60, 64, 67, 0.15);\n",
              "      fill: #174EA6;\n",
              "    }\n",
              "\n",
              "    [theme=dark] .colab-df-convert {\n",
              "      background-color: #3B4455;\n",
              "      fill: #D2E3FC;\n",
              "    }\n",
              "\n",
              "    [theme=dark] .colab-df-convert:hover {\n",
              "      background-color: #434B5C;\n",
              "      box-shadow: 0px 1px 3px 1px rgba(0, 0, 0, 0.15);\n",
              "      filter: drop-shadow(0px 1px 2px rgba(0, 0, 0, 0.3));\n",
              "      fill: #FFFFFF;\n",
              "    }\n",
              "  </style>\n",
              "\n",
              "      <script>\n",
              "        const buttonEl =\n",
              "          document.querySelector('#df-60aa8e50-99c4-4f96-8413-559da0efee66 button.colab-df-convert');\n",
              "        buttonEl.style.display =\n",
              "          google.colab.kernel.accessAllowed ? 'block' : 'none';\n",
              "\n",
              "        async function convertToInteractive(key) {\n",
              "          const element = document.querySelector('#df-60aa8e50-99c4-4f96-8413-559da0efee66');\n",
              "          const dataTable =\n",
              "            await google.colab.kernel.invokeFunction('convertToInteractive',\n",
              "                                                     [key], {});\n",
              "          if (!dataTable) return;\n",
              "\n",
              "          const docLinkHtml = 'Like what you see? Visit the ' +\n",
              "            '<a target=\"_blank\" href=https://colab.research.google.com/notebooks/data_table.ipynb>data table notebook</a>'\n",
              "            + ' to learn more about interactive tables.';\n",
              "          element.innerHTML = '';\n",
              "          dataTable['output_type'] = 'display_data';\n",
              "          await google.colab.output.renderOutput(dataTable, element);\n",
              "          const docLink = document.createElement('div');\n",
              "          docLink.innerHTML = docLinkHtml;\n",
              "          element.appendChild(docLink);\n",
              "        }\n",
              "      </script>\n",
              "    </div>\n",
              "  </div>\n",
              "  "
            ],
            "text/plain": [
              "      business_code cust_number  ... cust_payment_terms  converted_usd\n",
              "35886          U001  0200726979  ...               NAA8         709.71\n",
              "14338          U001  0200762301  ...               NAC6       22134.76\n",
              "17006          U001  0200769623  ...               NAH4       20505.61\n",
              "30683          U001  0200895843  ...               NAA8       54361.47\n",
              "20038          CA02  0140106181  ...               CA10        7115.64\n",
              "\n",
              "[5 rows x 10 columns]"
            ]
          },
          "metadata": {},
          "execution_count": 458
        }
      ],
      "source": [
        "X_train.head()"
      ],
      "id": "e6bcf307"
    },
    {
      "cell_type": "code",
      "execution_count": null,
      "metadata": {
        "colab": {
          "base_uri": "https://localhost:8080/",
          "height": 300
        },
        "id": "08ccc819",
        "outputId": "245b5e3c-8462-41be-e5c6-446bc8550c90"
      },
      "outputs": [
        {
          "output_type": "execute_result",
          "data": {
            "text/html": [
              "\n",
              "  <div id=\"df-2011735c-b2c1-4b24-a035-6e7928c6d673\">\n",
              "    <div class=\"colab-df-container\">\n",
              "      <div>\n",
              "<style scoped>\n",
              "    .dataframe tbody tr th:only-of-type {\n",
              "        vertical-align: middle;\n",
              "    }\n",
              "\n",
              "    .dataframe tbody tr th {\n",
              "        vertical-align: top;\n",
              "    }\n",
              "\n",
              "    .dataframe thead th {\n",
              "        text-align: right;\n",
              "    }\n",
              "</style>\n",
              "<table border=\"1\" class=\"dataframe\">\n",
              "  <thead>\n",
              "    <tr style=\"text-align: right;\">\n",
              "      <th></th>\n",
              "      <th>buisness_year</th>\n",
              "      <th>doc_id</th>\n",
              "      <th>converted_usd</th>\n",
              "    </tr>\n",
              "  </thead>\n",
              "  <tbody>\n",
              "    <tr>\n",
              "      <th>count</th>\n",
              "      <td>23494.000000</td>\n",
              "      <td>2.349400e+04</td>\n",
              "      <td>23494.000000</td>\n",
              "    </tr>\n",
              "    <tr>\n",
              "      <th>mean</th>\n",
              "      <td>2019.132928</td>\n",
              "      <td>2.015616e+09</td>\n",
              "      <td>30695.762205</td>\n",
              "    </tr>\n",
              "    <tr>\n",
              "      <th>std</th>\n",
              "      <td>0.339504</td>\n",
              "      <td>2.979711e+08</td>\n",
              "      <td>36350.979459</td>\n",
              "    </tr>\n",
              "    <tr>\n",
              "      <th>min</th>\n",
              "      <td>2019.000000</td>\n",
              "      <td>1.928502e+09</td>\n",
              "      <td>2.400000</td>\n",
              "    </tr>\n",
              "    <tr>\n",
              "      <th>25%</th>\n",
              "      <td>2019.000000</td>\n",
              "      <td>1.929184e+09</td>\n",
              "      <td>4465.250000</td>\n",
              "    </tr>\n",
              "    <tr>\n",
              "      <th>50%</th>\n",
              "      <td>2019.000000</td>\n",
              "      <td>1.929734e+09</td>\n",
              "      <td>16845.244500</td>\n",
              "    </tr>\n",
              "    <tr>\n",
              "      <th>75%</th>\n",
              "      <td>2019.000000</td>\n",
              "      <td>1.930211e+09</td>\n",
              "      <td>45457.122500</td>\n",
              "    </tr>\n",
              "    <tr>\n",
              "      <th>max</th>\n",
              "      <td>2020.000000</td>\n",
              "      <td>9.500000e+09</td>\n",
              "      <td>632134.240000</td>\n",
              "    </tr>\n",
              "  </tbody>\n",
              "</table>\n",
              "</div>\n",
              "      <button class=\"colab-df-convert\" onclick=\"convertToInteractive('df-2011735c-b2c1-4b24-a035-6e7928c6d673')\"\n",
              "              title=\"Convert this dataframe to an interactive table.\"\n",
              "              style=\"display:none;\">\n",
              "        \n",
              "  <svg xmlns=\"http://www.w3.org/2000/svg\" height=\"24px\"viewBox=\"0 0 24 24\"\n",
              "       width=\"24px\">\n",
              "    <path d=\"M0 0h24v24H0V0z\" fill=\"none\"/>\n",
              "    <path d=\"M18.56 5.44l.94 2.06.94-2.06 2.06-.94-2.06-.94-.94-2.06-.94 2.06-2.06.94zm-11 1L8.5 8.5l.94-2.06 2.06-.94-2.06-.94L8.5 2.5l-.94 2.06-2.06.94zm10 10l.94 2.06.94-2.06 2.06-.94-2.06-.94-.94-2.06-.94 2.06-2.06.94z\"/><path d=\"M17.41 7.96l-1.37-1.37c-.4-.4-.92-.59-1.43-.59-.52 0-1.04.2-1.43.59L10.3 9.45l-7.72 7.72c-.78.78-.78 2.05 0 2.83L4 21.41c.39.39.9.59 1.41.59.51 0 1.02-.2 1.41-.59l7.78-7.78 2.81-2.81c.8-.78.8-2.07 0-2.86zM5.41 20L4 18.59l7.72-7.72 1.47 1.35L5.41 20z\"/>\n",
              "  </svg>\n",
              "      </button>\n",
              "      \n",
              "  <style>\n",
              "    .colab-df-container {\n",
              "      display:flex;\n",
              "      flex-wrap:wrap;\n",
              "      gap: 12px;\n",
              "    }\n",
              "\n",
              "    .colab-df-convert {\n",
              "      background-color: #E8F0FE;\n",
              "      border: none;\n",
              "      border-radius: 50%;\n",
              "      cursor: pointer;\n",
              "      display: none;\n",
              "      fill: #1967D2;\n",
              "      height: 32px;\n",
              "      padding: 0 0 0 0;\n",
              "      width: 32px;\n",
              "    }\n",
              "\n",
              "    .colab-df-convert:hover {\n",
              "      background-color: #E2EBFA;\n",
              "      box-shadow: 0px 1px 2px rgba(60, 64, 67, 0.3), 0px 1px 3px 1px rgba(60, 64, 67, 0.15);\n",
              "      fill: #174EA6;\n",
              "    }\n",
              "\n",
              "    [theme=dark] .colab-df-convert {\n",
              "      background-color: #3B4455;\n",
              "      fill: #D2E3FC;\n",
              "    }\n",
              "\n",
              "    [theme=dark] .colab-df-convert:hover {\n",
              "      background-color: #434B5C;\n",
              "      box-shadow: 0px 1px 3px 1px rgba(0, 0, 0, 0.15);\n",
              "      filter: drop-shadow(0px 1px 2px rgba(0, 0, 0, 0.3));\n",
              "      fill: #FFFFFF;\n",
              "    }\n",
              "  </style>\n",
              "\n",
              "      <script>\n",
              "        const buttonEl =\n",
              "          document.querySelector('#df-2011735c-b2c1-4b24-a035-6e7928c6d673 button.colab-df-convert');\n",
              "        buttonEl.style.display =\n",
              "          google.colab.kernel.accessAllowed ? 'block' : 'none';\n",
              "\n",
              "        async function convertToInteractive(key) {\n",
              "          const element = document.querySelector('#df-2011735c-b2c1-4b24-a035-6e7928c6d673');\n",
              "          const dataTable =\n",
              "            await google.colab.kernel.invokeFunction('convertToInteractive',\n",
              "                                                     [key], {});\n",
              "          if (!dataTable) return;\n",
              "\n",
              "          const docLinkHtml = 'Like what you see? Visit the ' +\n",
              "            '<a target=\"_blank\" href=https://colab.research.google.com/notebooks/data_table.ipynb>data table notebook</a>'\n",
              "            + ' to learn more about interactive tables.';\n",
              "          element.innerHTML = '';\n",
              "          dataTable['output_type'] = 'display_data';\n",
              "          await google.colab.output.renderOutput(dataTable, element);\n",
              "          const docLink = document.createElement('div');\n",
              "          docLink.innerHTML = docLinkHtml;\n",
              "          element.appendChild(docLink);\n",
              "        }\n",
              "      </script>\n",
              "    </div>\n",
              "  </div>\n",
              "  "
            ],
            "text/plain": [
              "       buisness_year        doc_id  converted_usd\n",
              "count   23494.000000  2.349400e+04   23494.000000\n",
              "mean     2019.132928  2.015616e+09   30695.762205\n",
              "std         0.339504  2.979711e+08   36350.979459\n",
              "min      2019.000000  1.928502e+09       2.400000\n",
              "25%      2019.000000  1.929184e+09    4465.250000\n",
              "50%      2019.000000  1.929734e+09   16845.244500\n",
              "75%      2019.000000  1.930211e+09   45457.122500\n",
              "max      2020.000000  9.500000e+09  632134.240000"
            ]
          },
          "metadata": {},
          "execution_count": 459
        }
      ],
      "source": [
        "X_train.describe()"
      ],
      "id": "08ccc819"
    },
    {
      "cell_type": "markdown",
      "metadata": {
        "id": "abd7ac8b"
      },
      "source": [
        "#### The \"business_code\" column inside X_train, is a categorical column, so you need to perform Labelencoder on that particular column\n",
        "\n",
        "- Note - call the Label Encoder from sklearn library and use the fit() function on \"business_code\" column\n",
        "- Note - Please fill in the blanks (two) to complete this code"
      ],
      "id": "abd7ac8b"
    },
    {
      "cell_type": "code",
      "execution_count": null,
      "metadata": {
        "colab": {
          "base_uri": "https://localhost:8080/"
        },
        "id": "7c223545",
        "outputId": "a27a3b8f-d660-4558-acae-b24d4a8c7362"
      },
      "outputs": [
        {
          "output_type": "execute_result",
          "data": {
            "text/plain": [
              "array([1, 1, 1, ..., 1, 1, 0])"
            ]
          },
          "metadata": {},
          "execution_count": 461
        }
      ],
      "source": [
        "from sklearn.preprocessing import LabelEncoder\n",
        "business_coder = LabelEncoder()\n",
        "business_coder.fit_transform(X_train[\"business_code\"])"
      ],
      "id": "7c223545"
    },
    {
      "cell_type": "markdown",
      "metadata": {
        "id": "f86f7d9c"
      },
      "source": [
        "#### You are expected to store the value into a new column i.e. \"business_code_enc\"\n",
        "\n",
        "- Note - For Training set you are expected to use fit_trainsform()\n",
        "- Note - For Test set you are expected to use the trainsform()\n",
        "- Note - For Validation set you are expected to use the trainsform()\n",
        "\n",
        "\n",
        "- Partial code is provided, please fill in the blanks "
      ],
      "id": "f86f7d9c"
    },
    {
      "cell_type": "code",
      "execution_count": null,
      "metadata": {
        "id": "4269c307"
      },
      "outputs": [],
      "source": [
        "X_train['business_code_enc'] = business_coder.fit_transform(X_train['business_code'])"
      ],
      "id": "4269c307"
    },
    {
      "cell_type": "code",
      "execution_count": null,
      "metadata": {
        "id": "70a53712"
      },
      "outputs": [],
      "source": [
        "X_val['business_code_enc'] = business_coder.transform(X_val['business_code'])\n",
        "X_test['business_code_enc'] = business_coder.transform(X_test['business_code'])"
      ],
      "id": "70a53712"
    },
    {
      "cell_type": "markdown",
      "metadata": {
        "id": "gdNYxTkqNfmz"
      },
      "source": [
        "### Display \"business_code\" and \"business_code_enc\" together from X_train dataframe "
      ],
      "id": "gdNYxTkqNfmz"
    },
    {
      "cell_type": "code",
      "execution_count": null,
      "metadata": {
        "id": "1196a002",
        "colab": {
          "base_uri": "https://localhost:8080/",
          "height": 424
        },
        "outputId": "ca6e2f77-9ad5-4d9c-e936-4adecaa9f735"
      },
      "outputs": [
        {
          "output_type": "execute_result",
          "data": {
            "text/html": [
              "\n",
              "  <div id=\"df-160544dd-4e6a-4597-9853-e7d950252b8a\">\n",
              "    <div class=\"colab-df-container\">\n",
              "      <div>\n",
              "<style scoped>\n",
              "    .dataframe tbody tr th:only-of-type {\n",
              "        vertical-align: middle;\n",
              "    }\n",
              "\n",
              "    .dataframe tbody tr th {\n",
              "        vertical-align: top;\n",
              "    }\n",
              "\n",
              "    .dataframe thead th {\n",
              "        text-align: right;\n",
              "    }\n",
              "</style>\n",
              "<table border=\"1\" class=\"dataframe\">\n",
              "  <thead>\n",
              "    <tr style=\"text-align: right;\">\n",
              "      <th></th>\n",
              "      <th>business_code</th>\n",
              "      <th>business_code_enc</th>\n",
              "    </tr>\n",
              "  </thead>\n",
              "  <tbody>\n",
              "    <tr>\n",
              "      <th>35886</th>\n",
              "      <td>U001</td>\n",
              "      <td>1</td>\n",
              "    </tr>\n",
              "    <tr>\n",
              "      <th>14338</th>\n",
              "      <td>U001</td>\n",
              "      <td>1</td>\n",
              "    </tr>\n",
              "    <tr>\n",
              "      <th>17006</th>\n",
              "      <td>U001</td>\n",
              "      <td>1</td>\n",
              "    </tr>\n",
              "    <tr>\n",
              "      <th>30683</th>\n",
              "      <td>U001</td>\n",
              "      <td>1</td>\n",
              "    </tr>\n",
              "    <tr>\n",
              "      <th>20038</th>\n",
              "      <td>CA02</td>\n",
              "      <td>0</td>\n",
              "    </tr>\n",
              "    <tr>\n",
              "      <th>...</th>\n",
              "      <td>...</td>\n",
              "      <td>...</td>\n",
              "    </tr>\n",
              "    <tr>\n",
              "      <th>20757</th>\n",
              "      <td>U001</td>\n",
              "      <td>1</td>\n",
              "    </tr>\n",
              "    <tr>\n",
              "      <th>32103</th>\n",
              "      <td>U001</td>\n",
              "      <td>1</td>\n",
              "    </tr>\n",
              "    <tr>\n",
              "      <th>30403</th>\n",
              "      <td>U001</td>\n",
              "      <td>1</td>\n",
              "    </tr>\n",
              "    <tr>\n",
              "      <th>21243</th>\n",
              "      <td>U001</td>\n",
              "      <td>1</td>\n",
              "    </tr>\n",
              "    <tr>\n",
              "      <th>2732</th>\n",
              "      <td>CA02</td>\n",
              "      <td>0</td>\n",
              "    </tr>\n",
              "  </tbody>\n",
              "</table>\n",
              "<p>23494 rows × 2 columns</p>\n",
              "</div>\n",
              "      <button class=\"colab-df-convert\" onclick=\"convertToInteractive('df-160544dd-4e6a-4597-9853-e7d950252b8a')\"\n",
              "              title=\"Convert this dataframe to an interactive table.\"\n",
              "              style=\"display:none;\">\n",
              "        \n",
              "  <svg xmlns=\"http://www.w3.org/2000/svg\" height=\"24px\"viewBox=\"0 0 24 24\"\n",
              "       width=\"24px\">\n",
              "    <path d=\"M0 0h24v24H0V0z\" fill=\"none\"/>\n",
              "    <path d=\"M18.56 5.44l.94 2.06.94-2.06 2.06-.94-2.06-.94-.94-2.06-.94 2.06-2.06.94zm-11 1L8.5 8.5l.94-2.06 2.06-.94-2.06-.94L8.5 2.5l-.94 2.06-2.06.94zm10 10l.94 2.06.94-2.06 2.06-.94-2.06-.94-.94-2.06-.94 2.06-2.06.94z\"/><path d=\"M17.41 7.96l-1.37-1.37c-.4-.4-.92-.59-1.43-.59-.52 0-1.04.2-1.43.59L10.3 9.45l-7.72 7.72c-.78.78-.78 2.05 0 2.83L4 21.41c.39.39.9.59 1.41.59.51 0 1.02-.2 1.41-.59l7.78-7.78 2.81-2.81c.8-.78.8-2.07 0-2.86zM5.41 20L4 18.59l7.72-7.72 1.47 1.35L5.41 20z\"/>\n",
              "  </svg>\n",
              "      </button>\n",
              "      \n",
              "  <style>\n",
              "    .colab-df-container {\n",
              "      display:flex;\n",
              "      flex-wrap:wrap;\n",
              "      gap: 12px;\n",
              "    }\n",
              "\n",
              "    .colab-df-convert {\n",
              "      background-color: #E8F0FE;\n",
              "      border: none;\n",
              "      border-radius: 50%;\n",
              "      cursor: pointer;\n",
              "      display: none;\n",
              "      fill: #1967D2;\n",
              "      height: 32px;\n",
              "      padding: 0 0 0 0;\n",
              "      width: 32px;\n",
              "    }\n",
              "\n",
              "    .colab-df-convert:hover {\n",
              "      background-color: #E2EBFA;\n",
              "      box-shadow: 0px 1px 2px rgba(60, 64, 67, 0.3), 0px 1px 3px 1px rgba(60, 64, 67, 0.15);\n",
              "      fill: #174EA6;\n",
              "    }\n",
              "\n",
              "    [theme=dark] .colab-df-convert {\n",
              "      background-color: #3B4455;\n",
              "      fill: #D2E3FC;\n",
              "    }\n",
              "\n",
              "    [theme=dark] .colab-df-convert:hover {\n",
              "      background-color: #434B5C;\n",
              "      box-shadow: 0px 1px 3px 1px rgba(0, 0, 0, 0.15);\n",
              "      filter: drop-shadow(0px 1px 2px rgba(0, 0, 0, 0.3));\n",
              "      fill: #FFFFFF;\n",
              "    }\n",
              "  </style>\n",
              "\n",
              "      <script>\n",
              "        const buttonEl =\n",
              "          document.querySelector('#df-160544dd-4e6a-4597-9853-e7d950252b8a button.colab-df-convert');\n",
              "        buttonEl.style.display =\n",
              "          google.colab.kernel.accessAllowed ? 'block' : 'none';\n",
              "\n",
              "        async function convertToInteractive(key) {\n",
              "          const element = document.querySelector('#df-160544dd-4e6a-4597-9853-e7d950252b8a');\n",
              "          const dataTable =\n",
              "            await google.colab.kernel.invokeFunction('convertToInteractive',\n",
              "                                                     [key], {});\n",
              "          if (!dataTable) return;\n",
              "\n",
              "          const docLinkHtml = 'Like what you see? Visit the ' +\n",
              "            '<a target=\"_blank\" href=https://colab.research.google.com/notebooks/data_table.ipynb>data table notebook</a>'\n",
              "            + ' to learn more about interactive tables.';\n",
              "          element.innerHTML = '';\n",
              "          dataTable['output_type'] = 'display_data';\n",
              "          await google.colab.output.renderOutput(dataTable, element);\n",
              "          const docLink = document.createElement('div');\n",
              "          docLink.innerHTML = docLinkHtml;\n",
              "          element.appendChild(docLink);\n",
              "        }\n",
              "      </script>\n",
              "    </div>\n",
              "  </div>\n",
              "  "
            ],
            "text/plain": [
              "      business_code  business_code_enc\n",
              "35886          U001                  1\n",
              "14338          U001                  1\n",
              "17006          U001                  1\n",
              "30683          U001                  1\n",
              "20038          CA02                  0\n",
              "...             ...                ...\n",
              "20757          U001                  1\n",
              "32103          U001                  1\n",
              "30403          U001                  1\n",
              "21243          U001                  1\n",
              "2732           CA02                  0\n",
              "\n",
              "[23494 rows x 2 columns]"
            ]
          },
          "metadata": {},
          "execution_count": 464
        }
      ],
      "source": [
        "X_train[[\"business_code\", \"business_code_enc\"]]"
      ],
      "id": "1196a002"
    },
    {
      "cell_type": "markdown",
      "metadata": {
        "id": "11477224"
      },
      "source": [
        "#### Create a function called \"custom\" for dropping the columns 'business_code' from train, test and validation dataframe\n",
        "\n",
        "- Note - Fill in the blank to complete the code"
      ],
      "id": "11477224"
    },
    {
      "cell_type": "code",
      "execution_count": null,
      "metadata": {
        "id": "1052868a"
      },
      "outputs": [],
      "source": [
        "def custom(col ,traindf = X_train,valdf = X_val,testdf = X_test):\n",
        "    traindf.drop(col, axis =1,inplace=True)\n",
        "    valdf.drop(col,axis=1 , inplace=True)\n",
        "    testdf.drop(col,axis=1 , inplace=True)\n",
        "\n",
        "    return traindf,valdf ,testdf"
      ],
      "id": "1052868a"
    },
    {
      "cell_type": "markdown",
      "metadata": {
        "id": "rI--ZuMbNLne"
      },
      "source": [
        "### Call the function by passing the column name which needed to be dropped from train, test and validation dataframes. Return updated dataframes to be stored in X_train ,X_val, X_test  \n",
        "\n",
        "- Note = Fill in the blank to complete the code "
      ],
      "id": "rI--ZuMbNLne"
    },
    {
      "cell_type": "code",
      "execution_count": null,
      "metadata": {
        "id": "1a0f955c"
      },
      "outputs": [],
      "source": [
        "X_train, X_val, X_test = custom([\"business_code\"])"
      ],
      "id": "1a0f955c"
    },
    {
      "cell_type": "markdown",
      "metadata": {
        "id": "28b5b27e"
      },
      "source": [
        "### Manually replacing str values with numbers, Here we are trying manually replace the customer numbers with some specific values like, 'CCCA' as 1, 'CCU' as 2 and so on. Also we are converting the datatype \"cust_number\" field to int type.\n",
        "\n",
        "- We are doing it for all the three dataframes as shown below. This is fully completed code. No need to modify anything here \n",
        "\n"
      ],
      "id": "28b5b27e"
    },
    {
      "cell_type": "code",
      "execution_count": null,
      "metadata": {
        "id": "85dd129e"
      },
      "outputs": [],
      "source": [
        "X_train['cust_number'] = X_train['cust_number'].str.replace('CCCA',\"1\").str.replace('CCU',\"2\").str.replace('CC',\"3\").astype(int)\n",
        "X_test['cust_number'] = X_test['cust_number'].str.replace('CCCA',\"1\").str.replace('CCU',\"2\").str.replace('CC',\"3\").astype(int)\n",
        "X_val['cust_number'] = X_val['cust_number'].str.replace('CCCA',\"1\").str.replace('CCU',\"2\").str.replace('CC',\"3\").astype(int)\n"
      ],
      "id": "85dd129e"
    },
    {
      "cell_type": "markdown",
      "metadata": {
        "id": "U8vA-zmdPnJ8"
      },
      "source": [
        "#### It differs from LabelEncoder by handling new classes and providing a value for it [Unknown]. Unknown will be added in fit and transform will take care of new item. It gives unknown class id.\n",
        "\n",
        "#### This will fit the encoder for all the unique values and introduce unknown value\n",
        "\n",
        "- Note - Keep this code as it is, we will be using this later on.  "
      ],
      "id": "U8vA-zmdPnJ8"
    },
    {
      "cell_type": "code",
      "execution_count": null,
      "metadata": {
        "id": "151f48ba"
      },
      "outputs": [],
      "source": [
        "#For encoding unseen labels\n",
        "class EncoderExt(object):\n",
        "    def __init__(self):\n",
        "        self.label_encoder = LabelEncoder()\n",
        "    def fit(self, data_list):\n",
        "        self.label_encoder = self.label_encoder.fit(list(data_list) + ['Unknown'])\n",
        "        self.classes_ = self.label_encoder.classes_\n",
        "        return self\n",
        "    def transform(self, data_list):\n",
        "        new_data_list = list(data_list)\n",
        "        for unique_item in np.unique(data_list):\n",
        "            if unique_item not in self.label_encoder.classes_:\n",
        "                new_data_list = ['Unknown' if x==unique_item else x for x in new_data_list]\n",
        "        return self.label_encoder.transform(new_data_list)"
      ],
      "id": "151f48ba"
    },
    {
      "cell_type": "markdown",
      "metadata": {
        "id": "254c64e6"
      },
      "source": [
        "### Use the user define Label Encoder function called \"EncoderExt\" for the \"name_customer\" column\n",
        "\n",
        "- Note - Keep the code as it is, no need to change"
      ],
      "id": "254c64e6"
    },
    {
      "cell_type": "code",
      "execution_count": null,
      "metadata": {
        "id": "62b17eff"
      },
      "outputs": [],
      "source": [
        "label_encoder = EncoderExt()\n",
        "label_encoder.fit(X_train['name_customer'])\n",
        "X_train['name_customer_enc']=label_encoder.transform(X_train['name_customer'])\n",
        "X_val['name_customer_enc']=label_encoder.transform(X_val['name_customer'])\n",
        "X_test['name_customer_enc']=label_encoder.transform(X_test['name_customer'])"
      ],
      "id": "62b17eff"
    },
    {
      "cell_type": "markdown",
      "metadata": {
        "id": "mK7LMoy2QZhy"
      },
      "source": [
        "### As we have created the a new column \"name_customer_enc\", so now drop \"name_customer\" column from all three dataframes\n",
        "\n",
        "- Note - Keep the code as it is, no need to change"
      ],
      "id": "mK7LMoy2QZhy"
    },
    {
      "cell_type": "code",
      "execution_count": null,
      "metadata": {
        "id": "ef85f1c0"
      },
      "outputs": [],
      "source": [
        "X_train ,X_val, X_test = custom(['name_customer'])"
      ],
      "id": "ef85f1c0"
    },
    {
      "cell_type": "markdown",
      "metadata": {
        "id": "3aa09d22"
      },
      "source": [
        "### Using Label Encoder for the \"cust_payment_terms\" column\n",
        "\n",
        "- Note - Keep the code as it is, no need to change"
      ],
      "id": "3aa09d22"
    },
    {
      "cell_type": "code",
      "execution_count": null,
      "metadata": {
        "id": "6f9ab642"
      },
      "outputs": [],
      "source": [
        "label_encoder1 = EncoderExt()\n",
        "label_encoder1.fit(X_train['cust_payment_terms'])\n",
        "X_train['cust_payment_terms_enc']=label_encoder1.transform(X_train['cust_payment_terms'])\n",
        "X_val['cust_payment_terms_enc']=label_encoder1.transform(X_val['cust_payment_terms'])\n",
        "X_test['cust_payment_terms_enc']=label_encoder1.transform(X_test['cust_payment_terms'])"
      ],
      "id": "6f9ab642"
    },
    {
      "cell_type": "code",
      "execution_count": null,
      "metadata": {
        "id": "55f9a7c2"
      },
      "outputs": [],
      "source": [
        "X_train ,X_val, X_test = custom(['cust_payment_terms'])"
      ],
      "id": "55f9a7c2"
    },
    {
      "cell_type": "markdown",
      "metadata": {
        "id": "0788f42b"
      },
      "source": [
        "## Check the datatype of all the columns of Train, Test and Validation dataframes realted to X\n",
        "\n",
        "- Note - You are expected yo use dtype"
      ],
      "id": "0788f42b"
    },
    {
      "cell_type": "code",
      "execution_count": null,
      "metadata": {
        "id": "bc79a316",
        "colab": {
          "base_uri": "https://localhost:8080/"
        },
        "outputId": "4cf7cc01-2155-4d81-8ea7-591140325029"
      },
      "outputs": [
        {
          "output_type": "execute_result",
          "data": {
            "text/plain": [
              "cust_number                        int64\n",
              "buisness_year                    float64\n",
              "doc_id                           float64\n",
              "posting_date              datetime64[ns]\n",
              "due_in_date               datetime64[ns]\n",
              "baseline_create_date      datetime64[ns]\n",
              "converted_usd                    float64\n",
              "business_code_enc                  int64\n",
              "name_customer_enc                  int64\n",
              "cust_payment_terms_enc             int64\n",
              "dtype: object"
            ]
          },
          "metadata": {},
          "execution_count": 474
        }
      ],
      "source": [
        "X_train.dtypes"
      ],
      "id": "bc79a316"
    },
    {
      "cell_type": "code",
      "execution_count": null,
      "metadata": {
        "id": "b33242d8",
        "colab": {
          "base_uri": "https://localhost:8080/"
        },
        "outputId": "2272fe4e-82a6-4c98-c668-c68b28492e0e"
      },
      "outputs": [
        {
          "output_type": "execute_result",
          "data": {
            "text/plain": [
              "cust_number                        int64\n",
              "buisness_year                    float64\n",
              "doc_id                           float64\n",
              "posting_date              datetime64[ns]\n",
              "due_in_date               datetime64[ns]\n",
              "baseline_create_date      datetime64[ns]\n",
              "converted_usd                    float64\n",
              "business_code_enc                  int64\n",
              "name_customer_enc                  int64\n",
              "cust_payment_terms_enc             int64\n",
              "dtype: object"
            ]
          },
          "metadata": {},
          "execution_count": 475
        }
      ],
      "source": [
        "X_val.dtypes"
      ],
      "id": "b33242d8"
    },
    {
      "cell_type": "code",
      "execution_count": null,
      "metadata": {
        "id": "6bd4da71",
        "colab": {
          "base_uri": "https://localhost:8080/"
        },
        "outputId": "25f566cd-37fc-4ae4-b833-9e61295551c1"
      },
      "outputs": [
        {
          "output_type": "execute_result",
          "data": {
            "text/plain": [
              "cust_number                        int64\n",
              "buisness_year                    float64\n",
              "doc_id                           float64\n",
              "posting_date              datetime64[ns]\n",
              "due_in_date               datetime64[ns]\n",
              "baseline_create_date      datetime64[ns]\n",
              "converted_usd                    float64\n",
              "business_code_enc                  int64\n",
              "name_customer_enc                  int64\n",
              "cust_payment_terms_enc             int64\n",
              "dtype: object"
            ]
          },
          "metadata": {},
          "execution_count": 476
        }
      ],
      "source": [
        "X_test.dtypes"
      ],
      "id": "6bd4da71"
    },
    {
      "cell_type": "markdown",
      "metadata": {
        "id": "LVfvuPiWPeMB"
      },
      "source": [
        "### From the above output you can notice their are multiple date columns with datetime format\n",
        "\n",
        "### In order to pass it into our model, we need to convert it into float format"
      ],
      "id": "LVfvuPiWPeMB"
    },
    {
      "cell_type": "markdown",
      "metadata": {
        "id": "9d344db9"
      },
      "source": [
        "### You need to extract day, month and year from the \"posting_date\" column \n",
        "\n",
        "1.   Extract days from \"posting_date\" column and store it into a new column \"day_of_postingdate\" for train, test and validation dataset \n",
        "2.   Extract months from \"posting_date\" column and store it into a new column \"month_of_postingdate\" for train, test and validation dataset\n",
        "3.   Extract year from \"posting_date\" column and store it into a new column \"year_of_postingdate\" for train, test and validation dataset \n",
        "\n",
        "\n",
        "\n",
        "- Note - You are supposed yo use \n",
        "\n",
        "*   dt.day\n",
        "*   dt.month\n",
        "*   dt.year\n",
        "\n",
        "\n",
        "\n",
        "\n"
      ],
      "id": "9d344db9"
    },
    {
      "cell_type": "code",
      "execution_count": null,
      "metadata": {
        "id": "6e3cdfd6"
      },
      "outputs": [],
      "source": [
        "X_train['day_of_postingdate'] = X_train['posting_date'].dt.day\n",
        "X_train['month_of_postingdate'] = X_train['posting_date'].dt.month\n",
        "X_train['year_of_postingdate'] = X_train['posting_date'].dt.year\n",
        "\n",
        "X_val['day_of_postingdate'] = X_val['posting_date'].dt.day\n",
        "X_val['month_of_postingdate'] = X_val['posting_date'].dt.month\n",
        "X_val['year_of_postingdate'] = X_val['posting_date'].dt.year\n",
        "\n",
        "\n",
        "X_test['day_of_postingdate'] = X_test['posting_date'].dt.day\n",
        "X_test['month_of_postingdate'] = X_test['posting_date'].dt.month\n",
        "X_test['year_of_postingdate'] = X_test['posting_date'].dt.year\n",
        "\n"
      ],
      "id": "6e3cdfd6"
    },
    {
      "cell_type": "markdown",
      "metadata": {
        "id": "GyI-F853Rxa7"
      },
      "source": [
        "### pass the \"posting_date\" column into the Custom function for train, test and validation dataset"
      ],
      "id": "GyI-F853Rxa7"
    },
    {
      "cell_type": "code",
      "execution_count": null,
      "metadata": {
        "id": "FQHtQkrnRx_V"
      },
      "outputs": [],
      "source": [
        "X_train ,X_val, X_test = custom(['posting_date'])"
      ],
      "id": "FQHtQkrnRx_V"
    },
    {
      "cell_type": "markdown",
      "metadata": {
        "id": "GMnCaEcKReSw"
      },
      "source": [
        "### You need to extract day, month and year from the \"baseline_create_date\" column \n",
        "\n",
        "1.   Extract days from \"baseline_create_date\" column and store it into a new column \"day_of_createdate\" for train, test and validation dataset \n",
        "2.   Extract months from \"baseline_create_date\" column and store it into a new column \"month_of_createdate\" for train, test and validation dataset\n",
        "3.   Extract year from \"baseline_create_date\" column and store it into a new column \"year_of_createdate\" for train, test and validation dataset \n",
        "\n",
        "\n",
        "\n",
        "- Note - You are supposed yo use \n",
        "\n",
        "*   dt.day\n",
        "*   dt.month\n",
        "*   dt.year\n",
        "\n",
        "\n",
        "- Note - Do as it is been shown in the previous two code boxes"
      ],
      "id": "GMnCaEcKReSw"
    },
    {
      "cell_type": "markdown",
      "metadata": {
        "id": "ee4d83d0"
      },
      "source": [
        "### Extracting Day, Month, Year for 'baseline_create_date' column"
      ],
      "id": "ee4d83d0"
    },
    {
      "cell_type": "code",
      "execution_count": null,
      "metadata": {
        "id": "32b240e1"
      },
      "outputs": [],
      "source": [
        "X_train['day_of_createdate'] = X_train['baseline_create_date'].dt.day\n",
        "X_train['month_of_createdate'] = X_train['baseline_create_date'].dt.month\n",
        "X_train['year_of_createdate'] = X_train['baseline_create_date'].dt.year\n",
        "\n",
        "X_val['day_of_createdate'] = X_val['baseline_create_date'].dt.day\n",
        "X_val['month_of_createdate'] = X_val['baseline_create_date'].dt.month\n",
        "X_val['year_of_createdate'] = X_val['baseline_create_date'].dt.year\n",
        "\n",
        "\n",
        "X_test['day_of_createdate'] = X_test['baseline_create_date'].dt.day\n",
        "X_test['month_of_createdate'] = X_test['baseline_create_date'].dt.month\n",
        "X_test['year_of_createdate'] = X_test['baseline_create_date'].dt.year\n"
      ],
      "id": "32b240e1"
    },
    {
      "cell_type": "markdown",
      "metadata": {
        "id": "cFgwkS5rSDDs"
      },
      "source": [
        "### pass the \"baseline_create_date\" column into the Custom function for train, test and validation dataset"
      ],
      "id": "cFgwkS5rSDDs"
    },
    {
      "cell_type": "code",
      "execution_count": null,
      "metadata": {
        "id": "RGYa2BEQSDg3"
      },
      "outputs": [],
      "source": [
        "X_train ,X_val, X_test = custom(['baseline_create_date'])"
      ],
      "id": "RGYa2BEQSDg3"
    },
    {
      "cell_type": "markdown",
      "metadata": {
        "id": "77c7a0df"
      },
      "source": [
        "### You need to extract day, month and year from the \"due_in_date\" column \n",
        "\n",
        "1.   Extract days from \"due_in_date\" column and store it into a new column \"day_of_due\" for train, test and validation dataset \n",
        "2.   Extract months from \"due_in_date\" column and store it into a new column \"month_of_due\" for train, test and validation dataset\n",
        "3.   Extract year from \"due_in_date\" column and store it into a new column \"year_of_due\" for train, test and validation dataset \n",
        "\n",
        "\n",
        "\n",
        "- Note - You are supposed yo use \n",
        "\n",
        "*   dt.day\n",
        "*   dt.month\n",
        "*   dt.year\n",
        "\n",
        "- Note - Do as it is been shown in the previous code"
      ],
      "id": "77c7a0df"
    },
    {
      "cell_type": "code",
      "execution_count": null,
      "metadata": {
        "id": "5c745547"
      },
      "outputs": [],
      "source": [
        "X_train['day_of_due'] = X_train['due_in_date'].dt.day\n",
        "X_train['month_of_due'] = X_train['due_in_date'].dt.month\n",
        "X_train['year_of_due'] = X_train['due_in_date'].dt.year\n",
        "\n",
        "X_val['day_of_due'] = X_val['due_in_date'].dt.day\n",
        "X_val['month_of_due'] = X_val['due_in_date'].dt.month\n",
        "X_val['year_of_due'] = X_val['due_in_date'].dt.year\n",
        "\n",
        "\n",
        "X_test['month_of_due'] = X_test['due_in_date'].dt.day\n",
        "X_test['day_of_due'] = X_test['due_in_date'].dt.month\n",
        "X_test['year_of_due'] = X_test['due_in_date'].dt.year\n"
      ],
      "id": "5c745547"
    },
    {
      "cell_type": "markdown",
      "metadata": {
        "id": "FYLLzulGSvRd"
      },
      "source": [
        "pass the \"due_in_date\" column into the Custom function for train, test and validation dataset"
      ],
      "id": "FYLLzulGSvRd"
    },
    {
      "cell_type": "code",
      "execution_count": null,
      "metadata": {
        "id": "1-s6QuY9Svrh"
      },
      "outputs": [],
      "source": [
        "X_train ,X_val, X_test = custom(['due_in_date'])"
      ],
      "id": "1-s6QuY9Svrh"
    },
    {
      "cell_type": "markdown",
      "metadata": {
        "id": "1ae5d052"
      },
      "source": [
        "### Check for the datatypes for train, test and validation set again\n",
        "\n",
        "- Note - all the data type should be in either int64 or float64 format \n"
      ],
      "id": "1ae5d052"
    },
    {
      "cell_type": "code",
      "execution_count": null,
      "metadata": {
        "id": "aee9d828",
        "colab": {
          "base_uri": "https://localhost:8080/"
        },
        "outputId": "06238456-c6a6-4c74-996f-cf3dbb4195a1"
      },
      "outputs": [
        {
          "output_type": "execute_result",
          "data": {
            "text/plain": [
              "cust_number                 int64\n",
              "buisness_year             float64\n",
              "doc_id                    float64\n",
              "converted_usd             float64\n",
              "business_code_enc           int64\n",
              "name_customer_enc           int64\n",
              "cust_payment_terms_enc      int64\n",
              "day_of_postingdate          int64\n",
              "month_of_postingdate        int64\n",
              "year_of_postingdate         int64\n",
              "day_of_createdate           int64\n",
              "month_of_createdate         int64\n",
              "year_of_createdate          int64\n",
              "day_of_due                  int64\n",
              "month_of_due                int64\n",
              "year_of_due                 int64\n",
              "dtype: object"
            ]
          },
          "metadata": {},
          "execution_count": 483
        }
      ],
      "source": [
        "X_train.dtypes"
      ],
      "id": "aee9d828"
    },
    {
      "cell_type": "code",
      "source": [
        "X_test.dtypes"
      ],
      "metadata": {
        "colab": {
          "base_uri": "https://localhost:8080/"
        },
        "id": "0dAUCwpKBwlA",
        "outputId": "f7f9e661-9f30-42de-eabe-d11fd7c68e77"
      },
      "id": "0dAUCwpKBwlA",
      "execution_count": null,
      "outputs": [
        {
          "output_type": "execute_result",
          "data": {
            "text/plain": [
              "cust_number                 int64\n",
              "buisness_year             float64\n",
              "doc_id                    float64\n",
              "converted_usd             float64\n",
              "business_code_enc           int64\n",
              "name_customer_enc           int64\n",
              "cust_payment_terms_enc      int64\n",
              "day_of_postingdate          int64\n",
              "month_of_postingdate        int64\n",
              "year_of_postingdate         int64\n",
              "day_of_createdate           int64\n",
              "month_of_createdate         int64\n",
              "year_of_createdate          int64\n",
              "month_of_due                int64\n",
              "day_of_due                  int64\n",
              "year_of_due                 int64\n",
              "dtype: object"
            ]
          },
          "metadata": {},
          "execution_count": 484
        }
      ]
    },
    {
      "cell_type": "code",
      "source": [
        "X_val.dtypes"
      ],
      "metadata": {
        "colab": {
          "base_uri": "https://localhost:8080/"
        },
        "id": "AcAyTB58Bwze",
        "outputId": "396c9a59-a7eb-4ecc-875b-ea81cc2eb72e"
      },
      "id": "AcAyTB58Bwze",
      "execution_count": null,
      "outputs": [
        {
          "output_type": "execute_result",
          "data": {
            "text/plain": [
              "cust_number                 int64\n",
              "buisness_year             float64\n",
              "doc_id                    float64\n",
              "converted_usd             float64\n",
              "business_code_enc           int64\n",
              "name_customer_enc           int64\n",
              "cust_payment_terms_enc      int64\n",
              "day_of_postingdate          int64\n",
              "month_of_postingdate        int64\n",
              "year_of_postingdate         int64\n",
              "day_of_createdate           int64\n",
              "month_of_createdate         int64\n",
              "year_of_createdate          int64\n",
              "day_of_due                  int64\n",
              "month_of_due                int64\n",
              "year_of_due                 int64\n",
              "dtype: object"
            ]
          },
          "metadata": {},
          "execution_count": 485
        }
      ]
    },
    {
      "cell_type": "markdown",
      "metadata": {
        "id": "65810f55"
      },
      "source": [
        "# Feature Selection"
      ],
      "id": "65810f55"
    },
    {
      "cell_type": "markdown",
      "metadata": {
        "id": "4bb1ad9f"
      },
      "source": [
        "### Filter Method\n",
        "\n",
        "- Calling the VarianceThreshold Function \n",
        "- Note - Keep the code as it is, no need to change "
      ],
      "id": "4bb1ad9f"
    },
    {
      "cell_type": "code",
      "execution_count": null,
      "metadata": {
        "colab": {
          "base_uri": "https://localhost:8080/"
        },
        "id": "e882509f",
        "outputId": "adbf07cb-b5fc-418f-ce19-6cd9192918ae"
      },
      "outputs": [
        {
          "output_type": "execute_result",
          "data": {
            "text/plain": [
              "16"
            ]
          },
          "metadata": {},
          "execution_count": 487
        }
      ],
      "source": [
        "from sklearn.feature_selection import VarianceThreshold\n",
        "constant_filter = VarianceThreshold(threshold=0)\n",
        "constant_filter.fit(X_train)\n",
        "len(X_train.columns[constant_filter.get_support()])"
      ],
      "id": "e882509f"
    },
    {
      "cell_type": "markdown",
      "metadata": {
        "id": "V9531H3jR-W2"
      },
      "source": [
        "- Note - Keep the code as it is, no need to change \n"
      ],
      "id": "V9531H3jR-W2"
    },
    {
      "cell_type": "code",
      "execution_count": null,
      "metadata": {
        "id": "c77c12e1",
        "colab": {
          "base_uri": "https://localhost:8080/"
        },
        "outputId": "bf5954bc-1a9e-411a-b4ba-071e2138bc51"
      },
      "outputs": [
        {
          "output_type": "stream",
          "name": "stdout",
          "text": [
            "0\n"
          ]
        }
      ],
      "source": [
        "constant_columns = [column for column in X_train.columns\n",
        "                    if column not in X_train.columns[constant_filter.get_support()]]\n",
        "print(len(constant_columns))"
      ],
      "id": "c77c12e1"
    },
    {
      "cell_type": "markdown",
      "metadata": {
        "id": "6d9b8610"
      },
      "source": [
        "- transpose the feature matrice\n",
        "- print the number of duplicated features\n",
        "- select the duplicated features columns names\n",
        "\n",
        "- Note - Keep the code as it is, no need to change \n"
      ],
      "id": "6d9b8610"
    },
    {
      "cell_type": "code",
      "execution_count": null,
      "metadata": {
        "id": "0fb7db95",
        "colab": {
          "base_uri": "https://localhost:8080/"
        },
        "outputId": "2df1d84c-42cd-4ef1-b60e-ca4ed0ea4de3"
      },
      "outputs": [
        {
          "output_type": "stream",
          "name": "stdout",
          "text": [
            "0\n"
          ]
        }
      ],
      "source": [
        "x_train_T = X_train.T\n",
        "print(x_train_T.duplicated().sum())\n",
        "duplicated_columns = x_train_T[x_train_T.duplicated()].index.values"
      ],
      "id": "0fb7db95"
    },
    {
      "cell_type": "markdown",
      "metadata": {
        "id": "510fa831"
      },
      "source": [
        "### Filtering depending upon correlation matrix value\n",
        "- We have created a function called handling correlation which is going to return fields based on the correlation matrix value with a threshold of 0.8\n",
        "\n",
        "- Note - Keep the code as it is, no need to change "
      ],
      "id": "510fa831"
    },
    {
      "cell_type": "code",
      "execution_count": null,
      "metadata": {
        "id": "67731abc"
      },
      "outputs": [],
      "source": [
        "def handling_correlation(X_train,threshold=0.8):\n",
        "    corr_features = set()\n",
        "    corr_matrix = X_train.corr()\n",
        "    for i in range(len(corr_matrix .columns)):\n",
        "        for j in range(i):\n",
        "            if abs(corr_matrix.iloc[i, j]) >threshold:\n",
        "                colname = corr_matrix.columns[i]\n",
        "                corr_features.add(colname)\n",
        "    return list(corr_features)"
      ],
      "id": "67731abc"
    },
    {
      "cell_type": "markdown",
      "metadata": {
        "id": "JaE_6qVgSXl3"
      },
      "source": [
        "- Note : Here we are trying to find out the relevant fields, from X_train\n",
        "- Please fill in the blanks to call handling_correlation() function with a threshold value of 0.85"
      ],
      "id": "JaE_6qVgSXl3"
    },
    {
      "cell_type": "code",
      "execution_count": null,
      "metadata": {
        "id": "dd91d1a2",
        "colab": {
          "base_uri": "https://localhost:8080/"
        },
        "outputId": "390c86eb-203a-4da4-aa7e-bec9c59a1f02"
      },
      "outputs": [
        {
          "output_type": "execute_result",
          "data": {
            "text/plain": [
              "['year_of_createdate',\n",
              " 'year_of_due',\n",
              " 'month_of_createdate',\n",
              " 'day_of_createdate',\n",
              " 'year_of_postingdate',\n",
              " 'month_of_due']"
            ]
          },
          "metadata": {},
          "execution_count": 491
        }
      ],
      "source": [
        "train=X_train.copy()\n",
        "handling_correlation(train.copy(),0.85)"
      ],
      "id": "dd91d1a2"
    },
    {
      "cell_type": "markdown",
      "metadata": {
        "id": "154da511"
      },
      "source": [
        "### Heatmap for X_train\n",
        "\n",
        "- Note - Keep the code as it is, no need to change"
      ],
      "id": "154da511"
    },
    {
      "cell_type": "code",
      "execution_count": null,
      "metadata": {
        "id": "2e8f2fe4",
        "colab": {
          "base_uri": "https://localhost:8080/",
          "height": 859
        },
        "outputId": "ac6a8942-f89b-4a2c-cb0f-457820d99ea1"
      },
      "outputs": [
        {
          "output_type": "execute_result",
          "data": {
            "text/plain": [
              "<matplotlib.axes._subplots.AxesSubplot at 0x7f82952ba5d0>"
            ]
          },
          "metadata": {},
          "execution_count": 492
        },
        {
          "output_type": "display_data",
          "data": {
            "image/png": "[encoded data removed]",
            "text/plain": [
              "<Figure size 1008x864 with 2 Axes>"
            ]
          },
          "metadata": {
            "needs_background": "light"
          }
        }
      ],
      "source": [
        "colormap = plt.cm.RdBu\n",
        "plt.figure(figsize=(14,12))\n",
        "plt.title('Pearson Correlation of Features', y=1.05, size=20)\n",
        "sns.heatmap(X_train.merge(y_train , on = X_train.index ).corr(),linewidths=0.1,vmax=1.0, \n",
        "            square=True, cmap='gist_rainbow_r', linecolor='white', annot=True)"
      ],
      "id": "2e8f2fe4"
    },
    {
      "cell_type": "markdown",
      "metadata": {
        "id": "e3b0d745"
      },
      "source": [
        "#### Calling variance threshold for threshold value = 0.8\n",
        "\n",
        "- Note -  Fill in the blanks to call the appropriate method"
      ],
      "id": "e3b0d745"
    },
    {
      "cell_type": "code",
      "execution_count": null,
      "metadata": {
        "id": "a9b2080f",
        "colab": {
          "base_uri": "https://localhost:8080/"
        },
        "outputId": "d4f699dc-1992-4cce-cec9-6eaa2fcfe69f"
      },
      "outputs": [
        {
          "output_type": "execute_result",
          "data": {
            "text/plain": [
              "VarianceThreshold(threshold=0.8)"
            ]
          },
          "metadata": {},
          "execution_count": 493
        }
      ],
      "source": [
        "from sklearn.feature_selection import VarianceThreshold\n",
        "sel = VarianceThreshold(threshold=0.8)\n",
        "sel.fit(X_train)"
      ],
      "id": "a9b2080f"
    },
    {
      "cell_type": "code",
      "execution_count": null,
      "metadata": {
        "id": "6cb8c3dc",
        "colab": {
          "base_uri": "https://localhost:8080/"
        },
        "outputId": "976dba5e-efa7-4e9d-8568-34109644361f"
      },
      "outputs": [
        {
          "output_type": "execute_result",
          "data": {
            "text/plain": [
              "array([1.76760740e+15, 1.15257821e-01, 8.87829964e+16, 1.32133746e+09,\n",
              "       2.85865633e-01, 1.06509944e+06, 1.25369007e+02, 7.61543114e+01,\n",
              "       1.22216654e+01, 1.15320607e-01, 7.77675343e+01, 1.22313212e+01,\n",
              "       1.15395153e-01, 7.57465527e+01, 1.20389376e+01, 1.18055483e-01])"
            ]
          },
          "metadata": {},
          "execution_count": 494
        }
      ],
      "source": [
        "sel.variances_"
      ],
      "id": "6cb8c3dc"
    },
    {
      "cell_type": "markdown",
      "metadata": {
        "id": "62633a84"
      },
      "source": [
        "### Features columns are \n",
        "- 'year_of_createdate' \n",
        "- 'year_of_due'\n",
        "- 'day_of_createdate'\n",
        "- 'year_of_postingdate'\n",
        "- 'month_of_due'\n",
        "- 'month_of_createdate'"
      ],
      "id": "62633a84"
    },
    {
      "cell_type": "markdown",
      "metadata": {
        "id": "651f1ad0"
      },
      "source": [
        "# Modelling \n",
        "\n",
        "#### Now you need to compare with different machine learning models, and needs to find out the best predicted model\n",
        "\n",
        "- Linear Regression\n",
        "- Decision Tree Regression\n",
        "- Random Forest Regression\n",
        "- Support Vector Regression\n",
        "- Extreme Gradient Boost Regression "
      ],
      "id": "651f1ad0"
    },
    {
      "cell_type": "markdown",
      "metadata": {
        "id": "PicEhSuUUOkt"
      },
      "source": [
        "### You need to make different blank list for different evaluation matrix \n",
        "\n",
        "- MSE\n",
        "- R2\n",
        "- Algorithm"
      ],
      "id": "PicEhSuUUOkt"
    },
    {
      "cell_type": "code",
      "execution_count": null,
      "metadata": {
        "id": "701e12b0"
      },
      "outputs": [],
      "source": [
        "MSE_Score = []\n",
        "R2_Score = []\n",
        "Algorithm = []\n",
        "from sklearn.metrics import mean_squared_error\n",
        "from sklearn.metrics import r2_score"
      ],
      "id": "701e12b0"
    },
    {
      "cell_type": "markdown",
      "metadata": {
        "id": "29310119"
      },
      "source": [
        "### You need to start with the baseline model Linear Regression\n",
        "\n",
        "- Step 1 : Call the Linear Regression from sklearn library\n",
        "- Step 2 : make an object of Linear Regression \n",
        "- Step 3 : fit the X_train and y_train dataframe into the object \n",
        "- Step 4 : Predict the output by passing the X_test Dataset into predict function\n",
        "\n",
        "\n",
        "\n",
        "\n",
        "- Note - Append the Algorithm name into the algorithm list for tracking purpose"
      ],
      "id": "29310119"
    },
    {
      "cell_type": "code",
      "execution_count": null,
      "metadata": {
        "id": "6bdea395"
      },
      "outputs": [],
      "source": [
        "from sklearn.linear_model import LinearRegression\n",
        "Algorithm.append('LinearRegression')\n",
        "regressor = LinearRegression()\n",
        "regressor.fit(X_train, y_train)\n",
        "predicted= regressor.predict(X_test)"
      ],
      "id": "6bdea395"
    },
    {
      "cell_type": "markdown",
      "metadata": {
        "id": "G02cpnBhXJ14"
      },
      "source": [
        "### Check for the \n",
        "\n",
        "- Mean Square Error\n",
        "- R Square Error \n",
        "\n",
        "for y_test and predicted dataset and store those data inside respective list for comparison "
      ],
      "id": "G02cpnBhXJ14"
    },
    {
      "cell_type": "code",
      "execution_count": null,
      "metadata": {
        "id": "0f69ca19"
      },
      "outputs": [],
      "source": [
        "MSE_Score.append(mean_squared_error(y_test, predicted))\n",
        "R2_Score.append(r2_score(y_test, predicted))"
      ],
      "id": "0f69ca19"
    },
    {
      "cell_type": "markdown",
      "metadata": {
        "id": "CsmScbHjYMv1"
      },
      "source": [
        "### Check the same for the Validation set also "
      ],
      "id": "CsmScbHjYMv1"
    },
    {
      "cell_type": "code",
      "execution_count": null,
      "metadata": {
        "id": "fe653295",
        "colab": {
          "base_uri": "https://localhost:8080/"
        },
        "outputId": "2bb47efd-9b09-42cb-c75a-c34a6efc8b3b"
      },
      "outputs": [
        {
          "output_type": "execute_result",
          "data": {
            "text/plain": [
              "564812.1511768089"
            ]
          },
          "metadata": {},
          "execution_count": 500
        }
      ],
      "source": [
        "predict_test= regressor.predict(X_val)\n",
        "mean_squared_error(y_val, predict_test, squared=False)"
      ],
      "id": "fe653295"
    },
    {
      "cell_type": "markdown",
      "metadata": {
        "id": "LokxV2LGYUVh"
      },
      "source": [
        "### Display The Comparison Lists"
      ],
      "id": "LokxV2LGYUVh"
    },
    {
      "cell_type": "code",
      "execution_count": null,
      "metadata": {
        "id": "9c405bd3",
        "colab": {
          "base_uri": "https://localhost:8080/"
        },
        "outputId": "d520c616-f3e4-4524-9b9e-f6c8c16a91b0"
      },
      "outputs": [
        {
          "output_type": "stream",
          "name": "stdout",
          "text": [
            "['LinearRegression'],[304104404020.40845],[0.3240764742655149],"
          ]
        }
      ],
      "source": [
        "for i in Algorithm, MSE_Score, R2_Score:\n",
        "    print(i,end=',')"
      ],
      "id": "9c405bd3"
    },
    {
      "cell_type": "markdown",
      "metadata": {
        "id": "b0e65c86"
      },
      "source": [
        "### You need to start with the baseline model Support Vector Regression\n",
        "\n",
        "- Step 1 : Call the Support Vector Regressor from sklearn library\n",
        "- Step 2 : make an object of SVR\n",
        "- Step 3 : fit the X_train and y_train dataframe into the object \n",
        "- Step 4 : Predict the output by passing the X_test Dataset into predict function\n",
        "\n",
        "\n",
        "\n",
        "\n",
        "- Note - Append the Algorithm name into the algorithm list for tracking purpose"
      ],
      "id": "b0e65c86"
    },
    {
      "cell_type": "code",
      "execution_count": null,
      "metadata": {
        "id": "ccb5de08"
      },
      "outputs": [],
      "source": [
        "from sklearn.svm import SVR\n",
        "Algorithm.append(\"Support Vector Regression\")\n",
        "svr_regressor = SVR()\n",
        "svr_regressor.fit(X_train, y_train)\n",
        "svr_predicted = svr_regressor.predict(X_test)"
      ],
      "id": "ccb5de08"
    },
    {
      "cell_type": "markdown",
      "metadata": {
        "id": "zz9kcrViYt7e"
      },
      "source": [
        "### Check for the \n",
        "\n",
        "- Mean Square Error\n",
        "- R Square Error \n",
        "\n",
        "for \"y_test\" and \"predicted\" dataset and store those data inside respective list for comparison "
      ],
      "id": "zz9kcrViYt7e"
    },
    {
      "cell_type": "code",
      "execution_count": null,
      "metadata": {
        "id": "5bb9db76"
      },
      "outputs": [],
      "source": [
        "MSE_Score.append(mean_squared_error(y_test,svr_predicted))\n",
        "R2_Score.append(r2_score(y_test, svr_predicted))"
      ],
      "id": "5bb9db76"
    },
    {
      "cell_type": "markdown",
      "metadata": {
        "id": "0YAxd8N9Y0hJ"
      },
      "source": [
        "### Check the same for the Validation set also "
      ],
      "id": "0YAxd8N9Y0hJ"
    },
    {
      "cell_type": "code",
      "execution_count": null,
      "metadata": {
        "id": "d6ee71b1",
        "colab": {
          "base_uri": "https://localhost:8080/"
        },
        "outputId": "01022f35-2fff-4461-bcf3-dec3110456fa"
      },
      "outputs": [
        {
          "output_type": "execute_result",
          "data": {
            "text/plain": [
              "688435.6944860762"
            ]
          },
          "metadata": {},
          "execution_count": 504
        }
      ],
      "source": [
        "svr_predict_test = svr_regressor.predict(X_val)\n",
        "mean_squared_error(y_val, svr_predict_test, squared = False)"
      ],
      "id": "d6ee71b1"
    },
    {
      "cell_type": "markdown",
      "metadata": {
        "id": "eGcqS5EcY4BI"
      },
      "source": [
        "### Display The Comparison Lists"
      ],
      "id": "eGcqS5EcY4BI"
    },
    {
      "cell_type": "code",
      "execution_count": null,
      "metadata": {
        "id": "aa72c1ec",
        "colab": {
          "base_uri": "https://localhost:8080/"
        },
        "outputId": "dcd5ddc6-871c-4c8d-b55c-f2c5faf1c9a4"
      },
      "outputs": [
        {
          "output_type": "stream",
          "name": "stdout",
          "text": [
            "['LinearRegression', 'Support Vector Regression'],[304104404020.40845, 452282503231.72296],[0.3240764742655149, -0.00527443920834747],"
          ]
        }
      ],
      "source": [
        "for i in Algorithm, MSE_Score, R2_Score:\n",
        "  print(i, end = \",\")"
      ],
      "id": "aa72c1ec"
    },
    {
      "cell_type": "markdown",
      "metadata": {
        "id": "dad18bb3"
      },
      "source": [
        "### Your next model would be Decision Tree Regression\n",
        "\n",
        "- Step 1 : Call the Decision Tree Regressor from sklearn library\n",
        "- Step 2 : make an object of Decision Tree\n",
        "- Step 3 : fit the X_train and y_train dataframe into the object \n",
        "- Step 4 : Predict the output by passing the X_test Dataset into predict function\n",
        "\n",
        "\n",
        "\n",
        "\n",
        "- Note - Append the Algorithm name into the algorithm list for tracking purpose"
      ],
      "id": "dad18bb3"
    },
    {
      "cell_type": "code",
      "execution_count": null,
      "metadata": {
        "id": "1b6a51eb"
      },
      "outputs": [],
      "source": [
        "from sklearn.tree import DecisionTreeRegressor\n",
        "Algorithm.append(\"Decision Tree Regression\")\n",
        "DT_regressor = DecisionTreeRegressor()\n",
        "DT_regressor.fit(X_train, y_train)\n",
        "DT_predicted = DT_regressor.predict(X_test)"
      ],
      "id": "1b6a51eb"
    },
    {
      "cell_type": "markdown",
      "metadata": {
        "id": "AOzfgfeOZo3F"
      },
      "source": [
        "### Check for the \n",
        "\n",
        "- Mean Square Error\n",
        "- R Square Error \n",
        "\n",
        "for y_test and predicted dataset and store those data inside respective list for comparison "
      ],
      "id": "AOzfgfeOZo3F"
    },
    {
      "cell_type": "code",
      "execution_count": null,
      "metadata": {
        "id": "776e6983"
      },
      "outputs": [],
      "source": [
        "MSE_Score.append(mean_squared_error(y_test, DT_predicted))\n",
        "R2_Score.append(r2_score(y_test, DT_predicted))"
      ],
      "id": "776e6983"
    },
    {
      "cell_type": "markdown",
      "metadata": {
        "id": "eI6d49DQZrhW"
      },
      "source": [
        "### Check the same for the Validation set also "
      ],
      "id": "eI6d49DQZrhW"
    },
    {
      "cell_type": "code",
      "execution_count": null,
      "metadata": {
        "id": "155fb55c",
        "colab": {
          "base_uri": "https://localhost:8080/"
        },
        "outputId": "9a8f3c8d-d74e-4099-ef09-e4e6246954b7"
      },
      "outputs": [
        {
          "output_type": "execute_result",
          "data": {
            "text/plain": [
              "519150.3340268554"
            ]
          },
          "metadata": {},
          "execution_count": 508
        }
      ],
      "source": [
        "DT_predict_test = DT_regressor.predict(X_val)\n",
        "mean_squared_error(y_val, DT_predict_test, squared=False)"
      ],
      "id": "155fb55c"
    },
    {
      "cell_type": "markdown",
      "metadata": {
        "id": "sbGXvBLQZw5E"
      },
      "source": [
        "### Display The Comparison Lists"
      ],
      "id": "sbGXvBLQZw5E"
    },
    {
      "cell_type": "code",
      "execution_count": null,
      "metadata": {
        "id": "1d74d515",
        "colab": {
          "base_uri": "https://localhost:8080/"
        },
        "outputId": "97093b0e-3924-4e3a-fb3e-9d78d01d4cc9"
      },
      "outputs": [
        {
          "output_type": "stream",
          "name": "stdout",
          "text": [
            "['LinearRegression', 'Support Vector Regression', 'Decision Tree Regression'],[304104404020.40845, 452282503231.72296, 288876586638.29553],[0.3240764742655149, -0.00527443920834747, 0.35792287661313726],"
          ]
        }
      ],
      "source": [
        "for i in Algorithm, MSE_Score, R2_Score:\n",
        "  print(i, end = \",\")"
      ],
      "id": "1d74d515"
    },
    {
      "cell_type": "markdown",
      "metadata": {
        "id": "4ae9979b"
      },
      "source": [
        "### Your next model would be Random Forest Regression\n",
        "\n",
        "- Step 1 : Call the Random Forest Regressor from sklearn library\n",
        "- Step 2 : make an object of Random Forest\n",
        "- Step 3 : fit the X_train and y_train dataframe into the object \n",
        "- Step 4 : Predict the output by passing the X_test Dataset into predict function\n",
        "\n",
        "\n",
        "\n",
        "\n",
        "- Note - Append the Algorithm name into the algorithm list for tracking purpose"
      ],
      "id": "4ae9979b"
    },
    {
      "cell_type": "code",
      "execution_count": null,
      "metadata": {
        "id": "a69e476a"
      },
      "outputs": [],
      "source": [
        "from sklearn.ensemble import RandomForestRegressor\n",
        "Algorithm.append(\"Random Forest Regression\")\n",
        "rf_regressor = RandomForestRegressor()\n",
        "rf_regressor.fit(X_train, y_train)\n",
        "rf_predicted = rf_regressor.predict(X_test)                 "
      ],
      "id": "a69e476a"
    },
    {
      "cell_type": "markdown",
      "metadata": {
        "id": "XNcEJF-6anof"
      },
      "source": [
        "### Check for the \n",
        "\n",
        "- Mean Square Error\n",
        "- R Square Error \n",
        "\n",
        "for y_test and predicted dataset and store those data inside respective list for comparison "
      ],
      "id": "XNcEJF-6anof"
    },
    {
      "cell_type": "code",
      "execution_count": null,
      "metadata": {
        "id": "826f63f4"
      },
      "outputs": [],
      "source": [
        "MSE_Score.append(mean_squared_error(y_test, rf_predicted))\n",
        "R2_Score.append(r2_score(y_test, rf_predicted))"
      ],
      "id": "826f63f4"
    },
    {
      "cell_type": "markdown",
      "metadata": {
        "id": "yMbyr9V4ati1"
      },
      "source": [
        "### Check the same for the Validation set also "
      ],
      "id": "yMbyr9V4ati1"
    },
    {
      "cell_type": "code",
      "execution_count": null,
      "metadata": {
        "id": "55b9fb54",
        "colab": {
          "base_uri": "https://localhost:8080/"
        },
        "outputId": "8d77c000-6e60-4c8f-95aa-8d968a9d6793"
      },
      "outputs": [
        {
          "data": {
            "text/plain": [
              "375012.284649163"
            ]
          },
          "execution_count": null,
          "metadata": {},
          "output_type": "execute_result"
        }
      ],
      "source": [
        "rf_predict_test = rf_regressor.predict(X_val)\n",
        "mean_squared_error(y_val, rf_predict_test, squared = False)"
      ],
      "id": "55b9fb54"
    },
    {
      "cell_type": "markdown",
      "metadata": {
        "id": "tiBawcCsaw_Z"
      },
      "source": [
        "### Display The Comparison Lists\n"
      ],
      "id": "tiBawcCsaw_Z"
    },
    {
      "cell_type": "code",
      "execution_count": null,
      "metadata": {
        "id": "8277c13e",
        "colab": {
          "base_uri": "https://localhost:8080/"
        },
        "outputId": "47abd1fb-d4a5-42db-b7d9-1031fce7dfa5"
      },
      "outputs": [
        {
          "metadata": {
            "tags": null
          },
          "name": "stdout",
          "output_type": "stream",
          "text": [
            "['LinearRegression', 'Support Vector Regression', 'Decision Tree Regression', 'Random Forest Regression'],[304104404020.40845, 452282503231.72296, 288876586638.29553, 156345704719.35956],[0.3240764742655149, -0.00527443920834747, 0.35792287661313726, 0.6524952004303752],"
          ]
        }
      ],
      "source": [
        "for i in Algorithm, MSE_Score, R2_Score:\n",
        "  print(i, end = \",\")"
      ],
      "id": "8277c13e"
    },
    {
      "cell_type": "markdown",
      "metadata": {
        "id": "e6b21881"
      },
      "source": [
        "### The last but not the least model would be XGBoost or Extreme Gradient Boost Regression\n",
        "\n",
        "- Step 1 : Call the XGBoost Regressor from xgb library\n",
        "- Step 2 : make an object of Xgboost\n",
        "- Step 3 : fit the X_train and y_train dataframe into the object \n",
        "- Step 4 : Predict the output by passing the X_test Dataset into predict function\n",
        "\n",
        "\n",
        "\n",
        "\n",
        "- Note - Append the Algorithm name into the algorithm list for tracking purpose### Extreme Gradient Boost Regression\n",
        "- Note -  No need to change the code "
      ],
      "id": "e6b21881"
    },
    {
      "cell_type": "code",
      "source": [
        "X_test = X_test[X_train.columns]"
      ],
      "metadata": {
        "id": "Kpavdk3sdQnc"
      },
      "id": "Kpavdk3sdQnc",
      "execution_count": null,
      "outputs": []
    },
    {
      "cell_type": "code",
      "execution_count": null,
      "metadata": {
        "id": "705a38ec"
      },
      "outputs": [],
      "source": [
        "import xgboost as xgb\n",
        "Algorithm.append('XGB Regressor')\n",
        "xgb_regressor = xgb.XGBRegressor(objective ='reg:squarederror')\n",
        "xgb_regressor.fit(X_train, y_train)\n",
        "xgb_predicted = xgb_regressor.predict(X_test)"
      ],
      "id": "705a38ec"
    },
    {
      "cell_type": "markdown",
      "metadata": {
        "id": "ierNZkb9bQDD"
      },
      "source": [
        "### Check for the \n",
        "\n",
        "- Mean Square Error\n",
        "- R Square Error \n",
        "\n",
        "for y_test and predicted dataset and store those data inside respective list for comparison "
      ],
      "id": "ierNZkb9bQDD"
    },
    {
      "cell_type": "code",
      "execution_count": null,
      "metadata": {
        "id": "507a9d2f"
      },
      "outputs": [],
      "source": [
        "MSE_Score.append(mean_squared_error(y_test, xgb_predicted))\n",
        "R2_Score.append(r2_score(y_test, xgb_predicted))"
      ],
      "id": "507a9d2f"
    },
    {
      "cell_type": "markdown",
      "metadata": {
        "id": "84UZ2ojsbWaH"
      },
      "source": [
        "### Check the same for the Validation set also "
      ],
      "id": "84UZ2ojsbWaH"
    },
    {
      "cell_type": "code",
      "execution_count": null,
      "metadata": {
        "id": "e78ac250",
        "colab": {
          "base_uri": "https://localhost:8080/"
        },
        "outputId": "8a658814-82b4-4cf8-9092-8a1b4d8e2d6a"
      },
      "outputs": [
        {
          "data": {
            "text/plain": [
              "389048.5946692736"
            ]
          },
          "execution_count": null,
          "metadata": {},
          "output_type": "execute_result"
        }
      ],
      "source": [
        "xgb_predict_test = xgb_regressor.predict(X_val)\n",
        "mean_squared_error(y_val, xgb_predict_test, squared=False)"
      ],
      "id": "e78ac250"
    },
    {
      "cell_type": "markdown",
      "metadata": {
        "id": "9FJFyaVbbbAH"
      },
      "source": [
        "### Display The Comparison Lists\n"
      ],
      "id": "9FJFyaVbbbAH"
    },
    {
      "cell_type": "code",
      "execution_count": null,
      "metadata": {
        "id": "f765ba35",
        "colab": {
          "base_uri": "https://localhost:8080/"
        },
        "outputId": "503551ef-5426-4eb1-e205-ac6b6502e50c"
      },
      "outputs": [
        {
          "metadata": {
            "tags": null
          },
          "name": "stdout",
          "output_type": "stream",
          "text": [
            "['LinearRegression', 'Support Vector Regression', 'Decision Tree Regression', 'Random Forest Regression', 'XGB Regressor'],[304104404020.40845, 452282503231.72296, 288876586638.29553, 156345704719.35956, 159139433435.405],[0.3240764742655149, -0.00527443920834747, 0.35792287661313726, 0.6524952004303752, 0.6462856653538349],"
          ]
        }
      ],
      "source": [
        "for i in Algorithm, MSE_Score, R2_Score:\n",
        "  print(i, end = \",\")"
      ],
      "id": "f765ba35"
    },
    {
      "cell_type": "markdown",
      "metadata": {
        "id": "a71bc90f"
      },
      "source": [
        "## You need to make the comparison list into a comparison dataframe "
      ],
      "id": "a71bc90f"
    },
    {
      "cell_type": "code",
      "execution_count": null,
      "metadata": {
        "id": "ff5159a7",
        "colab": {
          "base_uri": "https://localhost:8080/",
          "height": 206
        },
        "outputId": "eb74c20b-7a29-45e3-d3f9-c07f6fec97f1"
      },
      "outputs": [
        {
          "data": {
            "text/html": [
              "\n",
              "  <div id=\"df-9012880f-3a23-49f4-9897-5a47345f9dac\">\n",
              "    <div class=\"colab-df-container\">\n",
              "      <div>\n",
              "<style scoped>\n",
              "    .dataframe tbody tr th:only-of-type {\n",
              "        vertical-align: middle;\n",
              "    }\n",
              "\n",
              "    .dataframe tbody tr th {\n",
              "        vertical-align: top;\n",
              "    }\n",
              "\n",
              "    .dataframe thead th {\n",
              "        text-align: right;\n",
              "    }\n",
              "</style>\n",
              "<table border=\"1\" class=\"dataframe\">\n",
              "  <thead>\n",
              "    <tr style=\"text-align: right;\">\n",
              "      <th></th>\n",
              "      <th>Algorithm</th>\n",
              "      <th>MSE Score</th>\n",
              "      <th>R2 Score</th>\n",
              "    </tr>\n",
              "  </thead>\n",
              "  <tbody>\n",
              "    <tr>\n",
              "      <th>0</th>\n",
              "      <td>LinearRegression</td>\n",
              "      <td>3.041044e+11</td>\n",
              "      <td>0.324076</td>\n",
              "    </tr>\n",
              "    <tr>\n",
              "      <th>1</th>\n",
              "      <td>Support Vector Regression</td>\n",
              "      <td>4.522825e+11</td>\n",
              "      <td>-0.005274</td>\n",
              "    </tr>\n",
              "    <tr>\n",
              "      <th>2</th>\n",
              "      <td>Decision Tree Regression</td>\n",
              "      <td>2.888766e+11</td>\n",
              "      <td>0.357923</td>\n",
              "    </tr>\n",
              "    <tr>\n",
              "      <th>3</th>\n",
              "      <td>Random Forest Regression</td>\n",
              "      <td>1.563457e+11</td>\n",
              "      <td>0.652495</td>\n",
              "    </tr>\n",
              "    <tr>\n",
              "      <th>4</th>\n",
              "      <td>XGB Regressor</td>\n",
              "      <td>1.591394e+11</td>\n",
              "      <td>0.646286</td>\n",
              "    </tr>\n",
              "  </tbody>\n",
              "</table>\n",
              "</div>\n",
              "      <button class=\"colab-df-convert\" onclick=\"convertToInteractive('df-9012880f-3a23-49f4-9897-5a47345f9dac')\"\n",
              "              title=\"Convert this dataframe to an interactive table.\"\n",
              "              style=\"display:none;\">\n",
              "        \n",
              "  <svg xmlns=\"http://www.w3.org/2000/svg\" height=\"24px\"viewBox=\"0 0 24 24\"\n",
              "       width=\"24px\">\n",
              "    <path d=\"M0 0h24v24H0V0z\" fill=\"none\"/>\n",
              "    <path d=\"M18.56 5.44l.94 2.06.94-2.06 2.06-.94-2.06-.94-.94-2.06-.94 2.06-2.06.94zm-11 1L8.5 8.5l.94-2.06 2.06-.94-2.06-.94L8.5 2.5l-.94 2.06-2.06.94zm10 10l.94 2.06.94-2.06 2.06-.94-2.06-.94-.94-2.06-.94 2.06-2.06.94z\"/><path d=\"M17.41 7.96l-1.37-1.37c-.4-.4-.92-.59-1.43-.59-.52 0-1.04.2-1.43.59L10.3 9.45l-7.72 7.72c-.78.78-.78 2.05 0 2.83L4 21.41c.39.39.9.59 1.41.59.51 0 1.02-.2 1.41-.59l7.78-7.78 2.81-2.81c.8-.78.8-2.07 0-2.86zM5.41 20L4 18.59l7.72-7.72 1.47 1.35L5.41 20z\"/>\n",
              "  </svg>\n",
              "      </button>\n",
              "      \n",
              "  <style>\n",
              "    .colab-df-container {\n",
              "      display:flex;\n",
              "      flex-wrap:wrap;\n",
              "      gap: 12px;\n",
              "    }\n",
              "\n",
              "    .colab-df-convert {\n",
              "      background-color: #E8F0FE;\n",
              "      border: none;\n",
              "      border-radius: 50%;\n",
              "      cursor: pointer;\n",
              "      display: none;\n",
              "      fill: #1967D2;\n",
              "      height: 32px;\n",
              "      padding: 0 0 0 0;\n",
              "      width: 32px;\n",
              "    }\n",
              "\n",
              "    .colab-df-convert:hover {\n",
              "      background-color: #E2EBFA;\n",
              "      box-shadow: 0px 1px 2px rgba(60, 64, 67, 0.3), 0px 1px 3px 1px rgba(60, 64, 67, 0.15);\n",
              "      fill: #174EA6;\n",
              "    }\n",
              "\n",
              "    [theme=dark] .colab-df-convert {\n",
              "      background-color: #3B4455;\n",
              "      fill: #D2E3FC;\n",
              "    }\n",
              "\n",
              "    [theme=dark] .colab-df-convert:hover {\n",
              "      background-color: #434B5C;\n",
              "      box-shadow: 0px 1px 3px 1px rgba(0, 0, 0, 0.15);\n",
              "      filter: drop-shadow(0px 1px 2px rgba(0, 0, 0, 0.3));\n",
              "      fill: #FFFFFF;\n",
              "    }\n",
              "  </style>\n",
              "\n",
              "      <script>\n",
              "        const buttonEl =\n",
              "          document.querySelector('#df-9012880f-3a23-49f4-9897-5a47345f9dac button.colab-df-convert');\n",
              "        buttonEl.style.display =\n",
              "          google.colab.kernel.accessAllowed ? 'block' : 'none';\n",
              "\n",
              "        async function convertToInteractive(key) {\n",
              "          const element = document.querySelector('#df-9012880f-3a23-49f4-9897-5a47345f9dac');\n",
              "          const dataTable =\n",
              "            await google.colab.kernel.invokeFunction('convertToInteractive',\n",
              "                                                     [key], {});\n",
              "          if (!dataTable) return;\n",
              "\n",
              "          const docLinkHtml = 'Like what you see? Visit the ' +\n",
              "            '<a target=\"_blank\" href=https://colab.research.google.com/notebooks/data_table.ipynb>data table notebook</a>'\n",
              "            + ' to learn more about interactive tables.';\n",
              "          element.innerHTML = '';\n",
              "          dataTable['output_type'] = 'display_data';\n",
              "          await google.colab.output.renderOutput(dataTable, element);\n",
              "          const docLink = document.createElement('div');\n",
              "          docLink.innerHTML = docLinkHtml;\n",
              "          element.appendChild(docLink);\n",
              "        }\n",
              "      </script>\n",
              "    </div>\n",
              "  </div>\n",
              "  "
            ],
            "text/plain": [
              "                   Algorithm     MSE Score  R2 Score\n",
              "0           LinearRegression  3.041044e+11  0.324076\n",
              "1  Support Vector Regression  4.522825e+11 -0.005274\n",
              "2   Decision Tree Regression  2.888766e+11  0.357923\n",
              "3   Random Forest Regression  1.563457e+11  0.652495\n",
              "4              XGB Regressor  1.591394e+11  0.646286"
            ]
          },
          "execution_count": null,
          "metadata": {},
          "output_type": "execute_result"
        }
      ],
      "source": [
        "comparison_dataframe = pd.DataFrame({\n",
        "    \"Algorithm\" : Algorithm,\n",
        "    \"MSE Score\" : MSE_Score,\n",
        "    \"R2 Score\" : R2_Score\n",
        "})\n",
        "comparison_dataframe"
      ],
      "id": "ff5159a7"
    },
    {
      "cell_type": "markdown",
      "metadata": {
        "id": "62e61c60"
      },
      "source": [
        "## Now from the Comparison table, you need to choose the best fit model\n",
        "\n",
        "- Step 1 - Fit X_train and y_train inside the model \n",
        "- Step 2 - Predict the X_test dataset\n",
        "- Step 3 - Predict the X_val dataset\n",
        "\n",
        "\n",
        "- Note - No need to change the code"
      ],
      "id": "62e61c60"
    },
    {
      "cell_type": "code",
      "execution_count": null,
      "metadata": {
        "id": "3e07c258",
        "colab": {
          "base_uri": "https://localhost:8080/"
        },
        "outputId": "7222712f-12f8-44a2-9f78-e5aac7c108f3"
      },
      "outputs": [
        {
          "metadata": {
            "tags": null
          },
          "name": "stdout",
          "output_type": "stream",
          "text": [
            "[09:01:57] WARNING: /workspace/src/objective/regression_obj.cu:152: reg:linear is now deprecated in favor of reg:squarederror.\n"
          ]
        }
      ],
      "source": [
        "regressorfinal = xgb.XGBRegressor()\n",
        "regressorfinal.fit(X_train, y_train)\n",
        "predictedfinal = regressorfinal.predict(X_test)\n",
        "predict_testfinal = regressorfinal.predict(X_val)"
      ],
      "id": "3e07c258"
    },
    {
      "cell_type": "markdown",
      "metadata": {
        "id": "8e4df6c4"
      },
      "source": [
        "### Calculate the Mean Square Error for test dataset\n",
        "\n",
        "- Note - No need to change the code"
      ],
      "id": "8e4df6c4"
    },
    {
      "cell_type": "code",
      "execution_count": null,
      "metadata": {
        "id": "5fb466d0",
        "colab": {
          "base_uri": "https://localhost:8080/"
        },
        "outputId": "74868061-3d55-43fc-f0ad-ef1b69131ddc"
      },
      "outputs": [
        {
          "data": {
            "text/plain": [
              "398922.84145609534"
            ]
          },
          "execution_count": null,
          "metadata": {},
          "output_type": "execute_result"
        }
      ],
      "source": [
        "mean_squared_error(y_test,predictedfinal,squared=False)"
      ],
      "id": "5fb466d0"
    },
    {
      "cell_type": "markdown",
      "metadata": {
        "id": "ce27f87f"
      },
      "source": [
        "### Calculate the mean Square Error for validation dataset"
      ],
      "id": "ce27f87f"
    },
    {
      "cell_type": "code",
      "execution_count": null,
      "metadata": {
        "id": "b47978ea",
        "colab": {
          "base_uri": "https://localhost:8080/"
        },
        "outputId": "e47a00cf-a26c-44a6-c8cc-a82fa148153f"
      },
      "outputs": [
        {
          "data": {
            "text/plain": [
              "389048.5946692736"
            ]
          },
          "execution_count": null,
          "metadata": {},
          "output_type": "execute_result"
        }
      ],
      "source": [
        "mean_squared_error(y_val, predict_testfinal, squared = False)"
      ],
      "id": "b47978ea"
    },
    {
      "cell_type": "markdown",
      "source": [
        ""
      ],
      "metadata": {
        "id": "jJWVmqSjL5K8"
      },
      "id": "jJWVmqSjL5K8"
    },
    {
      "cell_type": "markdown",
      "metadata": {
        "id": "30014dbd"
      },
      "source": [
        "### Calculate the R2 score for test"
      ],
      "id": "30014dbd"
    },
    {
      "cell_type": "code",
      "execution_count": null,
      "metadata": {
        "id": "8a162737",
        "colab": {
          "base_uri": "https://localhost:8080/"
        },
        "outputId": "1ea4344a-8d31-4a7a-d509-dbfe72a86c68"
      },
      "outputs": [
        {
          "data": {
            "text/plain": [
              "0.6462856653538349"
            ]
          },
          "execution_count": null,
          "metadata": {},
          "output_type": "execute_result"
        }
      ],
      "source": [
        "r2_score(y_test, predictedfinal)"
      ],
      "id": "8a162737"
    },
    {
      "cell_type": "markdown",
      "metadata": {
        "id": "1c9853b0"
      },
      "source": [
        "### Calculate the R2 score for Validation"
      ],
      "id": "1c9853b0"
    },
    {
      "cell_type": "code",
      "execution_count": null,
      "metadata": {
        "id": "1a6dc77c",
        "colab": {
          "base_uri": "https://localhost:8080/"
        },
        "outputId": "c8ed31f3-19e7-4061-a46e-db05cf97249c"
      },
      "outputs": [
        {
          "data": {
            "text/plain": [
              "0.6789092911595933"
            ]
          },
          "execution_count": null,
          "metadata": {},
          "output_type": "execute_result"
        }
      ],
      "source": [
        "r2_score(y_val, predict_testfinal)"
      ],
      "id": "1a6dc77c"
    },
    {
      "cell_type": "markdown",
      "metadata": {
        "id": "499522d9"
      },
      "source": [
        "### Calculate the Accuracy for train Dataset "
      ],
      "id": "499522d9"
    },
    {
      "cell_type": "code",
      "execution_count": null,
      "metadata": {
        "id": "7a4f1ce8",
        "colab": {
          "base_uri": "https://localhost:8080/"
        },
        "outputId": "8f34bc23-0d5e-4598-fb66-2f06eff140f9"
      },
      "outputs": [
        {
          "data": {
            "text/plain": [
              "0.7648308000349626"
            ]
          },
          "execution_count": null,
          "metadata": {},
          "output_type": "execute_result"
        }
      ],
      "source": [
        "regressorfinal.score(X_train, y_train)"
      ],
      "id": "7a4f1ce8"
    },
    {
      "cell_type": "markdown",
      "metadata": {
        "id": "12a1c921"
      },
      "source": [
        "### Calculate the accuracy for validation"
      ],
      "id": "12a1c921"
    },
    {
      "cell_type": "code",
      "execution_count": null,
      "metadata": {
        "id": "d2579b4f",
        "colab": {
          "base_uri": "https://localhost:8080/"
        },
        "outputId": "13fe03f7-b0af-4495-8311-0e5e3138240e"
      },
      "outputs": [
        {
          "data": {
            "text/plain": [
              "0.6789092911595933"
            ]
          },
          "execution_count": null,
          "metadata": {},
          "output_type": "execute_result"
        }
      ],
      "source": [
        "regressorfinal.score(X_val, y_val)"
      ],
      "id": "d2579b4f"
    },
    {
      "cell_type": "markdown",
      "metadata": {
        "id": "79b82e84"
      },
      "source": [
        "### Calculate the accuracy for test"
      ],
      "id": "79b82e84"
    },
    {
      "cell_type": "code",
      "execution_count": null,
      "metadata": {
        "id": "f09e6431",
        "colab": {
          "base_uri": "https://localhost:8080/"
        },
        "outputId": "4c53fad9-2a04-4c37-ae43-69969617d3d3"
      },
      "outputs": [
        {
          "data": {
            "text/plain": [
              "0.6462856653538349"
            ]
          },
          "execution_count": null,
          "metadata": {},
          "output_type": "execute_result"
        }
      ],
      "source": [
        "regressorfinal.score(X_test, y_test)"
      ],
      "id": "f09e6431"
    },
    {
      "cell_type": "markdown",
      "metadata": {
        "id": "9488a5d9"
      },
      "source": [
        "## Specify the reason behind choosing your machine learning model \n",
        "\n",
        "- Note : Provide your answer as a text here"
      ],
      "id": "9488a5d9"
    },
    {
      "cell_type": "markdown",
      "source": [
        "###This project is tested over lot of ML models like 'LinearRegression', 'Support Vector Regression', 'Decision Tree Regression', 'Random Forest Regression', 'XGB Regressor'. Out of these models Random Forest Regression and XGB Regressor performed well butRandom Forest Regression takes a lot time for training and xgboost take less time comparing to Random Forest so,keeping computation in mind I decided to keep Xgboost as final model."
      ],
      "metadata": {
        "id": "rLjE6KNv0cMl"
      },
      "id": "rLjE6KNv0cMl"
    },
    {
      "cell_type": "markdown",
      "metadata": {
        "id": "387a6519"
      },
      "source": [
        "## Now you need to pass the Nulldata dataframe into this machine learning model\n",
        "\n",
        "#### In order to pass this Nulldata dataframe into the ML model, we need to perform the following\n",
        "\n",
        "- Step 1 : Label Encoding \n",
        "- Step 2 : Day, Month and Year extraction \n",
        "- Step 3 : Change all the column data type into int64 or float64\n",
        "- Step 4 : Need to drop the useless columns "
      ],
      "id": "387a6519"
    },
    {
      "cell_type": "markdown",
      "metadata": {
        "id": "I7JuxAkdiAdI"
      },
      "source": [
        "### Display the Nulldata "
      ],
      "id": "I7JuxAkdiAdI"
    },
    {
      "cell_type": "code",
      "execution_count": null,
      "metadata": {
        "id": "6d6a51d2",
        "colab": {
          "base_uri": "https://localhost:8080/",
          "height": 288
        },
        "outputId": "60e67236-1e74-42e2-b00b-5a2edc91bbc9"
      },
      "outputs": [
        {
          "data": {
            "text/html": [
              "\n",
              "  <div id=\"df-b82dac80-9cd3-453c-9b6e-1a7d4237f08f\">\n",
              "    <div class=\"colab-df-container\">\n",
              "      <div>\n",
              "<style scoped>\n",
              "    .dataframe tbody tr th:only-of-type {\n",
              "        vertical-align: middle;\n",
              "    }\n",
              "\n",
              "    .dataframe tbody tr th {\n",
              "        vertical-align: top;\n",
              "    }\n",
              "\n",
              "    .dataframe thead th {\n",
              "        text-align: right;\n",
              "    }\n",
              "</style>\n",
              "<table border=\"1\" class=\"dataframe\">\n",
              "  <thead>\n",
              "    <tr style=\"text-align: right;\">\n",
              "      <th></th>\n",
              "      <th>business_code</th>\n",
              "      <th>cust_number</th>\n",
              "      <th>name_customer</th>\n",
              "      <th>clear_date</th>\n",
              "      <th>buisness_year</th>\n",
              "      <th>doc_id</th>\n",
              "      <th>posting_date</th>\n",
              "      <th>due_in_date</th>\n",
              "      <th>baseline_create_date</th>\n",
              "      <th>cust_payment_terms</th>\n",
              "      <th>converted_usd</th>\n",
              "    </tr>\n",
              "  </thead>\n",
              "  <tbody>\n",
              "    <tr>\n",
              "      <th>0</th>\n",
              "      <td>CA02</td>\n",
              "      <td>0140105686</td>\n",
              "      <td>SYSC llc</td>\n",
              "      <td>NaT</td>\n",
              "      <td>2020.0</td>\n",
              "      <td>2.960623e+09</td>\n",
              "      <td>2020-03-30</td>\n",
              "      <td>2020-04-10</td>\n",
              "      <td>2020-03-31</td>\n",
              "      <td>CA10</td>\n",
              "      <td>2309.79</td>\n",
              "    </tr>\n",
              "    <tr>\n",
              "      <th>1</th>\n",
              "      <td>U001</td>\n",
              "      <td>0200744019</td>\n",
              "      <td>TARG us</td>\n",
              "      <td>NaT</td>\n",
              "      <td>2020.0</td>\n",
              "      <td>1.930659e+09</td>\n",
              "      <td>2020-03-19</td>\n",
              "      <td>2020-04-03</td>\n",
              "      <td>2020-03-19</td>\n",
              "      <td>NAA8</td>\n",
              "      <td>11173.02</td>\n",
              "    </tr>\n",
              "    <tr>\n",
              "      <th>2</th>\n",
              "      <td>U001</td>\n",
              "      <td>0200418007</td>\n",
              "      <td>AM</td>\n",
              "      <td>NaT</td>\n",
              "      <td>2020.0</td>\n",
              "      <td>1.930611e+09</td>\n",
              "      <td>2020-03-11</td>\n",
              "      <td>2020-03-26</td>\n",
              "      <td>2020-03-11</td>\n",
              "      <td>NAA8</td>\n",
              "      <td>3525.59</td>\n",
              "    </tr>\n",
              "    <tr>\n",
              "      <th>3</th>\n",
              "      <td>U001</td>\n",
              "      <td>0200739534</td>\n",
              "      <td>OK systems</td>\n",
              "      <td>NaT</td>\n",
              "      <td>2020.0</td>\n",
              "      <td>1.930788e+09</td>\n",
              "      <td>2020-04-15</td>\n",
              "      <td>2020-04-30</td>\n",
              "      <td>2020-04-15</td>\n",
              "      <td>NAA8</td>\n",
              "      <td>121105.65</td>\n",
              "    </tr>\n",
              "    <tr>\n",
              "      <th>4</th>\n",
              "      <td>U001</td>\n",
              "      <td>0200353024</td>\n",
              "      <td>DECA corporation</td>\n",
              "      <td>NaT</td>\n",
              "      <td>2020.0</td>\n",
              "      <td>1.930817e+09</td>\n",
              "      <td>2020-04-23</td>\n",
              "      <td>2020-04-26</td>\n",
              "      <td>2020-04-16</td>\n",
              "      <td>NAM2</td>\n",
              "      <td>3726.06</td>\n",
              "    </tr>\n",
              "  </tbody>\n",
              "</table>\n",
              "</div>\n",
              "      <button class=\"colab-df-convert\" onclick=\"convertToInteractive('df-b82dac80-9cd3-453c-9b6e-1a7d4237f08f')\"\n",
              "              title=\"Convert this dataframe to an interactive table.\"\n",
              "              style=\"display:none;\">\n",
              "        \n",
              "  <svg xmlns=\"http://www.w3.org/2000/svg\" height=\"24px\"viewBox=\"0 0 24 24\"\n",
              "       width=\"24px\">\n",
              "    <path d=\"M0 0h24v24H0V0z\" fill=\"none\"/>\n",
              "    <path d=\"M18.56 5.44l.94 2.06.94-2.06 2.06-.94-2.06-.94-.94-2.06-.94 2.06-2.06.94zm-11 1L8.5 8.5l.94-2.06 2.06-.94-2.06-.94L8.5 2.5l-.94 2.06-2.06.94zm10 10l.94 2.06.94-2.06 2.06-.94-2.06-.94-.94-2.06-.94 2.06-2.06.94z\"/><path d=\"M17.41 7.96l-1.37-1.37c-.4-.4-.92-.59-1.43-.59-.52 0-1.04.2-1.43.59L10.3 9.45l-7.72 7.72c-.78.78-.78 2.05 0 2.83L4 21.41c.39.39.9.59 1.41.59.51 0 1.02-.2 1.41-.59l7.78-7.78 2.81-2.81c.8-.78.8-2.07 0-2.86zM5.41 20L4 18.59l7.72-7.72 1.47 1.35L5.41 20z\"/>\n",
              "  </svg>\n",
              "      </button>\n",
              "      \n",
              "  <style>\n",
              "    .colab-df-container {\n",
              "      display:flex;\n",
              "      flex-wrap:wrap;\n",
              "      gap: 12px;\n",
              "    }\n",
              "\n",
              "    .colab-df-convert {\n",
              "      background-color: #E8F0FE;\n",
              "      border: none;\n",
              "      border-radius: 50%;\n",
              "      cursor: pointer;\n",
              "      display: none;\n",
              "      fill: #1967D2;\n",
              "      height: 32px;\n",
              "      padding: 0 0 0 0;\n",
              "      width: 32px;\n",
              "    }\n",
              "\n",
              "    .colab-df-convert:hover {\n",
              "      background-color: #E2EBFA;\n",
              "      box-shadow: 0px 1px 2px rgba(60, 64, 67, 0.3), 0px 1px 3px 1px rgba(60, 64, 67, 0.15);\n",
              "      fill: #174EA6;\n",
              "    }\n",
              "\n",
              "    [theme=dark] .colab-df-convert {\n",
              "      background-color: #3B4455;\n",
              "      fill: #D2E3FC;\n",
              "    }\n",
              "\n",
              "    [theme=dark] .colab-df-convert:hover {\n",
              "      background-color: #434B5C;\n",
              "      box-shadow: 0px 1px 3px 1px rgba(0, 0, 0, 0.15);\n",
              "      filter: drop-shadow(0px 1px 2px rgba(0, 0, 0, 0.3));\n",
              "      fill: #FFFFFF;\n",
              "    }\n",
              "  </style>\n",
              "\n",
              "      <script>\n",
              "        const buttonEl =\n",
              "          document.querySelector('#df-b82dac80-9cd3-453c-9b6e-1a7d4237f08f button.colab-df-convert');\n",
              "        buttonEl.style.display =\n",
              "          google.colab.kernel.accessAllowed ? 'block' : 'none';\n",
              "\n",
              "        async function convertToInteractive(key) {\n",
              "          const element = document.querySelector('#df-b82dac80-9cd3-453c-9b6e-1a7d4237f08f');\n",
              "          const dataTable =\n",
              "            await google.colab.kernel.invokeFunction('convertToInteractive',\n",
              "                                                     [key], {});\n",
              "          if (!dataTable) return;\n",
              "\n",
              "          const docLinkHtml = 'Like what you see? Visit the ' +\n",
              "            '<a target=\"_blank\" href=https://colab.research.google.com/notebooks/data_table.ipynb>data table notebook</a>'\n",
              "            + ' to learn more about interactive tables.';\n",
              "          element.innerHTML = '';\n",
              "          dataTable['output_type'] = 'display_data';\n",
              "          await google.colab.output.renderOutput(dataTable, element);\n",
              "          const docLink = document.createElement('div');\n",
              "          docLink.innerHTML = docLinkHtml;\n",
              "          element.appendChild(docLink);\n",
              "        }\n",
              "      </script>\n",
              "    </div>\n",
              "  </div>\n",
              "  "
            ],
            "text/plain": [
              "  business_code cust_number  ... cust_payment_terms converted_usd\n",
              "0          CA02  0140105686  ...               CA10       2309.79\n",
              "1          U001  0200744019  ...               NAA8      11173.02\n",
              "2          U001  0200418007  ...               NAA8       3525.59\n",
              "3          U001  0200739534  ...               NAA8     121105.65\n",
              "4          U001  0200353024  ...               NAM2       3726.06\n",
              "\n",
              "[5 rows x 11 columns]"
            ]
          },
          "execution_count": null,
          "metadata": {},
          "output_type": "execute_result"
        }
      ],
      "source": [
        "nulldata.head()"
      ],
      "id": "6d6a51d2"
    },
    {
      "cell_type": "markdown",
      "metadata": {
        "id": "Vamx5xqtiHCH"
      },
      "source": [
        "### Check for the number of rows and columns in the nulldata"
      ],
      "id": "Vamx5xqtiHCH"
    },
    {
      "cell_type": "code",
      "execution_count": null,
      "metadata": {
        "id": "59de1092",
        "colab": {
          "base_uri": "https://localhost:8080/"
        },
        "outputId": "96739c2e-a6a8-491d-a9a3-4f8a4455f099"
      },
      "outputs": [
        {
          "metadata": {
            "tags": null
          },
          "name": "stdout",
          "output_type": "stream",
          "text": [
            "Shape of nulldata is:  (9681, 11)\n"
          ]
        }
      ],
      "source": [
        "print(\"Shape of nulldata is: \", nulldata.shape)"
      ],
      "id": "59de1092"
    },
    {
      "cell_type": "markdown",
      "metadata": {
        "id": "BxzHNbBjpqXL"
      },
      "source": [
        "### Check the Description and Information of the nulldata "
      ],
      "id": "BxzHNbBjpqXL"
    },
    {
      "cell_type": "code",
      "execution_count": null,
      "metadata": {
        "id": "a6294d29",
        "colab": {
          "base_uri": "https://localhost:8080/",
          "height": 300
        },
        "outputId": "dbf289d8-aca8-466e-fe62-a3757c6e3af1"
      },
      "outputs": [
        {
          "data": {
            "text/html": [
              "\n",
              "  <div id=\"df-7ef02129-f8df-4494-9b16-6c92ddb705b7\">\n",
              "    <div class=\"colab-df-container\">\n",
              "      <div>\n",
              "<style scoped>\n",
              "    .dataframe tbody tr th:only-of-type {\n",
              "        vertical-align: middle;\n",
              "    }\n",
              "\n",
              "    .dataframe tbody tr th {\n",
              "        vertical-align: top;\n",
              "    }\n",
              "\n",
              "    .dataframe thead th {\n",
              "        text-align: right;\n",
              "    }\n",
              "</style>\n",
              "<table border=\"1\" class=\"dataframe\">\n",
              "  <thead>\n",
              "    <tr style=\"text-align: right;\">\n",
              "      <th></th>\n",
              "      <th>buisness_year</th>\n",
              "      <th>doc_id</th>\n",
              "      <th>converted_usd</th>\n",
              "    </tr>\n",
              "  </thead>\n",
              "  <tbody>\n",
              "    <tr>\n",
              "      <th>count</th>\n",
              "      <td>9681.0</td>\n",
              "      <td>9.681000e+03</td>\n",
              "      <td>9681.000000</td>\n",
              "    </tr>\n",
              "    <tr>\n",
              "      <th>mean</th>\n",
              "      <td>2020.0</td>\n",
              "      <td>2.006165e+09</td>\n",
              "      <td>32065.681125</td>\n",
              "    </tr>\n",
              "    <tr>\n",
              "      <th>std</th>\n",
              "      <td>0.0</td>\n",
              "      <td>2.673629e+08</td>\n",
              "      <td>35419.613688</td>\n",
              "    </tr>\n",
              "    <tr>\n",
              "      <th>min</th>\n",
              "      <td>2020.0</td>\n",
              "      <td>1.930535e+09</td>\n",
              "      <td>0.720000</td>\n",
              "    </tr>\n",
              "    <tr>\n",
              "      <th>25%</th>\n",
              "      <td>2020.0</td>\n",
              "      <td>1.930658e+09</td>\n",
              "      <td>5607.190000</td>\n",
              "    </tr>\n",
              "    <tr>\n",
              "      <th>50%</th>\n",
              "      <td>2020.0</td>\n",
              "      <td>1.930731e+09</td>\n",
              "      <td>19024.190000</td>\n",
              "    </tr>\n",
              "    <tr>\n",
              "      <th>75%</th>\n",
              "      <td>2020.0</td>\n",
              "      <td>1.930818e+09</td>\n",
              "      <td>47752.640000</td>\n",
              "    </tr>\n",
              "    <tr>\n",
              "      <th>max</th>\n",
              "      <td>2020.0</td>\n",
              "      <td>2.960636e+09</td>\n",
              "      <td>653644.800000</td>\n",
              "    </tr>\n",
              "  </tbody>\n",
              "</table>\n",
              "</div>\n",
              "      <button class=\"colab-df-convert\" onclick=\"convertToInteractive('df-7ef02129-f8df-4494-9b16-6c92ddb705b7')\"\n",
              "              title=\"Convert this dataframe to an interactive table.\"\n",
              "              style=\"display:none;\">\n",
              "        \n",
              "  <svg xmlns=\"http://www.w3.org/2000/svg\" height=\"24px\"viewBox=\"0 0 24 24\"\n",
              "       width=\"24px\">\n",
              "    <path d=\"M0 0h24v24H0V0z\" fill=\"none\"/>\n",
              "    <path d=\"M18.56 5.44l.94 2.06.94-2.06 2.06-.94-2.06-.94-.94-2.06-.94 2.06-2.06.94zm-11 1L8.5 8.5l.94-2.06 2.06-.94-2.06-.94L8.5 2.5l-.94 2.06-2.06.94zm10 10l.94 2.06.94-2.06 2.06-.94-2.06-.94-.94-2.06-.94 2.06-2.06.94z\"/><path d=\"M17.41 7.96l-1.37-1.37c-.4-.4-.92-.59-1.43-.59-.52 0-1.04.2-1.43.59L10.3 9.45l-7.72 7.72c-.78.78-.78 2.05 0 2.83L4 21.41c.39.39.9.59 1.41.59.51 0 1.02-.2 1.41-.59l7.78-7.78 2.81-2.81c.8-.78.8-2.07 0-2.86zM5.41 20L4 18.59l7.72-7.72 1.47 1.35L5.41 20z\"/>\n",
              "  </svg>\n",
              "      </button>\n",
              "      \n",
              "  <style>\n",
              "    .colab-df-container {\n",
              "      display:flex;\n",
              "      flex-wrap:wrap;\n",
              "      gap: 12px;\n",
              "    }\n",
              "\n",
              "    .colab-df-convert {\n",
              "      background-color: #E8F0FE;\n",
              "      border: none;\n",
              "      border-radius: 50%;\n",
              "      cursor: pointer;\n",
              "      display: none;\n",
              "      fill: #1967D2;\n",
              "      height: 32px;\n",
              "      padding: 0 0 0 0;\n",
              "      width: 32px;\n",
              "    }\n",
              "\n",
              "    .colab-df-convert:hover {\n",
              "      background-color: #E2EBFA;\n",
              "      box-shadow: 0px 1px 2px rgba(60, 64, 67, 0.3), 0px 1px 3px 1px rgba(60, 64, 67, 0.15);\n",
              "      fill: #174EA6;\n",
              "    }\n",
              "\n",
              "    [theme=dark] .colab-df-convert {\n",
              "      background-color: #3B4455;\n",
              "      fill: #D2E3FC;\n",
              "    }\n",
              "\n",
              "    [theme=dark] .colab-df-convert:hover {\n",
              "      background-color: #434B5C;\n",
              "      box-shadow: 0px 1px 3px 1px rgba(0, 0, 0, 0.15);\n",
              "      filter: drop-shadow(0px 1px 2px rgba(0, 0, 0, 0.3));\n",
              "      fill: #FFFFFF;\n",
              "    }\n",
              "  </style>\n",
              "\n",
              "      <script>\n",
              "        const buttonEl =\n",
              "          document.querySelector('#df-7ef02129-f8df-4494-9b16-6c92ddb705b7 button.colab-df-convert');\n",
              "        buttonEl.style.display =\n",
              "          google.colab.kernel.accessAllowed ? 'block' : 'none';\n",
              "\n",
              "        async function convertToInteractive(key) {\n",
              "          const element = document.querySelector('#df-7ef02129-f8df-4494-9b16-6c92ddb705b7');\n",
              "          const dataTable =\n",
              "            await google.colab.kernel.invokeFunction('convertToInteractive',\n",
              "                                                     [key], {});\n",
              "          if (!dataTable) return;\n",
              "\n",
              "          const docLinkHtml = 'Like what you see? Visit the ' +\n",
              "            '<a target=\"_blank\" href=https://colab.research.google.com/notebooks/data_table.ipynb>data table notebook</a>'\n",
              "            + ' to learn more about interactive tables.';\n",
              "          element.innerHTML = '';\n",
              "          dataTable['output_type'] = 'display_data';\n",
              "          await google.colab.output.renderOutput(dataTable, element);\n",
              "          const docLink = document.createElement('div');\n",
              "          docLink.innerHTML = docLinkHtml;\n",
              "          element.appendChild(docLink);\n",
              "        }\n",
              "      </script>\n",
              "    </div>\n",
              "  </div>\n",
              "  "
            ],
            "text/plain": [
              "       buisness_year        doc_id  converted_usd\n",
              "count         9681.0  9.681000e+03    9681.000000\n",
              "mean          2020.0  2.006165e+09   32065.681125\n",
              "std              0.0  2.673629e+08   35419.613688\n",
              "min           2020.0  1.930535e+09       0.720000\n",
              "25%           2020.0  1.930658e+09    5607.190000\n",
              "50%           2020.0  1.930731e+09   19024.190000\n",
              "75%           2020.0  1.930818e+09   47752.640000\n",
              "max           2020.0  2.960636e+09  653644.800000"
            ]
          },
          "execution_count": null,
          "metadata": {},
          "output_type": "execute_result"
        }
      ],
      "source": [
        "nulldata.describe()"
      ],
      "id": "a6294d29"
    },
    {
      "cell_type": "code",
      "source": [
        "nulldata.info()"
      ],
      "metadata": {
        "colab": {
          "base_uri": "https://localhost:8080/"
        },
        "id": "6rOeSIrJ2-Sk",
        "outputId": "4efb2eea-d95e-47c5-8a6f-7df5823b6532"
      },
      "id": "6rOeSIrJ2-Sk",
      "execution_count": null,
      "outputs": [
        {
          "metadata": {
            "tags": null
          },
          "name": "stdout",
          "output_type": "stream",
          "text": [
            "<class 'pandas.core.frame.DataFrame'>\n",
            "RangeIndex: 9681 entries, 0 to 9680\n",
            "Data columns (total 11 columns):\n",
            " #   Column                Non-Null Count  Dtype         \n",
            "---  ------                --------------  -----         \n",
            " 0   business_code         9681 non-null   object        \n",
            " 1   cust_number           9681 non-null   object        \n",
            " 2   name_customer         9681 non-null   object        \n",
            " 3   clear_date            0 non-null      datetime64[ns]\n",
            " 4   buisness_year         9681 non-null   float64       \n",
            " 5   doc_id                9681 non-null   float64       \n",
            " 6   posting_date          9681 non-null   datetime64[ns]\n",
            " 7   due_in_date           9681 non-null   datetime64[ns]\n",
            " 8   baseline_create_date  9681 non-null   datetime64[ns]\n",
            " 9   cust_payment_terms    9681 non-null   object        \n",
            " 10  converted_usd         9681 non-null   float64       \n",
            "dtypes: datetime64[ns](4), float64(3), object(4)\n",
            "memory usage: 832.1+ KB\n"
          ]
        }
      ]
    },
    {
      "cell_type": "markdown",
      "metadata": {
        "id": "fe860d94"
      },
      "source": [
        "### Storing the Nulldata into a different dataset \n",
        "# for BACKUP"
      ],
      "id": "fe860d94"
    },
    {
      "cell_type": "code",
      "execution_count": null,
      "metadata": {
        "id": "16352034"
      },
      "outputs": [],
      "source": [
        "nulldata1 = nulldata.copy(deep=True)"
      ],
      "id": "16352034"
    },
    {
      "cell_type": "markdown",
      "metadata": {
        "id": "00f35b8c"
      },
      "source": [
        "### Call the Label Encoder for Nulldata\n",
        "\n",
        "- Note - you are expected to fit \"business_code\" as it is a categorical variable\n",
        "- Note - No need to change the code"
      ],
      "id": "00f35b8c"
    },
    {
      "cell_type": "code",
      "execution_count": null,
      "metadata": {
        "id": "baf04b17"
      },
      "outputs": [],
      "source": [
        "from sklearn.preprocessing import LabelEncoder\n",
        "business_codern = LabelEncoder()\n",
        "business_codern.fit(nulldata['business_code'])\n",
        "nulldata['business_code_enc'] = business_codern.transform(nulldata['business_code'])"
      ],
      "id": "baf04b17"
    },
    {
      "cell_type": "markdown",
      "metadata": {
        "id": "ZCPBK9karIR-"
      },
      "source": [
        "### Now you need to manually replacing str values with numbers\n",
        "- Note - No need to change the code"
      ],
      "id": "ZCPBK9karIR-"
    },
    {
      "cell_type": "code",
      "execution_count": null,
      "metadata": {
        "id": "c64924be"
      },
      "outputs": [],
      "source": [
        "nulldata['cust_number'] = nulldata['cust_number'].str.replace('CCCA',\"1\").str.replace('CCU',\"2\").str.replace('CC',\"3\").astype(int)"
      ],
      "id": "c64924be"
    },
    {
      "cell_type": "markdown",
      "metadata": {
        "id": "9a55f5f6"
      },
      "source": [
        "## You need to extract day, month and year from the \"clear_date\", \"posting_date\", \"due_in_date\", \"baseline_create_date\" columns\n",
        "\n",
        "\n",
        "##### 1.   Extract day from \"clear_date\" column and store it into 'day_of_cleardate'\n",
        "##### 2.   Extract month from \"clear_date\" column and store it into 'month_of_cleardate'\n",
        "##### 3.   Extract year from \"clear_date\" column and store it into 'year_of_cleardate'\n",
        "\n",
        "\n",
        "\n",
        "##### 4.   Extract day from \"posting_date\" column and store it into 'day_of_postingdate'\n",
        "##### 5.   Extract month from \"posting_date\" column and store it into 'month_of_postingdate'\n",
        "##### 6.   Extract year from \"posting_date\" column and store it into 'year_of_postingdate'\n",
        "\n",
        "\n",
        "\n",
        "\n",
        "##### 7.   Extract day from \"due_in_date\" column and store it into 'day_of_due'\n",
        "##### 8.   Extract month from \"due_in_date\" column and store it into 'month_of_due'\n",
        "##### 9.   Extract year from \"due_in_date\" column and store it into 'year_of_due'\n",
        "\n",
        "\n",
        "\n",
        "\n",
        "##### 10.   Extract day from \"baseline_create_date\" column and store it into 'day_of_createdate'\n",
        "##### 11.   Extract month from \"baseline_create_date\" column and store it into 'month_of_createdate'\n",
        "##### 12.   Extract year from \"baseline_create_date\" column and store it into 'year_of_createdate'\n",
        "\n",
        "\n",
        "\n",
        "\n",
        "- Note - You are supposed To use - \n",
        "\n",
        "*   dt.day\n",
        "*   dt.month\n",
        "*   dt.year"
      ],
      "id": "9a55f5f6"
    },
    {
      "cell_type": "code",
      "execution_count": null,
      "metadata": {
        "id": "4166fbe4"
      },
      "outputs": [],
      "source": [
        "nulldata['day_of_postingdate'] = nulldata['posting_date'].dt.day\n",
        "nulldata['month_of_postingdate'] = nulldata['posting_date'].dt.month\n",
        "nulldata['year_of_postingdate'] = nulldata['posting_date'].dt.year"
      ],
      "id": "4166fbe4"
    },
    {
      "cell_type": "code",
      "source": [
        "nulldata['day_of_due'] = nulldata['due_in_date'].dt.day\n",
        "nulldata['month_of_due'] = nulldata['due_in_date'].dt.month\n",
        "nulldata['year_of_due'] = nulldata['due_in_date'].dt.year"
      ],
      "metadata": {
        "id": "oeiIn4Sy8Qjz"
      },
      "id": "oeiIn4Sy8Qjz",
      "execution_count": null,
      "outputs": []
    },
    {
      "cell_type": "code",
      "source": [
        "nulldata['day_of_createdate'] = nulldata['baseline_create_date'].dt.day\n",
        "nulldata['month_of_createdate'] = nulldata['baseline_create_date'].dt.month\n",
        "nulldata['year_of_createdate'] = nulldata['baseline_create_date'].dt.year"
      ],
      "metadata": {
        "id": "A7FN1nJX8Qt3"
      },
      "id": "A7FN1nJX8Qt3",
      "execution_count": null,
      "outputs": []
    },
    {
      "cell_type": "code",
      "source": [
        "nulldata['day_of_cleardate'] = nulldata['clear_date'].dt.day\n",
        "nulldata['month_of_cleardate'] = nulldata['clear_date'].dt.month\n",
        "nulldata['year_of_cleardate'] = nulldata['clear_date'].dt.year"
      ],
      "metadata": {
        "id": "yHeU_yz59nB-"
      },
      "id": "yHeU_yz59nB-",
      "execution_count": null,
      "outputs": []
    },
    {
      "cell_type": "code",
      "source": [
        "nulldata.head()"
      ],
      "metadata": {
        "colab": {
          "base_uri": "https://localhost:8080/",
          "height": 288
        },
        "id": "OfmYCI8699YS",
        "outputId": "196efc19-0b02-484a-ab00-0ed312285cbf"
      },
      "id": "OfmYCI8699YS",
      "execution_count": null,
      "outputs": [
        {
          "data": {
            "text/html": [
              "\n",
              "  <div id=\"df-d856e5e6-7a2f-44df-ae79-3b5773de709c\">\n",
              "    <div class=\"colab-df-container\">\n",
              "      <div>\n",
              "<style scoped>\n",
              "    .dataframe tbody tr th:only-of-type {\n",
              "        vertical-align: middle;\n",
              "    }\n",
              "\n",
              "    .dataframe tbody tr th {\n",
              "        vertical-align: top;\n",
              "    }\n",
              "\n",
              "    .dataframe thead th {\n",
              "        text-align: right;\n",
              "    }\n",
              "</style>\n",
              "<table border=\"1\" class=\"dataframe\">\n",
              "  <thead>\n",
              "    <tr style=\"text-align: right;\">\n",
              "      <th></th>\n",
              "      <th>business_code</th>\n",
              "      <th>cust_number</th>\n",
              "      <th>name_customer</th>\n",
              "      <th>clear_date</th>\n",
              "      <th>buisness_year</th>\n",
              "      <th>doc_id</th>\n",
              "      <th>posting_date</th>\n",
              "      <th>due_in_date</th>\n",
              "      <th>baseline_create_date</th>\n",
              "      <th>cust_payment_terms</th>\n",
              "      <th>converted_usd</th>\n",
              "      <th>business_code_enc</th>\n",
              "      <th>day_of_postingdate</th>\n",
              "      <th>month_of_postingdate</th>\n",
              "      <th>year_of_postingdate</th>\n",
              "      <th>day_of_due</th>\n",
              "      <th>month_of_due</th>\n",
              "      <th>year_of_due</th>\n",
              "      <th>day_of_createdate</th>\n",
              "      <th>month_of_createdate</th>\n",
              "      <th>year_of_createdate</th>\n",
              "      <th>day_of_cleardate</th>\n",
              "      <th>month_of_cleardate</th>\n",
              "      <th>year_of_cleardate</th>\n",
              "    </tr>\n",
              "  </thead>\n",
              "  <tbody>\n",
              "    <tr>\n",
              "      <th>0</th>\n",
              "      <td>CA02</td>\n",
              "      <td>140105686</td>\n",
              "      <td>SYSC llc</td>\n",
              "      <td>NaT</td>\n",
              "      <td>2020.0</td>\n",
              "      <td>2.960623e+09</td>\n",
              "      <td>2020-03-30</td>\n",
              "      <td>2020-04-10</td>\n",
              "      <td>2020-03-31</td>\n",
              "      <td>CA10</td>\n",
              "      <td>2309.79</td>\n",
              "      <td>0</td>\n",
              "      <td>30</td>\n",
              "      <td>3</td>\n",
              "      <td>2020</td>\n",
              "      <td>10</td>\n",
              "      <td>4</td>\n",
              "      <td>2020</td>\n",
              "      <td>31</td>\n",
              "      <td>3</td>\n",
              "      <td>2020</td>\n",
              "      <td>NaN</td>\n",
              "      <td>NaN</td>\n",
              "      <td>NaN</td>\n",
              "    </tr>\n",
              "    <tr>\n",
              "      <th>1</th>\n",
              "      <td>U001</td>\n",
              "      <td>200744019</td>\n",
              "      <td>TARG us</td>\n",
              "      <td>NaT</td>\n",
              "      <td>2020.0</td>\n",
              "      <td>1.930659e+09</td>\n",
              "      <td>2020-03-19</td>\n",
              "      <td>2020-04-03</td>\n",
              "      <td>2020-03-19</td>\n",
              "      <td>NAA8</td>\n",
              "      <td>11173.02</td>\n",
              "      <td>1</td>\n",
              "      <td>19</td>\n",
              "      <td>3</td>\n",
              "      <td>2020</td>\n",
              "      <td>3</td>\n",
              "      <td>4</td>\n",
              "      <td>2020</td>\n",
              "      <td>19</td>\n",
              "      <td>3</td>\n",
              "      <td>2020</td>\n",
              "      <td>NaN</td>\n",
              "      <td>NaN</td>\n",
              "      <td>NaN</td>\n",
              "    </tr>\n",
              "    <tr>\n",
              "      <th>2</th>\n",
              "      <td>U001</td>\n",
              "      <td>200418007</td>\n",
              "      <td>AM</td>\n",
              "      <td>NaT</td>\n",
              "      <td>2020.0</td>\n",
              "      <td>1.930611e+09</td>\n",
              "      <td>2020-03-11</td>\n",
              "      <td>2020-03-26</td>\n",
              "      <td>2020-03-11</td>\n",
              "      <td>NAA8</td>\n",
              "      <td>3525.59</td>\n",
              "      <td>1</td>\n",
              "      <td>11</td>\n",
              "      <td>3</td>\n",
              "      <td>2020</td>\n",
              "      <td>26</td>\n",
              "      <td>3</td>\n",
              "      <td>2020</td>\n",
              "      <td>11</td>\n",
              "      <td>3</td>\n",
              "      <td>2020</td>\n",
              "      <td>NaN</td>\n",
              "      <td>NaN</td>\n",
              "      <td>NaN</td>\n",
              "    </tr>\n",
              "    <tr>\n",
              "      <th>3</th>\n",
              "      <td>U001</td>\n",
              "      <td>200739534</td>\n",
              "      <td>OK systems</td>\n",
              "      <td>NaT</td>\n",
              "      <td>2020.0</td>\n",
              "      <td>1.930788e+09</td>\n",
              "      <td>2020-04-15</td>\n",
              "      <td>2020-04-30</td>\n",
              "      <td>2020-04-15</td>\n",
              "      <td>NAA8</td>\n",
              "      <td>121105.65</td>\n",
              "      <td>1</td>\n",
              "      <td>15</td>\n",
              "      <td>4</td>\n",
              "      <td>2020</td>\n",
              "      <td>30</td>\n",
              "      <td>4</td>\n",
              "      <td>2020</td>\n",
              "      <td>15</td>\n",
              "      <td>4</td>\n",
              "      <td>2020</td>\n",
              "      <td>NaN</td>\n",
              "      <td>NaN</td>\n",
              "      <td>NaN</td>\n",
              "    </tr>\n",
              "    <tr>\n",
              "      <th>4</th>\n",
              "      <td>U001</td>\n",
              "      <td>200353024</td>\n",
              "      <td>DECA corporation</td>\n",
              "      <td>NaT</td>\n",
              "      <td>2020.0</td>\n",
              "      <td>1.930817e+09</td>\n",
              "      <td>2020-04-23</td>\n",
              "      <td>2020-04-26</td>\n",
              "      <td>2020-04-16</td>\n",
              "      <td>NAM2</td>\n",
              "      <td>3726.06</td>\n",
              "      <td>1</td>\n",
              "      <td>23</td>\n",
              "      <td>4</td>\n",
              "      <td>2020</td>\n",
              "      <td>26</td>\n",
              "      <td>4</td>\n",
              "      <td>2020</td>\n",
              "      <td>16</td>\n",
              "      <td>4</td>\n",
              "      <td>2020</td>\n",
              "      <td>NaN</td>\n",
              "      <td>NaN</td>\n",
              "      <td>NaN</td>\n",
              "    </tr>\n",
              "  </tbody>\n",
              "</table>\n",
              "</div>\n",
              "      <button class=\"colab-df-convert\" onclick=\"convertToInteractive('df-d856e5e6-7a2f-44df-ae79-3b5773de709c')\"\n",
              "              title=\"Convert this dataframe to an interactive table.\"\n",
              "              style=\"display:none;\">\n",
              "        \n",
              "  <svg xmlns=\"http://www.w3.org/2000/svg\" height=\"24px\"viewBox=\"0 0 24 24\"\n",
              "       width=\"24px\">\n",
              "    <path d=\"M0 0h24v24H0V0z\" fill=\"none\"/>\n",
              "    <path d=\"M18.56 5.44l.94 2.06.94-2.06 2.06-.94-2.06-.94-.94-2.06-.94 2.06-2.06.94zm-11 1L8.5 8.5l.94-2.06 2.06-.94-2.06-.94L8.5 2.5l-.94 2.06-2.06.94zm10 10l.94 2.06.94-2.06 2.06-.94-2.06-.94-.94-2.06-.94 2.06-2.06.94z\"/><path d=\"M17.41 7.96l-1.37-1.37c-.4-.4-.92-.59-1.43-.59-.52 0-1.04.2-1.43.59L10.3 9.45l-7.72 7.72c-.78.78-.78 2.05 0 2.83L4 21.41c.39.39.9.59 1.41.59.51 0 1.02-.2 1.41-.59l7.78-7.78 2.81-2.81c.8-.78.8-2.07 0-2.86zM5.41 20L4 18.59l7.72-7.72 1.47 1.35L5.41 20z\"/>\n",
              "  </svg>\n",
              "      </button>\n",
              "      \n",
              "  <style>\n",
              "    .colab-df-container {\n",
              "      display:flex;\n",
              "      flex-wrap:wrap;\n",
              "      gap: 12px;\n",
              "    }\n",
              "\n",
              "    .colab-df-convert {\n",
              "      background-color: #E8F0FE;\n",
              "      border: none;\n",
              "      border-radius: 50%;\n",
              "      cursor: pointer;\n",
              "      display: none;\n",
              "      fill: #1967D2;\n",
              "      height: 32px;\n",
              "      padding: 0 0 0 0;\n",
              "      width: 32px;\n",
              "    }\n",
              "\n",
              "    .colab-df-convert:hover {\n",
              "      background-color: #E2EBFA;\n",
              "      box-shadow: 0px 1px 2px rgba(60, 64, 67, 0.3), 0px 1px 3px 1px rgba(60, 64, 67, 0.15);\n",
              "      fill: #174EA6;\n",
              "    }\n",
              "\n",
              "    [theme=dark] .colab-df-convert {\n",
              "      background-color: #3B4455;\n",
              "      fill: #D2E3FC;\n",
              "    }\n",
              "\n",
              "    [theme=dark] .colab-df-convert:hover {\n",
              "      background-color: #434B5C;\n",
              "      box-shadow: 0px 1px 3px 1px rgba(0, 0, 0, 0.15);\n",
              "      filter: drop-shadow(0px 1px 2px rgba(0, 0, 0, 0.3));\n",
              "      fill: #FFFFFF;\n",
              "    }\n",
              "  </style>\n",
              "\n",
              "      <script>\n",
              "        const buttonEl =\n",
              "          document.querySelector('#df-d856e5e6-7a2f-44df-ae79-3b5773de709c button.colab-df-convert');\n",
              "        buttonEl.style.display =\n",
              "          google.colab.kernel.accessAllowed ? 'block' : 'none';\n",
              "\n",
              "        async function convertToInteractive(key) {\n",
              "          const element = document.querySelector('#df-d856e5e6-7a2f-44df-ae79-3b5773de709c');\n",
              "          const dataTable =\n",
              "            await google.colab.kernel.invokeFunction('convertToInteractive',\n",
              "                                                     [key], {});\n",
              "          if (!dataTable) return;\n",
              "\n",
              "          const docLinkHtml = 'Like what you see? Visit the ' +\n",
              "            '<a target=\"_blank\" href=https://colab.research.google.com/notebooks/data_table.ipynb>data table notebook</a>'\n",
              "            + ' to learn more about interactive tables.';\n",
              "          element.innerHTML = '';\n",
              "          dataTable['output_type'] = 'display_data';\n",
              "          await google.colab.output.renderOutput(dataTable, element);\n",
              "          const docLink = document.createElement('div');\n",
              "          docLink.innerHTML = docLinkHtml;\n",
              "          element.appendChild(docLink);\n",
              "        }\n",
              "      </script>\n",
              "    </div>\n",
              "  </div>\n",
              "  "
            ],
            "text/plain": [
              "  business_code  cust_number  ... month_of_cleardate year_of_cleardate\n",
              "0          CA02    140105686  ...                NaN               NaN\n",
              "1          U001    200744019  ...                NaN               NaN\n",
              "2          U001    200418007  ...                NaN               NaN\n",
              "3          U001    200739534  ...                NaN               NaN\n",
              "4          U001    200353024  ...                NaN               NaN\n",
              "\n",
              "[5 rows x 24 columns]"
            ]
          },
          "execution_count": null,
          "metadata": {},
          "output_type": "execute_result"
        }
      ]
    },
    {
      "cell_type": "markdown",
      "metadata": {
        "id": "QeHWJYrAvOC6"
      },
      "source": [
        "### Use Label Encoder1 of all the following columns - \n",
        "- 'cust_payment_terms' and store into 'cust_payment_terms_enc'\n",
        "- 'business_code' and store into 'business_code_enc'\n",
        "- 'name_customer' and store into 'name_customer_enc'\n",
        "\n",
        "Note - No need to change the code"
      ],
      "id": "QeHWJYrAvOC6"
    },
    {
      "cell_type": "code",
      "execution_count": null,
      "metadata": {
        "id": "bac330e2"
      },
      "outputs": [],
      "source": [
        "nulldata['cust_payment_terms_enc']=label_encoder1.transform(nulldata['cust_payment_terms'])\n",
        "nulldata['business_code_enc']=label_encoder1.transform(nulldata['business_code'])\n",
        "nulldata['name_customer_enc']=label_encoder.transform(nulldata['name_customer'])\n"
      ],
      "id": "bac330e2"
    },
    {
      "cell_type": "markdown",
      "metadata": {
        "id": "zD9I-XqQwC28"
      },
      "source": [
        "### Check for the datatypes of all the columns of Nulldata"
      ],
      "id": "zD9I-XqQwC28"
    },
    {
      "cell_type": "code",
      "execution_count": null,
      "metadata": {
        "id": "d4f72517",
        "colab": {
          "base_uri": "https://localhost:8080/"
        },
        "outputId": "ece5d8ad-bb79-4707-95b4-791e06087fea"
      },
      "outputs": [
        {
          "data": {
            "text/plain": [
              "business_code                     object\n",
              "cust_number                        int64\n",
              "name_customer                     object\n",
              "clear_date                datetime64[ns]\n",
              "buisness_year                    float64\n",
              "doc_id                           float64\n",
              "posting_date              datetime64[ns]\n",
              "due_in_date               datetime64[ns]\n",
              "baseline_create_date      datetime64[ns]\n",
              "cust_payment_terms                object\n",
              "converted_usd                    float64\n",
              "business_code_enc                  int64\n",
              "day_of_postingdate                 int64\n",
              "month_of_postingdate               int64\n",
              "year_of_postingdate                int64\n",
              "day_of_due                         int64\n",
              "month_of_due                       int64\n",
              "year_of_due                        int64\n",
              "day_of_createdate                  int64\n",
              "month_of_createdate                int64\n",
              "year_of_createdate                 int64\n",
              "day_of_cleardate                 float64\n",
              "month_of_cleardate               float64\n",
              "year_of_cleardate                float64\n",
              "cust_payment_terms_enc             int64\n",
              "name_customer_enc                  int64\n",
              "dtype: object"
            ]
          },
          "execution_count": null,
          "metadata": {},
          "output_type": "execute_result"
        }
      ],
      "source": [
        "nulldata.dtypes"
      ],
      "id": "d4f72517"
    },
    {
      "cell_type": "markdown",
      "metadata": {
        "id": "17cd5452"
      },
      "source": [
        "### Now you need to drop all the unnecessary columns - \n",
        "\n",
        "- 'business_code'\n",
        "- \"baseline_create_date\"\n",
        "- \"due_in_date\"\n",
        "- \"posting_date\"\n",
        "- \"name_customer\"\n",
        "- \"clear_date\"\n",
        "- \"cust_payment_terms\"\n",
        "- 'day_of_cleardate'\n",
        "- \"month_of_cleardate\"\n",
        "- \"year_of_cleardate\""
      ],
      "id": "17cd5452"
    },
    {
      "cell_type": "code",
      "execution_count": null,
      "metadata": {
        "id": "d7c82076"
      },
      "outputs": [],
      "source": [
        "nulldata.drop([\"business_code\", \"baseline_create_date\", \"due_in_date\", \"posting_date\", \"name_customer\", \"clear_date\", \"cust_payment_terms\", 'day_of_cleardate', \"month_of_cleardate\", \"year_of_cleardate\"], axis = 1, inplace=True)"
      ],
      "id": "d7c82076"
    },
    {
      "cell_type": "markdown",
      "metadata": {
        "id": "Q_NCr9IPweVq"
      },
      "source": [
        "### Check the information of the \"nulldata\" dataframe"
      ],
      "id": "Q_NCr9IPweVq"
    },
    {
      "cell_type": "code",
      "execution_count": null,
      "metadata": {
        "id": "4e7ffee0",
        "colab": {
          "base_uri": "https://localhost:8080/"
        },
        "outputId": "09c52d16-c0c9-414e-9508-dd4221275af5"
      },
      "outputs": [
        {
          "metadata": {
            "tags": null
          },
          "name": "stdout",
          "output_type": "stream",
          "text": [
            "<class 'pandas.core.frame.DataFrame'>\n",
            "RangeIndex: 9681 entries, 0 to 9680\n",
            "Data columns (total 16 columns):\n",
            " #   Column                  Non-Null Count  Dtype  \n",
            "---  ------                  --------------  -----  \n",
            " 0   cust_number             9681 non-null   int64  \n",
            " 1   buisness_year           9681 non-null   float64\n",
            " 2   doc_id                  9681 non-null   float64\n",
            " 3   converted_usd           9681 non-null   float64\n",
            " 4   business_code_enc       9681 non-null   int64  \n",
            " 5   day_of_postingdate      9681 non-null   int64  \n",
            " 6   month_of_postingdate    9681 non-null   int64  \n",
            " 7   year_of_postingdate     9681 non-null   int64  \n",
            " 8   day_of_due              9681 non-null   int64  \n",
            " 9   month_of_due            9681 non-null   int64  \n",
            " 10  year_of_due             9681 non-null   int64  \n",
            " 11  day_of_createdate       9681 non-null   int64  \n",
            " 12  month_of_createdate     9681 non-null   int64  \n",
            " 13  year_of_createdate      9681 non-null   int64  \n",
            " 14  cust_payment_terms_enc  9681 non-null   int64  \n",
            " 15  name_customer_enc       9681 non-null   int64  \n",
            "dtypes: float64(3), int64(13)\n",
            "memory usage: 1.2 MB\n"
          ]
        }
      ],
      "source": [
        "nulldata.info()"
      ],
      "id": "4e7ffee0"
    },
    {
      "cell_type": "markdown",
      "metadata": {
        "id": "-XvjhWqmwi-C"
      },
      "source": [
        "### Compare \"nulldata\" with the \"X_test\" dataframe \n",
        "\n",
        "- use info() method"
      ],
      "id": "-XvjhWqmwi-C"
    },
    {
      "cell_type": "code",
      "execution_count": null,
      "metadata": {
        "id": "02f4b62d",
        "colab": {
          "base_uri": "https://localhost:8080/"
        },
        "outputId": "5d14ccc5-225f-47dd-cdfc-34d805a200ac"
      },
      "outputs": [
        {
          "metadata": {
            "tags": null
          },
          "name": "stdout",
          "output_type": "stream",
          "text": [
            "<class 'pandas.core.frame.DataFrame'>\n",
            "Int64Index: 7832 entries, 32350 to 13934\n",
            "Data columns (total 16 columns):\n",
            " #   Column                  Non-Null Count  Dtype  \n",
            "---  ------                  --------------  -----  \n",
            " 0   cust_number             7832 non-null   int64  \n",
            " 1   buisness_year           7832 non-null   float64\n",
            " 2   doc_id                  7832 non-null   float64\n",
            " 3   converted_usd           7832 non-null   float64\n",
            " 4   business_code_enc       7832 non-null   int64  \n",
            " 5   name_customer_enc       7832 non-null   int64  \n",
            " 6   cust_payment_terms_enc  7832 non-null   int64  \n",
            " 7   day_of_postingdate      7832 non-null   int64  \n",
            " 8   month_of_postingdate    7832 non-null   int64  \n",
            " 9   year_of_postingdate     7832 non-null   int64  \n",
            " 10  day_of_createdate       7832 non-null   int64  \n",
            " 11  month_of_createdate     7832 non-null   int64  \n",
            " 12  year_of_createdate      7832 non-null   int64  \n",
            " 13  day_of_due              7832 non-null   int64  \n",
            " 14  month_of_due            7832 non-null   int64  \n",
            " 15  year_of_due             7832 non-null   int64  \n",
            "dtypes: float64(3), int64(13)\n",
            "memory usage: 1.0 MB\n"
          ]
        }
      ],
      "source": [
        "X_test.info() #Find code fr this "
      ],
      "id": "02f4b62d"
    },
    {
      "cell_type": "markdown",
      "metadata": {
        "id": "Us3ey-9zwqjq"
      },
      "source": [
        "### You must have noticed that there is a mismatch in the column sequence while compairing the dataframes\n",
        "\n",
        "- Note - In order to fed into the machine learning model, you need to edit the sequence of \"nulldata\", similar to the \"X_test\" dataframe"
      ],
      "id": "Us3ey-9zwqjq"
    },
    {
      "cell_type": "markdown",
      "metadata": {
        "id": "vduVNt1kxPW-"
      },
      "source": [
        "- Display all the columns of the X_test dataframe \n",
        "- Display all the columns of the Nulldata dataframe \n",
        "- Store the Nulldata with new sequence into a new dataframe \n",
        "\n",
        "\n",
        "- Note - The code is given below, no need to change "
      ],
      "id": "vduVNt1kxPW-"
    },
    {
      "cell_type": "code",
      "execution_count": null,
      "metadata": {
        "id": "6729353e",
        "colab": {
          "base_uri": "https://localhost:8080/"
        },
        "outputId": "56ea23dc-d6af-469e-8c1e-e5df9876fdab"
      },
      "outputs": [
        {
          "data": {
            "text/plain": [
              "Index(['cust_number', 'buisness_year', 'doc_id', 'converted_usd',\n",
              "       'business_code_enc', 'name_customer_enc', 'cust_payment_terms_enc',\n",
              "       'day_of_postingdate', 'month_of_postingdate', 'year_of_postingdate',\n",
              "       'day_of_createdate', 'month_of_createdate', 'year_of_createdate',\n",
              "       'day_of_due', 'month_of_due', 'year_of_due'],\n",
              "      dtype='object')"
            ]
          },
          "execution_count": null,
          "metadata": {},
          "output_type": "execute_result"
        }
      ],
      "source": [
        "X_test.columns"
      ],
      "id": "6729353e"
    },
    {
      "cell_type": "code",
      "execution_count": null,
      "metadata": {
        "id": "47bd9c5e",
        "colab": {
          "base_uri": "https://localhost:8080/"
        },
        "outputId": "0ac13ad0-340c-4501-a573-36c9042c4d8c"
      },
      "outputs": [
        {
          "data": {
            "text/plain": [
              "Index(['cust_number', 'buisness_year', 'doc_id', 'converted_usd',\n",
              "       'business_code_enc', 'day_of_postingdate', 'month_of_postingdate',\n",
              "       'year_of_postingdate', 'day_of_due', 'month_of_due', 'year_of_due',\n",
              "       'day_of_createdate', 'month_of_createdate', 'year_of_createdate',\n",
              "       'cust_payment_terms_enc', 'name_customer_enc'],\n",
              "      dtype='object')"
            ]
          },
          "execution_count": null,
          "metadata": {},
          "output_type": "execute_result"
        }
      ],
      "source": [
        "nulldata.columns"
      ],
      "id": "47bd9c5e"
    },
    {
      "cell_type": "code",
      "execution_count": null,
      "metadata": {
        "id": "aa5a2103"
      },
      "outputs": [],
      "source": [
        "nulldata2=nulldata[['cust_number', 'buisness_year', 'doc_id', 'converted_usd',\n",
        "       'business_code_enc', 'name_customer_enc', 'cust_payment_terms_enc',\n",
        "       'day_of_postingdate', 'month_of_postingdate', 'year_of_postingdate',\n",
        "       'day_of_createdate', 'month_of_createdate', 'year_of_createdate',\n",
        "       'day_of_due', 'month_of_due', 'year_of_due']]"
      ],
      "id": "aa5a2103"
    },
    {
      "cell_type": "markdown",
      "metadata": {
        "id": "1dc8b021"
      },
      "source": [
        "### Display the Final Dataset"
      ],
      "id": "1dc8b021"
    },
    {
      "cell_type": "code",
      "execution_count": null,
      "metadata": {
        "id": "2f39785a",
        "colab": {
          "base_uri": "https://localhost:8080/",
          "height": 270
        },
        "outputId": "4bab26a5-d5ec-4bae-c8d3-c54fa8b1ba53"
      },
      "outputs": [
        {
          "data": {
            "text/html": [
              "\n",
              "  <div id=\"df-39500f42-5afc-4d72-9877-b8aa94f71b69\">\n",
              "    <div class=\"colab-df-container\">\n",
              "      <div>\n",
              "<style scoped>\n",
              "    .dataframe tbody tr th:only-of-type {\n",
              "        vertical-align: middle;\n",
              "    }\n",
              "\n",
              "    .dataframe tbody tr th {\n",
              "        vertical-align: top;\n",
              "    }\n",
              "\n",
              "    .dataframe thead th {\n",
              "        text-align: right;\n",
              "    }\n",
              "</style>\n",
              "<table border=\"1\" class=\"dataframe\">\n",
              "  <thead>\n",
              "    <tr style=\"text-align: right;\">\n",
              "      <th></th>\n",
              "      <th>cust_number</th>\n",
              "      <th>buisness_year</th>\n",
              "      <th>doc_id</th>\n",
              "      <th>converted_usd</th>\n",
              "      <th>business_code_enc</th>\n",
              "      <th>name_customer_enc</th>\n",
              "      <th>cust_payment_terms_enc</th>\n",
              "      <th>day_of_postingdate</th>\n",
              "      <th>month_of_postingdate</th>\n",
              "      <th>year_of_postingdate</th>\n",
              "      <th>day_of_createdate</th>\n",
              "      <th>month_of_createdate</th>\n",
              "      <th>year_of_createdate</th>\n",
              "      <th>day_of_due</th>\n",
              "      <th>month_of_due</th>\n",
              "      <th>year_of_due</th>\n",
              "    </tr>\n",
              "  </thead>\n",
              "  <tbody>\n",
              "    <tr>\n",
              "      <th>0</th>\n",
              "      <td>140105686</td>\n",
              "      <td>2020.0</td>\n",
              "      <td>2.960623e+09</td>\n",
              "      <td>2309.79</td>\n",
              "      <td>65</td>\n",
              "      <td>2702</td>\n",
              "      <td>5</td>\n",
              "      <td>30</td>\n",
              "      <td>3</td>\n",
              "      <td>2020</td>\n",
              "      <td>31</td>\n",
              "      <td>3</td>\n",
              "      <td>2020</td>\n",
              "      <td>10</td>\n",
              "      <td>4</td>\n",
              "      <td>2020</td>\n",
              "    </tr>\n",
              "    <tr>\n",
              "      <th>1</th>\n",
              "      <td>200744019</td>\n",
              "      <td>2020.0</td>\n",
              "      <td>1.930659e+09</td>\n",
              "      <td>11173.02</td>\n",
              "      <td>65</td>\n",
              "      <td>2784</td>\n",
              "      <td>20</td>\n",
              "      <td>19</td>\n",
              "      <td>3</td>\n",
              "      <td>2020</td>\n",
              "      <td>19</td>\n",
              "      <td>3</td>\n",
              "      <td>2020</td>\n",
              "      <td>3</td>\n",
              "      <td>4</td>\n",
              "      <td>2020</td>\n",
              "    </tr>\n",
              "    <tr>\n",
              "      <th>2</th>\n",
              "      <td>200418007</td>\n",
              "      <td>2020.0</td>\n",
              "      <td>1.930611e+09</td>\n",
              "      <td>3525.59</td>\n",
              "      <td>65</td>\n",
              "      <td>94</td>\n",
              "      <td>20</td>\n",
              "      <td>11</td>\n",
              "      <td>3</td>\n",
              "      <td>2020</td>\n",
              "      <td>11</td>\n",
              "      <td>3</td>\n",
              "      <td>2020</td>\n",
              "      <td>26</td>\n",
              "      <td>3</td>\n",
              "      <td>2020</td>\n",
              "    </tr>\n",
              "    <tr>\n",
              "      <th>3</th>\n",
              "      <td>200739534</td>\n",
              "      <td>2020.0</td>\n",
              "      <td>1.930788e+09</td>\n",
              "      <td>121105.65</td>\n",
              "      <td>65</td>\n",
              "      <td>2014</td>\n",
              "      <td>20</td>\n",
              "      <td>15</td>\n",
              "      <td>4</td>\n",
              "      <td>2020</td>\n",
              "      <td>15</td>\n",
              "      <td>4</td>\n",
              "      <td>2020</td>\n",
              "      <td>30</td>\n",
              "      <td>4</td>\n",
              "      <td>2020</td>\n",
              "    </tr>\n",
              "    <tr>\n",
              "      <th>4</th>\n",
              "      <td>200353024</td>\n",
              "      <td>2020.0</td>\n",
              "      <td>1.930817e+09</td>\n",
              "      <td>3726.06</td>\n",
              "      <td>65</td>\n",
              "      <td>717</td>\n",
              "      <td>35</td>\n",
              "      <td>23</td>\n",
              "      <td>4</td>\n",
              "      <td>2020</td>\n",
              "      <td>16</td>\n",
              "      <td>4</td>\n",
              "      <td>2020</td>\n",
              "      <td>26</td>\n",
              "      <td>4</td>\n",
              "      <td>2020</td>\n",
              "    </tr>\n",
              "  </tbody>\n",
              "</table>\n",
              "</div>\n",
              "      <button class=\"colab-df-convert\" onclick=\"convertToInteractive('df-39500f42-5afc-4d72-9877-b8aa94f71b69')\"\n",
              "              title=\"Convert this dataframe to an interactive table.\"\n",
              "              style=\"display:none;\">\n",
              "        \n",
              "  <svg xmlns=\"http://www.w3.org/2000/svg\" height=\"24px\"viewBox=\"0 0 24 24\"\n",
              "       width=\"24px\">\n",
              "    <path d=\"M0 0h24v24H0V0z\" fill=\"none\"/>\n",
              "    <path d=\"M18.56 5.44l.94 2.06.94-2.06 2.06-.94-2.06-.94-.94-2.06-.94 2.06-2.06.94zm-11 1L8.5 8.5l.94-2.06 2.06-.94-2.06-.94L8.5 2.5l-.94 2.06-2.06.94zm10 10l.94 2.06.94-2.06 2.06-.94-2.06-.94-.94-2.06-.94 2.06-2.06.94z\"/><path d=\"M17.41 7.96l-1.37-1.37c-.4-.4-.92-.59-1.43-.59-.52 0-1.04.2-1.43.59L10.3 9.45l-7.72 7.72c-.78.78-.78 2.05 0 2.83L4 21.41c.39.39.9.59 1.41.59.51 0 1.02-.2 1.41-.59l7.78-7.78 2.81-2.81c.8-.78.8-2.07 0-2.86zM5.41 20L4 18.59l7.72-7.72 1.47 1.35L5.41 20z\"/>\n",
              "  </svg>\n",
              "      </button>\n",
              "      \n",
              "  <style>\n",
              "    .colab-df-container {\n",
              "      display:flex;\n",
              "      flex-wrap:wrap;\n",
              "      gap: 12px;\n",
              "    }\n",
              "\n",
              "    .colab-df-convert {\n",
              "      background-color: #E8F0FE;\n",
              "      border: none;\n",
              "      border-radius: 50%;\n",
              "      cursor: pointer;\n",
              "      display: none;\n",
              "      fill: #1967D2;\n",
              "      height: 32px;\n",
              "      padding: 0 0 0 0;\n",
              "      width: 32px;\n",
              "    }\n",
              "\n",
              "    .colab-df-convert:hover {\n",
              "      background-color: #E2EBFA;\n",
              "      box-shadow: 0px 1px 2px rgba(60, 64, 67, 0.3), 0px 1px 3px 1px rgba(60, 64, 67, 0.15);\n",
              "      fill: #174EA6;\n",
              "    }\n",
              "\n",
              "    [theme=dark] .colab-df-convert {\n",
              "      background-color: #3B4455;\n",
              "      fill: #D2E3FC;\n",
              "    }\n",
              "\n",
              "    [theme=dark] .colab-df-convert:hover {\n",
              "      background-color: #434B5C;\n",
              "      box-shadow: 0px 1px 3px 1px rgba(0, 0, 0, 0.15);\n",
              "      filter: drop-shadow(0px 1px 2px rgba(0, 0, 0, 0.3));\n",
              "      fill: #FFFFFF;\n",
              "    }\n",
              "  </style>\n",
              "\n",
              "      <script>\n",
              "        const buttonEl =\n",
              "          document.querySelector('#df-39500f42-5afc-4d72-9877-b8aa94f71b69 button.colab-df-convert');\n",
              "        buttonEl.style.display =\n",
              "          google.colab.kernel.accessAllowed ? 'block' : 'none';\n",
              "\n",
              "        async function convertToInteractive(key) {\n",
              "          const element = document.querySelector('#df-39500f42-5afc-4d72-9877-b8aa94f71b69');\n",
              "          const dataTable =\n",
              "            await google.colab.kernel.invokeFunction('convertToInteractive',\n",
              "                                                     [key], {});\n",
              "          if (!dataTable) return;\n",
              "\n",
              "          const docLinkHtml = 'Like what you see? Visit the ' +\n",
              "            '<a target=\"_blank\" href=https://colab.research.google.com/notebooks/data_table.ipynb>data table notebook</a>'\n",
              "            + ' to learn more about interactive tables.';\n",
              "          element.innerHTML = '';\n",
              "          dataTable['output_type'] = 'display_data';\n",
              "          await google.colab.output.renderOutput(dataTable, element);\n",
              "          const docLink = document.createElement('div');\n",
              "          docLink.innerHTML = docLinkHtml;\n",
              "          element.appendChild(docLink);\n",
              "        }\n",
              "      </script>\n",
              "    </div>\n",
              "  </div>\n",
              "  "
            ],
            "text/plain": [
              "   cust_number  buisness_year  ...  month_of_due  year_of_due\n",
              "0    140105686         2020.0  ...             4         2020\n",
              "1    200744019         2020.0  ...             4         2020\n",
              "2    200418007         2020.0  ...             3         2020\n",
              "3    200739534         2020.0  ...             4         2020\n",
              "4    200353024         2020.0  ...             4         2020\n",
              "\n",
              "[5 rows x 16 columns]"
            ]
          },
          "execution_count": null,
          "metadata": {},
          "output_type": "execute_result"
        }
      ],
      "source": [
        "nulldata2.head()"
      ],
      "id": "2f39785a"
    },
    {
      "cell_type": "markdown",
      "metadata": {
        "id": "27b88c5a"
      },
      "source": [
        "### Now you can pass this dataset into you final model and store it into \"final_result\""
      ],
      "id": "27b88c5a"
    },
    {
      "cell_type": "code",
      "execution_count": null,
      "metadata": {
        "id": "9e0b6388"
      },
      "outputs": [],
      "source": [
        "final_result = regressorfinal.predict(nulldata2)"
      ],
      "id": "9e0b6388"
    },
    {
      "cell_type": "markdown",
      "metadata": {
        "id": "9653d3c6"
      },
      "source": [
        "### you need to make the final_result as dataframe, with a column name \"avg_delay\"\n",
        "\n",
        "- Note - No need to change the code"
      ],
      "id": "9653d3c6"
    },
    {
      "cell_type": "code",
      "execution_count": null,
      "metadata": {
        "id": "25ef814d"
      },
      "outputs": [],
      "source": [
        "final_result = pd.Series(final_result,name='avg_delay')"
      ],
      "id": "25ef814d"
    },
    {
      "cell_type": "markdown",
      "metadata": {
        "id": "C86staIhyf2C"
      },
      "source": [
        "### Display the \"avg_delay\" column"
      ],
      "id": "C86staIhyf2C"
    },
    {
      "cell_type": "code",
      "execution_count": null,
      "metadata": {
        "id": "4fd46406",
        "colab": {
          "base_uri": "https://localhost:8080/"
        },
        "outputId": "e6a4f19a-fb68-44eb-cade-cbe5911f2dd6"
      },
      "outputs": [
        {
          "data": {
            "text/plain": [
              "name_customer\n",
              "11078 us                 17 days 00:00:00\n",
              "17135 associates       -10 days +00:00:00\n",
              "17135 llc               -3 days +00:00:00\n",
              "236008 associates       -3 days +00:00:00\n",
              "99 CE                     2 days 00:00:00\n",
              "                              ...        \n",
              "YEN BROS corp             0 days 00:00:00\n",
              "YEN BROS corporation    -1 days +12:00:00\n",
              "YEN BROS llc            -2 days +00:00:00\n",
              "ZARCO co                -1 days +00:00:00\n",
              "ZIYAD  us                 6 days 00:00:00\n",
              "Name: Delay, Length: 3889, dtype: timedelta64[ns]"
            ]
          },
          "execution_count": null,
          "metadata": {},
          "output_type": "execute_result"
        }
      ],
      "source": [
        "avg_delay  "
      ],
      "id": "4fd46406"
    },
    {
      "cell_type": "markdown",
      "metadata": {
        "id": "44f71a7e"
      },
      "source": [
        "### Now you need to merge this final_result dataframe with the BACKUP of \"nulldata\" Dataframe which we have created in earlier steps"
      ],
      "id": "44f71a7e"
    },
    {
      "cell_type": "code",
      "execution_count": null,
      "metadata": {
        "id": "e8f0969d"
      },
      "outputs": [],
      "source": [
        "df_final = final_result.to_frame().reset_index()\n",
        "df_final = df_final.rename(columns={0: \"final_result\"})\n",
        "nulldata1.reset_index(drop=True,inplace=True)\n",
        "nulldata1[\"avg_delay\"] =  df_final['avg_delay'] # Merging final_result with nulldata1 (nulldata1 is final dataframe)\n"
      ],
      "id": "e8f0969d"
    },
    {
      "cell_type": "markdown",
      "metadata": {
        "id": "G-hLtxXgy4GZ"
      },
      "source": [
        "### Display the \"Final\" dataframe "
      ],
      "id": "G-hLtxXgy4GZ"
    },
    {
      "cell_type": "code",
      "execution_count": null,
      "metadata": {
        "id": "71fb4dc0",
        "colab": {
          "base_uri": "https://localhost:8080/",
          "height": 522
        },
        "outputId": "eeaf3574-b456-4f6a-9992-a84036198321"
      },
      "outputs": [
        {
          "data": {
            "text/html": [
              "\n",
              "  <div id=\"df-cce5f43a-d101-4e7a-97a7-a2bfbacd1bd5\">\n",
              "    <div class=\"colab-df-container\">\n",
              "      <div>\n",
              "<style scoped>\n",
              "    .dataframe tbody tr th:only-of-type {\n",
              "        vertical-align: middle;\n",
              "    }\n",
              "\n",
              "    .dataframe tbody tr th {\n",
              "        vertical-align: top;\n",
              "    }\n",
              "\n",
              "    .dataframe thead th {\n",
              "        text-align: right;\n",
              "    }\n",
              "</style>\n",
              "<table border=\"1\" class=\"dataframe\">\n",
              "  <thead>\n",
              "    <tr style=\"text-align: right;\">\n",
              "      <th></th>\n",
              "      <th>business_code</th>\n",
              "      <th>cust_number</th>\n",
              "      <th>name_customer</th>\n",
              "      <th>clear_date</th>\n",
              "      <th>buisness_year</th>\n",
              "      <th>doc_id</th>\n",
              "      <th>posting_date</th>\n",
              "      <th>due_in_date</th>\n",
              "      <th>baseline_create_date</th>\n",
              "      <th>cust_payment_terms</th>\n",
              "      <th>converted_usd</th>\n",
              "      <th>avg_delay</th>\n",
              "    </tr>\n",
              "  </thead>\n",
              "  <tbody>\n",
              "    <tr>\n",
              "      <th>0</th>\n",
              "      <td>CA02</td>\n",
              "      <td>0140105686</td>\n",
              "      <td>SYSC llc</td>\n",
              "      <td>NaT</td>\n",
              "      <td>2020.0</td>\n",
              "      <td>2.960623e+09</td>\n",
              "      <td>2020-03-30</td>\n",
              "      <td>2020-04-10</td>\n",
              "      <td>2020-03-31</td>\n",
              "      <td>CA10</td>\n",
              "      <td>2309.79</td>\n",
              "      <td>439881.000000</td>\n",
              "    </tr>\n",
              "    <tr>\n",
              "      <th>1</th>\n",
              "      <td>U001</td>\n",
              "      <td>0200744019</td>\n",
              "      <td>TARG us</td>\n",
              "      <td>NaT</td>\n",
              "      <td>2020.0</td>\n",
              "      <td>1.930659e+09</td>\n",
              "      <td>2020-03-19</td>\n",
              "      <td>2020-04-03</td>\n",
              "      <td>2020-03-19</td>\n",
              "      <td>NAA8</td>\n",
              "      <td>11173.02</td>\n",
              "      <td>213626.140625</td>\n",
              "    </tr>\n",
              "    <tr>\n",
              "      <th>2</th>\n",
              "      <td>U001</td>\n",
              "      <td>0200418007</td>\n",
              "      <td>AM</td>\n",
              "      <td>NaT</td>\n",
              "      <td>2020.0</td>\n",
              "      <td>1.930611e+09</td>\n",
              "      <td>2020-03-11</td>\n",
              "      <td>2020-03-26</td>\n",
              "      <td>2020-03-11</td>\n",
              "      <td>NAA8</td>\n",
              "      <td>3525.59</td>\n",
              "      <td>-9788.752930</td>\n",
              "    </tr>\n",
              "    <tr>\n",
              "      <th>3</th>\n",
              "      <td>U001</td>\n",
              "      <td>0200739534</td>\n",
              "      <td>OK systems</td>\n",
              "      <td>NaT</td>\n",
              "      <td>2020.0</td>\n",
              "      <td>1.930788e+09</td>\n",
              "      <td>2020-04-15</td>\n",
              "      <td>2020-04-30</td>\n",
              "      <td>2020-04-15</td>\n",
              "      <td>NAA8</td>\n",
              "      <td>121105.65</td>\n",
              "      <td>108999.554688</td>\n",
              "    </tr>\n",
              "    <tr>\n",
              "      <th>4</th>\n",
              "      <td>U001</td>\n",
              "      <td>0200353024</td>\n",
              "      <td>DECA corporation</td>\n",
              "      <td>NaT</td>\n",
              "      <td>2020.0</td>\n",
              "      <td>1.930817e+09</td>\n",
              "      <td>2020-04-23</td>\n",
              "      <td>2020-04-26</td>\n",
              "      <td>2020-04-16</td>\n",
              "      <td>NAM2</td>\n",
              "      <td>3726.06</td>\n",
              "      <td>-324102.031250</td>\n",
              "    </tr>\n",
              "    <tr>\n",
              "      <th>...</th>\n",
              "      <td>...</td>\n",
              "      <td>...</td>\n",
              "      <td>...</td>\n",
              "      <td>...</td>\n",
              "      <td>...</td>\n",
              "      <td>...</td>\n",
              "      <td>...</td>\n",
              "      <td>...</td>\n",
              "      <td>...</td>\n",
              "      <td>...</td>\n",
              "      <td>...</td>\n",
              "      <td>...</td>\n",
              "    </tr>\n",
              "    <tr>\n",
              "      <th>9676</th>\n",
              "      <td>U001</td>\n",
              "      <td>0200769623</td>\n",
              "      <td>WAL-MAR in</td>\n",
              "      <td>NaT</td>\n",
              "      <td>2020.0</td>\n",
              "      <td>1.930625e+09</td>\n",
              "      <td>2020-03-10</td>\n",
              "      <td>2020-03-25</td>\n",
              "      <td>2020-03-10</td>\n",
              "      <td>NAH4</td>\n",
              "      <td>13114.99</td>\n",
              "      <td>166586.609375</td>\n",
              "    </tr>\n",
              "    <tr>\n",
              "      <th>9677</th>\n",
              "      <td>U001</td>\n",
              "      <td>0200769623</td>\n",
              "      <td>WAL-MAR corporation</td>\n",
              "      <td>NaT</td>\n",
              "      <td>2020.0</td>\n",
              "      <td>1.930851e+09</td>\n",
              "      <td>2020-05-03</td>\n",
              "      <td>2020-05-18</td>\n",
              "      <td>2020-05-03</td>\n",
              "      <td>NAH4</td>\n",
              "      <td>8899.71</td>\n",
              "      <td>166586.609375</td>\n",
              "    </tr>\n",
              "    <tr>\n",
              "      <th>9678</th>\n",
              "      <td>U001</td>\n",
              "      <td>0200148860</td>\n",
              "      <td>DOLLA co</td>\n",
              "      <td>NaT</td>\n",
              "      <td>2020.0</td>\n",
              "      <td>1.930638e+09</td>\n",
              "      <td>2020-03-11</td>\n",
              "      <td>2020-03-26</td>\n",
              "      <td>2020-03-11</td>\n",
              "      <td>NAA8</td>\n",
              "      <td>4967.06</td>\n",
              "      <td>-221554.593750</td>\n",
              "    </tr>\n",
              "    <tr>\n",
              "      <th>9679</th>\n",
              "      <td>U001</td>\n",
              "      <td>0200900909</td>\n",
              "      <td>SYSCO co</td>\n",
              "      <td>NaT</td>\n",
              "      <td>2020.0</td>\n",
              "      <td>1.930702e+09</td>\n",
              "      <td>2020-03-25</td>\n",
              "      <td>2020-04-09</td>\n",
              "      <td>2020-03-25</td>\n",
              "      <td>NAA8</td>\n",
              "      <td>1998.64</td>\n",
              "      <td>212492.562500</td>\n",
              "    </tr>\n",
              "    <tr>\n",
              "      <th>9680</th>\n",
              "      <td>U001</td>\n",
              "      <td>0200561861</td>\n",
              "      <td>CO corporation</td>\n",
              "      <td>NaT</td>\n",
              "      <td>2020.0</td>\n",
              "      <td>1.930797e+09</td>\n",
              "      <td>2020-04-21</td>\n",
              "      <td>2020-05-06</td>\n",
              "      <td>2020-04-21</td>\n",
              "      <td>NAA8</td>\n",
              "      <td>3187.86</td>\n",
              "      <td>-19554.572266</td>\n",
              "    </tr>\n",
              "  </tbody>\n",
              "</table>\n",
              "<p>9681 rows × 12 columns</p>\n",
              "</div>\n",
              "      <button class=\"colab-df-convert\" onclick=\"convertToInteractive('df-cce5f43a-d101-4e7a-97a7-a2bfbacd1bd5')\"\n",
              "              title=\"Convert this dataframe to an interactive table.\"\n",
              "              style=\"display:none;\">\n",
              "        \n",
              "  <svg xmlns=\"http://www.w3.org/2000/svg\" height=\"24px\"viewBox=\"0 0 24 24\"\n",
              "       width=\"24px\">\n",
              "    <path d=\"M0 0h24v24H0V0z\" fill=\"none\"/>\n",
              "    <path d=\"M18.56 5.44l.94 2.06.94-2.06 2.06-.94-2.06-.94-.94-2.06-.94 2.06-2.06.94zm-11 1L8.5 8.5l.94-2.06 2.06-.94-2.06-.94L8.5 2.5l-.94 2.06-2.06.94zm10 10l.94 2.06.94-2.06 2.06-.94-2.06-.94-.94-2.06-.94 2.06-2.06.94z\"/><path d=\"M17.41 7.96l-1.37-1.37c-.4-.4-.92-.59-1.43-.59-.52 0-1.04.2-1.43.59L10.3 9.45l-7.72 7.72c-.78.78-.78 2.05 0 2.83L4 21.41c.39.39.9.59 1.41.59.51 0 1.02-.2 1.41-.59l7.78-7.78 2.81-2.81c.8-.78.8-2.07 0-2.86zM5.41 20L4 18.59l7.72-7.72 1.47 1.35L5.41 20z\"/>\n",
              "  </svg>\n",
              "      </button>\n",
              "      \n",
              "  <style>\n",
              "    .colab-df-container {\n",
              "      display:flex;\n",
              "      flex-wrap:wrap;\n",
              "      gap: 12px;\n",
              "    }\n",
              "\n",
              "    .colab-df-convert {\n",
              "      background-color: #E8F0FE;\n",
              "      border: none;\n",
              "      border-radius: 50%;\n",
              "      cursor: pointer;\n",
              "      display: none;\n",
              "      fill: #1967D2;\n",
              "      height: 32px;\n",
              "      padding: 0 0 0 0;\n",
              "      width: 32px;\n",
              "    }\n",
              "\n",
              "    .colab-df-convert:hover {\n",
              "      background-color: #E2EBFA;\n",
              "      box-shadow: 0px 1px 2px rgba(60, 64, 67, 0.3), 0px 1px 3px 1px rgba(60, 64, 67, 0.15);\n",
              "      fill: #174EA6;\n",
              "    }\n",
              "\n",
              "    [theme=dark] .colab-df-convert {\n",
              "      background-color: #3B4455;\n",
              "      fill: #D2E3FC;\n",
              "    }\n",
              "\n",
              "    [theme=dark] .colab-df-convert:hover {\n",
              "      background-color: #434B5C;\n",
              "      box-shadow: 0px 1px 3px 1px rgba(0, 0, 0, 0.15);\n",
              "      filter: drop-shadow(0px 1px 2px rgba(0, 0, 0, 0.3));\n",
              "      fill: #FFFFFF;\n",
              "    }\n",
              "  </style>\n",
              "\n",
              "      <script>\n",
              "        const buttonEl =\n",
              "          document.querySelector('#df-cce5f43a-d101-4e7a-97a7-a2bfbacd1bd5 button.colab-df-convert');\n",
              "        buttonEl.style.display =\n",
              "          google.colab.kernel.accessAllowed ? 'block' : 'none';\n",
              "\n",
              "        async function convertToInteractive(key) {\n",
              "          const element = document.querySelector('#df-cce5f43a-d101-4e7a-97a7-a2bfbacd1bd5');\n",
              "          const dataTable =\n",
              "            await google.colab.kernel.invokeFunction('convertToInteractive',\n",
              "                                                     [key], {});\n",
              "          if (!dataTable) return;\n",
              "\n",
              "          const docLinkHtml = 'Like what you see? Visit the ' +\n",
              "            '<a target=\"_blank\" href=https://colab.research.google.com/notebooks/data_table.ipynb>data table notebook</a>'\n",
              "            + ' to learn more about interactive tables.';\n",
              "          element.innerHTML = '';\n",
              "          dataTable['output_type'] = 'display_data';\n",
              "          await google.colab.output.renderOutput(dataTable, element);\n",
              "          const docLink = document.createElement('div');\n",
              "          docLink.innerHTML = docLinkHtml;\n",
              "          element.appendChild(docLink);\n",
              "        }\n",
              "      </script>\n",
              "    </div>\n",
              "  </div>\n",
              "  "
            ],
            "text/plain": [
              "     business_code cust_number  ... converted_usd      avg_delay\n",
              "0             CA02  0140105686  ...       2309.79  439881.000000\n",
              "1             U001  0200744019  ...      11173.02  213626.140625\n",
              "2             U001  0200418007  ...       3525.59   -9788.752930\n",
              "3             U001  0200739534  ...     121105.65  108999.554688\n",
              "4             U001  0200353024  ...       3726.06 -324102.031250\n",
              "...            ...         ...  ...           ...            ...\n",
              "9676          U001  0200769623  ...      13114.99  166586.609375\n",
              "9677          U001  0200769623  ...       8899.71  166586.609375\n",
              "9678          U001  0200148860  ...       4967.06 -221554.593750\n",
              "9679          U001  0200900909  ...       1998.64  212492.562500\n",
              "9680          U001  0200561861  ...       3187.86  -19554.572266\n",
              "\n",
              "[9681 rows x 12 columns]"
            ]
          },
          "execution_count": null,
          "metadata": {},
          "output_type": "execute_result"
        }
      ],
      "source": [
        "nulldata1 # here while merging 2 dataframes, I kept same name nulldata1 for final dataframe "
      ],
      "id": "71fb4dc0"
    },
    {
      "cell_type": "markdown",
      "metadata": {
        "id": "4sc27Uz-y-0O"
      },
      "source": [
        "### Check for the Number of Rows and Columns in your \"Final\" dataframe "
      ],
      "id": "4sc27Uz-y-0O"
    },
    {
      "cell_type": "code",
      "execution_count": null,
      "metadata": {
        "id": "5iUXOIhzy_HR",
        "colab": {
          "base_uri": "https://localhost:8080/"
        },
        "outputId": "9730830c-8605-4111-dbfd-34ddd35c5de4"
      },
      "outputs": [
        {
          "output_type": "execute_result",
          "data": {
            "text/plain": [
              "(9681, 12)"
            ]
          },
          "metadata": {},
          "execution_count": 556
        }
      ],
      "source": [
        "nulldata1.shape"
      ],
      "id": "5iUXOIhzy_HR"
    },
    {
      "cell_type": "markdown",
      "metadata": {
        "id": "48886d2c"
      },
      "source": [
        "### Now, you need to do convert the below fields back into date and time format \n",
        "\n",
        "- Convert \"due_in_date\" into datetime format\n",
        "- Convert \"avg_delay\" into datetime format\n",
        "- Create a new column \"clear_date\" and store the sum of \"due_in_date\" and \"avg_delay\"\n",
        "- display the new \"clear_date\" column\n",
        "- Note - Code is given below, no need to change "
      ],
      "id": "48886d2c"
    },
    {
      "cell_type": "code",
      "execution_count": null,
      "metadata": {
        "id": "243abc2d"
      },
      "outputs": [],
      "source": [
        "nulldata1['clear_date'] = pd.to_datetime(nulldata1['due_in_date']) + pd.to_timedelta(nulldata1['avg_delay'], unit='s')"
      ],
      "id": "243abc2d"
    },
    {
      "cell_type": "markdown",
      "metadata": {
        "id": "9QcX_fAjIkYR"
      },
      "source": [
        "### Display the \"clear_date\" column"
      ],
      "id": "9QcX_fAjIkYR"
    },
    {
      "cell_type": "code",
      "execution_count": null,
      "metadata": {
        "id": "740e1486",
        "colab": {
          "base_uri": "https://localhost:8080/"
        },
        "outputId": "a3420898-b5e7-45bc-ca3d-91a76134e5c6"
      },
      "outputs": [
        {
          "output_type": "execute_result",
          "data": {
            "text/plain": [
              "0      2020-04-15 02:11:21.000000000\n",
              "1      2020-04-05 11:20:26.140625000\n",
              "2      2020-03-25 21:16:51.247070312\n",
              "3      2020-05-01 06:16:39.554687500\n",
              "4      2020-04-22 05:58:17.968750000\n",
              "                    ...             \n",
              "9676   2020-03-26 22:16:26.609375000\n",
              "9677   2020-05-19 22:16:26.609375000\n",
              "9678   2020-03-23 10:27:25.406250000\n",
              "9679   2020-04-11 11:01:32.562500000\n",
              "9680   2020-05-05 18:34:05.427734375\n",
              "Name: clear_date, Length: 9681, dtype: datetime64[ns]"
            ]
          },
          "metadata": {},
          "execution_count": 558
        }
      ],
      "source": [
        "nulldata1['clear_date']"
      ],
      "id": "740e1486"
    },
    {
      "cell_type": "markdown",
      "metadata": {
        "id": "MSkNLq6-z7rZ"
      },
      "source": [
        "### Convert the average delay into number of days format \n",
        "\n",
        "- Note - Formula = avg_delay//(24 * 3600)\n",
        "- Note - full code is given for this, no need to change "
      ],
      "id": "MSkNLq6-z7rZ"
    },
    {
      "cell_type": "code",
      "execution_count": null,
      "metadata": {
        "id": "ce6b618a"
      },
      "outputs": [],
      "source": [
        "nulldata1['avg_delay'] = nulldata1.apply(lambda row: row.avg_delay//(24 * 3600), axis = 1)"
      ],
      "id": "ce6b618a"
    },
    {
      "cell_type": "markdown",
      "metadata": {
        "id": "wbBBZPjP0W7o"
      },
      "source": [
        "### Display the \"avg_delay\" column "
      ],
      "id": "wbBBZPjP0W7o"
    },
    {
      "cell_type": "code",
      "execution_count": null,
      "metadata": {
        "id": "a494982f",
        "scrolled": true,
        "colab": {
          "base_uri": "https://localhost:8080/"
        },
        "outputId": "61f46614-8cce-495c-b7a4-140a86bdb217"
      },
      "outputs": [
        {
          "output_type": "execute_result",
          "data": {
            "text/plain": [
              "0       5.0\n",
              "1       2.0\n",
              "2      -1.0\n",
              "3       1.0\n",
              "4      -4.0\n",
              "       ... \n",
              "9676    1.0\n",
              "9677    1.0\n",
              "9678   -3.0\n",
              "9679    2.0\n",
              "9680   -1.0\n",
              "Name: avg_delay, Length: 9681, dtype: float64"
            ]
          },
          "metadata": {},
          "execution_count": 560
        }
      ],
      "source": [
        "nulldata1[\"avg_delay\"]"
      ],
      "id": "a494982f"
    },
    {
      "cell_type": "code",
      "source": [
        "nulldata1"
      ],
      "metadata": {
        "colab": {
          "base_uri": "https://localhost:8080/",
          "height": 661
        },
        "id": "AGC1TbWpaJVi",
        "outputId": "86e696b8-902d-447d-8714-332bd8cbb358"
      },
      "id": "AGC1TbWpaJVi",
      "execution_count": null,
      "outputs": [
        {
          "output_type": "execute_result",
          "data": {
            "text/html": [
              "\n",
              "  <div id=\"df-8eeaad5d-7420-4229-848c-d46fa397f673\">\n",
              "    <div class=\"colab-df-container\">\n",
              "      <div>\n",
              "<style scoped>\n",
              "    .dataframe tbody tr th:only-of-type {\n",
              "        vertical-align: middle;\n",
              "    }\n",
              "\n",
              "    .dataframe tbody tr th {\n",
              "        vertical-align: top;\n",
              "    }\n",
              "\n",
              "    .dataframe thead th {\n",
              "        text-align: right;\n",
              "    }\n",
              "</style>\n",
              "<table border=\"1\" class=\"dataframe\">\n",
              "  <thead>\n",
              "    <tr style=\"text-align: right;\">\n",
              "      <th></th>\n",
              "      <th>business_code</th>\n",
              "      <th>cust_number</th>\n",
              "      <th>name_customer</th>\n",
              "      <th>clear_date</th>\n",
              "      <th>buisness_year</th>\n",
              "      <th>doc_id</th>\n",
              "      <th>posting_date</th>\n",
              "      <th>due_in_date</th>\n",
              "      <th>baseline_create_date</th>\n",
              "      <th>cust_payment_terms</th>\n",
              "      <th>converted_usd</th>\n",
              "      <th>avg_delay</th>\n",
              "    </tr>\n",
              "  </thead>\n",
              "  <tbody>\n",
              "    <tr>\n",
              "      <th>0</th>\n",
              "      <td>CA02</td>\n",
              "      <td>0140105686</td>\n",
              "      <td>SYSC llc</td>\n",
              "      <td>2020-04-15 02:11:21.000000000</td>\n",
              "      <td>2020.0</td>\n",
              "      <td>2.960623e+09</td>\n",
              "      <td>2020-03-30</td>\n",
              "      <td>2020-04-10</td>\n",
              "      <td>2020-03-31</td>\n",
              "      <td>CA10</td>\n",
              "      <td>2309.79</td>\n",
              "      <td>5.0</td>\n",
              "    </tr>\n",
              "    <tr>\n",
              "      <th>1</th>\n",
              "      <td>U001</td>\n",
              "      <td>0200744019</td>\n",
              "      <td>TARG us</td>\n",
              "      <td>2020-04-05 11:20:26.140625000</td>\n",
              "      <td>2020.0</td>\n",
              "      <td>1.930659e+09</td>\n",
              "      <td>2020-03-19</td>\n",
              "      <td>2020-04-03</td>\n",
              "      <td>2020-03-19</td>\n",
              "      <td>NAA8</td>\n",
              "      <td>11173.02</td>\n",
              "      <td>2.0</td>\n",
              "    </tr>\n",
              "    <tr>\n",
              "      <th>2</th>\n",
              "      <td>U001</td>\n",
              "      <td>0200418007</td>\n",
              "      <td>AM</td>\n",
              "      <td>2020-03-25 21:16:51.247070312</td>\n",
              "      <td>2020.0</td>\n",
              "      <td>1.930611e+09</td>\n",
              "      <td>2020-03-11</td>\n",
              "      <td>2020-03-26</td>\n",
              "      <td>2020-03-11</td>\n",
              "      <td>NAA8</td>\n",
              "      <td>3525.59</td>\n",
              "      <td>-1.0</td>\n",
              "    </tr>\n",
              "    <tr>\n",
              "      <th>3</th>\n",
              "      <td>U001</td>\n",
              "      <td>0200739534</td>\n",
              "      <td>OK systems</td>\n",
              "      <td>2020-05-01 06:16:39.554687500</td>\n",
              "      <td>2020.0</td>\n",
              "      <td>1.930788e+09</td>\n",
              "      <td>2020-04-15</td>\n",
              "      <td>2020-04-30</td>\n",
              "      <td>2020-04-15</td>\n",
              "      <td>NAA8</td>\n",
              "      <td>121105.65</td>\n",
              "      <td>1.0</td>\n",
              "    </tr>\n",
              "    <tr>\n",
              "      <th>4</th>\n",
              "      <td>U001</td>\n",
              "      <td>0200353024</td>\n",
              "      <td>DECA corporation</td>\n",
              "      <td>2020-04-22 05:58:17.968750000</td>\n",
              "      <td>2020.0</td>\n",
              "      <td>1.930817e+09</td>\n",
              "      <td>2020-04-23</td>\n",
              "      <td>2020-04-26</td>\n",
              "      <td>2020-04-16</td>\n",
              "      <td>NAM2</td>\n",
              "      <td>3726.06</td>\n",
              "      <td>-4.0</td>\n",
              "    </tr>\n",
              "    <tr>\n",
              "      <th>...</th>\n",
              "      <td>...</td>\n",
              "      <td>...</td>\n",
              "      <td>...</td>\n",
              "      <td>...</td>\n",
              "      <td>...</td>\n",
              "      <td>...</td>\n",
              "      <td>...</td>\n",
              "      <td>...</td>\n",
              "      <td>...</td>\n",
              "      <td>...</td>\n",
              "      <td>...</td>\n",
              "      <td>...</td>\n",
              "    </tr>\n",
              "    <tr>\n",
              "      <th>9676</th>\n",
              "      <td>U001</td>\n",
              "      <td>0200769623</td>\n",
              "      <td>WAL-MAR in</td>\n",
              "      <td>2020-03-26 22:16:26.609375000</td>\n",
              "      <td>2020.0</td>\n",
              "      <td>1.930625e+09</td>\n",
              "      <td>2020-03-10</td>\n",
              "      <td>2020-03-25</td>\n",
              "      <td>2020-03-10</td>\n",
              "      <td>NAH4</td>\n",
              "      <td>13114.99</td>\n",
              "      <td>1.0</td>\n",
              "    </tr>\n",
              "    <tr>\n",
              "      <th>9677</th>\n",
              "      <td>U001</td>\n",
              "      <td>0200769623</td>\n",
              "      <td>WAL-MAR corporation</td>\n",
              "      <td>2020-05-19 22:16:26.609375000</td>\n",
              "      <td>2020.0</td>\n",
              "      <td>1.930851e+09</td>\n",
              "      <td>2020-05-03</td>\n",
              "      <td>2020-05-18</td>\n",
              "      <td>2020-05-03</td>\n",
              "      <td>NAH4</td>\n",
              "      <td>8899.71</td>\n",
              "      <td>1.0</td>\n",
              "    </tr>\n",
              "    <tr>\n",
              "      <th>9678</th>\n",
              "      <td>U001</td>\n",
              "      <td>0200148860</td>\n",
              "      <td>DOLLA co</td>\n",
              "      <td>2020-03-23 10:27:25.406250000</td>\n",
              "      <td>2020.0</td>\n",
              "      <td>1.930638e+09</td>\n",
              "      <td>2020-03-11</td>\n",
              "      <td>2020-03-26</td>\n",
              "      <td>2020-03-11</td>\n",
              "      <td>NAA8</td>\n",
              "      <td>4967.06</td>\n",
              "      <td>-3.0</td>\n",
              "    </tr>\n",
              "    <tr>\n",
              "      <th>9679</th>\n",
              "      <td>U001</td>\n",
              "      <td>0200900909</td>\n",
              "      <td>SYSCO co</td>\n",
              "      <td>2020-04-11 11:01:32.562500000</td>\n",
              "      <td>2020.0</td>\n",
              "      <td>1.930702e+09</td>\n",
              "      <td>2020-03-25</td>\n",
              "      <td>2020-04-09</td>\n",
              "      <td>2020-03-25</td>\n",
              "      <td>NAA8</td>\n",
              "      <td>1998.64</td>\n",
              "      <td>2.0</td>\n",
              "    </tr>\n",
              "    <tr>\n",
              "      <th>9680</th>\n",
              "      <td>U001</td>\n",
              "      <td>0200561861</td>\n",
              "      <td>CO corporation</td>\n",
              "      <td>2020-05-05 18:34:05.427734375</td>\n",
              "      <td>2020.0</td>\n",
              "      <td>1.930797e+09</td>\n",
              "      <td>2020-04-21</td>\n",
              "      <td>2020-05-06</td>\n",
              "      <td>2020-04-21</td>\n",
              "      <td>NAA8</td>\n",
              "      <td>3187.86</td>\n",
              "      <td>-1.0</td>\n",
              "    </tr>\n",
              "  </tbody>\n",
              "</table>\n",
              "<p>9681 rows × 12 columns</p>\n",
              "</div>\n",
              "      <button class=\"colab-df-convert\" onclick=\"convertToInteractive('df-8eeaad5d-7420-4229-848c-d46fa397f673')\"\n",
              "              title=\"Convert this dataframe to an interactive table.\"\n",
              "              style=\"display:none;\">\n",
              "        \n",
              "  <svg xmlns=\"http://www.w3.org/2000/svg\" height=\"24px\"viewBox=\"0 0 24 24\"\n",
              "       width=\"24px\">\n",
              "    <path d=\"M0 0h24v24H0V0z\" fill=\"none\"/>\n",
              "    <path d=\"M18.56 5.44l.94 2.06.94-2.06 2.06-.94-2.06-.94-.94-2.06-.94 2.06-2.06.94zm-11 1L8.5 8.5l.94-2.06 2.06-.94-2.06-.94L8.5 2.5l-.94 2.06-2.06.94zm10 10l.94 2.06.94-2.06 2.06-.94-2.06-.94-.94-2.06-.94 2.06-2.06.94z\"/><path d=\"M17.41 7.96l-1.37-1.37c-.4-.4-.92-.59-1.43-.59-.52 0-1.04.2-1.43.59L10.3 9.45l-7.72 7.72c-.78.78-.78 2.05 0 2.83L4 21.41c.39.39.9.59 1.41.59.51 0 1.02-.2 1.41-.59l7.78-7.78 2.81-2.81c.8-.78.8-2.07 0-2.86zM5.41 20L4 18.59l7.72-7.72 1.47 1.35L5.41 20z\"/>\n",
              "  </svg>\n",
              "      </button>\n",
              "      \n",
              "  <style>\n",
              "    .colab-df-container {\n",
              "      display:flex;\n",
              "      flex-wrap:wrap;\n",
              "      gap: 12px;\n",
              "    }\n",
              "\n",
              "    .colab-df-convert {\n",
              "      background-color: #E8F0FE;\n",
              "      border: none;\n",
              "      border-radius: 50%;\n",
              "      cursor: pointer;\n",
              "      display: none;\n",
              "      fill: #1967D2;\n",
              "      height: 32px;\n",
              "      padding: 0 0 0 0;\n",
              "      width: 32px;\n",
              "    }\n",
              "\n",
              "    .colab-df-convert:hover {\n",
              "      background-color: #E2EBFA;\n",
              "      box-shadow: 0px 1px 2px rgba(60, 64, 67, 0.3), 0px 1px 3px 1px rgba(60, 64, 67, 0.15);\n",
              "      fill: #174EA6;\n",
              "    }\n",
              "\n",
              "    [theme=dark] .colab-df-convert {\n",
              "      background-color: #3B4455;\n",
              "      fill: #D2E3FC;\n",
              "    }\n",
              "\n",
              "    [theme=dark] .colab-df-convert:hover {\n",
              "      background-color: #434B5C;\n",
              "      box-shadow: 0px 1px 3px 1px rgba(0, 0, 0, 0.15);\n",
              "      filter: drop-shadow(0px 1px 2px rgba(0, 0, 0, 0.3));\n",
              "      fill: #FFFFFF;\n",
              "    }\n",
              "  </style>\n",
              "\n",
              "      <script>\n",
              "        const buttonEl =\n",
              "          document.querySelector('#df-8eeaad5d-7420-4229-848c-d46fa397f673 button.colab-df-convert');\n",
              "        buttonEl.style.display =\n",
              "          google.colab.kernel.accessAllowed ? 'block' : 'none';\n",
              "\n",
              "        async function convertToInteractive(key) {\n",
              "          const element = document.querySelector('#df-8eeaad5d-7420-4229-848c-d46fa397f673');\n",
              "          const dataTable =\n",
              "            await google.colab.kernel.invokeFunction('convertToInteractive',\n",
              "                                                     [key], {});\n",
              "          if (!dataTable) return;\n",
              "\n",
              "          const docLinkHtml = 'Like what you see? Visit the ' +\n",
              "            '<a target=\"_blank\" href=https://colab.research.google.com/notebooks/data_table.ipynb>data table notebook</a>'\n",
              "            + ' to learn more about interactive tables.';\n",
              "          element.innerHTML = '';\n",
              "          dataTable['output_type'] = 'display_data';\n",
              "          await google.colab.output.renderOutput(dataTable, element);\n",
              "          const docLink = document.createElement('div');\n",
              "          docLink.innerHTML = docLinkHtml;\n",
              "          element.appendChild(docLink);\n",
              "        }\n",
              "      </script>\n",
              "    </div>\n",
              "  </div>\n",
              "  "
            ],
            "text/plain": [
              "     business_code cust_number  ... converted_usd avg_delay\n",
              "0             CA02  0140105686  ...       2309.79       5.0\n",
              "1             U001  0200744019  ...      11173.02       2.0\n",
              "2             U001  0200418007  ...       3525.59      -1.0\n",
              "3             U001  0200739534  ...     121105.65       1.0\n",
              "4             U001  0200353024  ...       3726.06      -4.0\n",
              "...            ...         ...  ...           ...       ...\n",
              "9676          U001  0200769623  ...      13114.99       1.0\n",
              "9677          U001  0200769623  ...       8899.71       1.0\n",
              "9678          U001  0200148860  ...       4967.06      -3.0\n",
              "9679          U001  0200900909  ...       1998.64       2.0\n",
              "9680          U001  0200561861  ...       3187.86      -1.0\n",
              "\n",
              "[9681 rows x 12 columns]"
            ]
          },
          "metadata": {},
          "execution_count": 561
        }
      ]
    },
    {
      "cell_type": "markdown",
      "metadata": {
        "id": "815d8811"
      },
      "source": [
        "### Now you need to convert average delay column into bucket\n",
        "\n",
        "- Need to perform binning \n",
        "- create a list of bins i.e. bins= [0,15,30,45,60,100]\n",
        "- create a list of labels i.e. labels = ['0-15','16-30','31-45','46-60','Greatar than 60']\n",
        "- perform binning by using cut() function from \"Final\" dataframe\n",
        "\n",
        "\n",
        "- Please fill up the first two rows of the code"
      ],
      "id": "815d8811"
    },
    {
      "cell_type": "code",
      "execution_count": null,
      "metadata": {
        "id": "c797e4b5"
      },
      "outputs": [],
      "source": [
        "bins= [0,15,30,45,60,100]\n",
        "labels = ['0-15','16-30','31-45','46-60','Greatar than 60']\n",
        "nulldata1['Aging Bucket'] = pd.cut(nulldata1['avg_delay'], bins=bins, labels=labels, right=False)"
      ],
      "id": "c797e4b5"
    },
    {
      "cell_type": "markdown",
      "metadata": {
        "id": "1c35725f"
      },
      "source": [
        "### Now you need to drop \"key_0\" and \"avg_delay\" columns from the \"Final\" Dataframe"
      ],
      "id": "1c35725f"
    },
    {
      "cell_type": "code",
      "execution_count": null,
      "metadata": {
        "id": "b31bc6a3"
      },
      "outputs": [],
      "source": [
        "nulldata1.drop([\"avg_delay\"], axis=1, inplace = True)"
      ],
      "id": "b31bc6a3"
    },
    {
      "cell_type": "markdown",
      "metadata": {
        "id": "Ui-tyIvU0-5u"
      },
      "source": [
        "### Display the count of each categoty of new \"Aging Bucket\" column "
      ],
      "id": "Ui-tyIvU0-5u"
    },
    {
      "cell_type": "code",
      "execution_count": null,
      "metadata": {
        "id": "a6e16218",
        "colab": {
          "base_uri": "https://localhost:8080/"
        },
        "outputId": "c72e4fa8-6b04-4be5-fc2d-87cd990af9a8"
      },
      "outputs": [
        {
          "output_type": "execute_result",
          "data": {
            "text/plain": [
              "0-15               7530\n",
              "31-45                67\n",
              "16-30                 8\n",
              "46-60                 4\n",
              "Greatar than 60       0\n",
              "Name: Aging Bucket, dtype: int64"
            ]
          },
          "metadata": {},
          "execution_count": 565
        }
      ],
      "source": [
        "nulldata1[\"Aging Bucket\"].value_counts()"
      ],
      "id": "a6e16218"
    },
    {
      "cell_type": "markdown",
      "metadata": {
        "id": "kgYegy551GKJ"
      },
      "source": [
        "### Display your final dataset with aging buckets "
      ],
      "id": "kgYegy551GKJ"
    },
    {
      "cell_type": "code",
      "execution_count": null,
      "metadata": {
        "id": "c4bc87ec",
        "colab": {
          "base_uri": "https://localhost:8080/",
          "height": 374
        },
        "outputId": "8748d05a-67c6-471a-88fd-f2f0dd8e2084"
      },
      "outputs": [
        {
          "output_type": "execute_result",
          "data": {
            "text/html": [
              "\n",
              "  <div id=\"df-572eef08-29c9-4c43-a961-725223ebce21\">\n",
              "    <div class=\"colab-df-container\">\n",
              "      <div>\n",
              "<style scoped>\n",
              "    .dataframe tbody tr th:only-of-type {\n",
              "        vertical-align: middle;\n",
              "    }\n",
              "\n",
              "    .dataframe tbody tr th {\n",
              "        vertical-align: top;\n",
              "    }\n",
              "\n",
              "    .dataframe thead th {\n",
              "        text-align: right;\n",
              "    }\n",
              "</style>\n",
              "<table border=\"1\" class=\"dataframe\">\n",
              "  <thead>\n",
              "    <tr style=\"text-align: right;\">\n",
              "      <th></th>\n",
              "      <th>business_code</th>\n",
              "      <th>cust_number</th>\n",
              "      <th>name_customer</th>\n",
              "      <th>clear_date</th>\n",
              "      <th>buisness_year</th>\n",
              "      <th>doc_id</th>\n",
              "      <th>posting_date</th>\n",
              "      <th>due_in_date</th>\n",
              "      <th>baseline_create_date</th>\n",
              "      <th>cust_payment_terms</th>\n",
              "      <th>converted_usd</th>\n",
              "      <th>Aging Bucket</th>\n",
              "    </tr>\n",
              "  </thead>\n",
              "  <tbody>\n",
              "    <tr>\n",
              "      <th>0</th>\n",
              "      <td>CA02</td>\n",
              "      <td>0140105686</td>\n",
              "      <td>SYSC llc</td>\n",
              "      <td>2020-04-15 02:11:21.000000000</td>\n",
              "      <td>2020.0</td>\n",
              "      <td>2.960623e+09</td>\n",
              "      <td>2020-03-30</td>\n",
              "      <td>2020-04-10</td>\n",
              "      <td>2020-03-31</td>\n",
              "      <td>CA10</td>\n",
              "      <td>2309.79</td>\n",
              "      <td>0-15</td>\n",
              "    </tr>\n",
              "    <tr>\n",
              "      <th>1</th>\n",
              "      <td>U001</td>\n",
              "      <td>0200744019</td>\n",
              "      <td>TARG us</td>\n",
              "      <td>2020-04-05 11:20:26.140625000</td>\n",
              "      <td>2020.0</td>\n",
              "      <td>1.930659e+09</td>\n",
              "      <td>2020-03-19</td>\n",
              "      <td>2020-04-03</td>\n",
              "      <td>2020-03-19</td>\n",
              "      <td>NAA8</td>\n",
              "      <td>11173.02</td>\n",
              "      <td>0-15</td>\n",
              "    </tr>\n",
              "    <tr>\n",
              "      <th>2</th>\n",
              "      <td>U001</td>\n",
              "      <td>0200418007</td>\n",
              "      <td>AM</td>\n",
              "      <td>2020-03-25 21:16:51.247070312</td>\n",
              "      <td>2020.0</td>\n",
              "      <td>1.930611e+09</td>\n",
              "      <td>2020-03-11</td>\n",
              "      <td>2020-03-26</td>\n",
              "      <td>2020-03-11</td>\n",
              "      <td>NAA8</td>\n",
              "      <td>3525.59</td>\n",
              "      <td>NaN</td>\n",
              "    </tr>\n",
              "    <tr>\n",
              "      <th>3</th>\n",
              "      <td>U001</td>\n",
              "      <td>0200739534</td>\n",
              "      <td>OK systems</td>\n",
              "      <td>2020-05-01 06:16:39.554687500</td>\n",
              "      <td>2020.0</td>\n",
              "      <td>1.930788e+09</td>\n",
              "      <td>2020-04-15</td>\n",
              "      <td>2020-04-30</td>\n",
              "      <td>2020-04-15</td>\n",
              "      <td>NAA8</td>\n",
              "      <td>121105.65</td>\n",
              "      <td>0-15</td>\n",
              "    </tr>\n",
              "    <tr>\n",
              "      <th>4</th>\n",
              "      <td>U001</td>\n",
              "      <td>0200353024</td>\n",
              "      <td>DECA corporation</td>\n",
              "      <td>2020-04-22 05:58:17.968750000</td>\n",
              "      <td>2020.0</td>\n",
              "      <td>1.930817e+09</td>\n",
              "      <td>2020-04-23</td>\n",
              "      <td>2020-04-26</td>\n",
              "      <td>2020-04-16</td>\n",
              "      <td>NAM2</td>\n",
              "      <td>3726.06</td>\n",
              "      <td>NaN</td>\n",
              "    </tr>\n",
              "  </tbody>\n",
              "</table>\n",
              "</div>\n",
              "      <button class=\"colab-df-convert\" onclick=\"convertToInteractive('df-572eef08-29c9-4c43-a961-725223ebce21')\"\n",
              "              title=\"Convert this dataframe to an interactive table.\"\n",
              "              style=\"display:none;\">\n",
              "        \n",
              "  <svg xmlns=\"http://www.w3.org/2000/svg\" height=\"24px\"viewBox=\"0 0 24 24\"\n",
              "       width=\"24px\">\n",
              "    <path d=\"M0 0h24v24H0V0z\" fill=\"none\"/>\n",
              "    <path d=\"M18.56 5.44l.94 2.06.94-2.06 2.06-.94-2.06-.94-.94-2.06-.94 2.06-2.06.94zm-11 1L8.5 8.5l.94-2.06 2.06-.94-2.06-.94L8.5 2.5l-.94 2.06-2.06.94zm10 10l.94 2.06.94-2.06 2.06-.94-2.06-.94-.94-2.06-.94 2.06-2.06.94z\"/><path d=\"M17.41 7.96l-1.37-1.37c-.4-.4-.92-.59-1.43-.59-.52 0-1.04.2-1.43.59L10.3 9.45l-7.72 7.72c-.78.78-.78 2.05 0 2.83L4 21.41c.39.39.9.59 1.41.59.51 0 1.02-.2 1.41-.59l7.78-7.78 2.81-2.81c.8-.78.8-2.07 0-2.86zM5.41 20L4 18.59l7.72-7.72 1.47 1.35L5.41 20z\"/>\n",
              "  </svg>\n",
              "      </button>\n",
              "      \n",
              "  <style>\n",
              "    .colab-df-container {\n",
              "      display:flex;\n",
              "      flex-wrap:wrap;\n",
              "      gap: 12px;\n",
              "    }\n",
              "\n",
              "    .colab-df-convert {\n",
              "      background-color: #E8F0FE;\n",
              "      border: none;\n",
              "      border-radius: 50%;\n",
              "      cursor: pointer;\n",
              "      display: none;\n",
              "      fill: #1967D2;\n",
              "      height: 32px;\n",
              "      padding: 0 0 0 0;\n",
              "      width: 32px;\n",
              "    }\n",
              "\n",
              "    .colab-df-convert:hover {\n",
              "      background-color: #E2EBFA;\n",
              "      box-shadow: 0px 1px 2px rgba(60, 64, 67, 0.3), 0px 1px 3px 1px rgba(60, 64, 67, 0.15);\n",
              "      fill: #174EA6;\n",
              "    }\n",
              "\n",
              "    [theme=dark] .colab-df-convert {\n",
              "      background-color: #3B4455;\n",
              "      fill: #D2E3FC;\n",
              "    }\n",
              "\n",
              "    [theme=dark] .colab-df-convert:hover {\n",
              "      background-color: #434B5C;\n",
              "      box-shadow: 0px 1px 3px 1px rgba(0, 0, 0, 0.15);\n",
              "      filter: drop-shadow(0px 1px 2px rgba(0, 0, 0, 0.3));\n",
              "      fill: #FFFFFF;\n",
              "    }\n",
              "  </style>\n",
              "\n",
              "      <script>\n",
              "        const buttonEl =\n",
              "          document.querySelector('#df-572eef08-29c9-4c43-a961-725223ebce21 button.colab-df-convert');\n",
              "        buttonEl.style.display =\n",
              "          google.colab.kernel.accessAllowed ? 'block' : 'none';\n",
              "\n",
              "        async function convertToInteractive(key) {\n",
              "          const element = document.querySelector('#df-572eef08-29c9-4c43-a961-725223ebce21');\n",
              "          const dataTable =\n",
              "            await google.colab.kernel.invokeFunction('convertToInteractive',\n",
              "                                                     [key], {});\n",
              "          if (!dataTable) return;\n",
              "\n",
              "          const docLinkHtml = 'Like what you see? Visit the ' +\n",
              "            '<a target=\"_blank\" href=https://colab.research.google.com/notebooks/data_table.ipynb>data table notebook</a>'\n",
              "            + ' to learn more about interactive tables.';\n",
              "          element.innerHTML = '';\n",
              "          dataTable['output_type'] = 'display_data';\n",
              "          await google.colab.output.renderOutput(dataTable, element);\n",
              "          const docLink = document.createElement('div');\n",
              "          docLink.innerHTML = docLinkHtml;\n",
              "          element.appendChild(docLink);\n",
              "        }\n",
              "      </script>\n",
              "    </div>\n",
              "  </div>\n",
              "  "
            ],
            "text/plain": [
              "  business_code cust_number  ... converted_usd Aging Bucket\n",
              "0          CA02  0140105686  ...       2309.79         0-15\n",
              "1          U001  0200744019  ...      11173.02         0-15\n",
              "2          U001  0200418007  ...       3525.59          NaN\n",
              "3          U001  0200739534  ...     121105.65         0-15\n",
              "4          U001  0200353024  ...       3726.06          NaN\n",
              "\n",
              "[5 rows x 12 columns]"
            ]
          },
          "metadata": {},
          "execution_count": 566
        }
      ],
      "source": [
        "nulldata1.head()"
      ],
      "id": "c4bc87ec"
    },
    {
      "cell_type": "markdown",
      "metadata": {
        "id": "FK0fabl61SkC"
      },
      "source": [
        "# END OF THE PROJECT"
      ],
      "id": "FK0fabl61SkC"
    }
  ],
  "metadata": {
    "colab": {
      "collapsed_sections": [],
      "name": "HRC82029W_Pallavi_Sidnkar_prediction.ipynb",
      "provenance": [],
      "include_colab_link": true
    },
    "kernelspec": {
      "display_name": "Python 3",
      "language": "python",
      "name": "python3"
    },
    "language_info": {
      "codemirror_mode": {
        "name": "ipython",
        "version": 3
      },
      "file_extension": ".py",
      "mimetype": "text/x-python",
      "name": "python",
      "nbconvert_exporter": "python",
      "pygments_lexer": "ipython3",
      "version": "3.8.8"
    }
  },
  "nbformat": 4,
  "nbformat_minor": 5
}